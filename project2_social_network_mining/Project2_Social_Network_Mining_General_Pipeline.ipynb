{
 "cells": [
  {
   "cell_type": "code",
   "execution_count": 2,
   "metadata": {},
   "outputs": [],
   "source": [
    "import networkx as nx\n",
    "import numpy as np\n",
    "import os\n",
    "import time\n",
    "import pandas as pd\n",
    "import matplotlib.pyplot as plt\n",
    "from itertools import chain\n",
    "from collections import defaultdict\n",
    "from gensim.models import Word2Vec\n",
    "from sklearn.model_selection import KFold\n",
    "from sklearn.metrics import roc_auc_score"
   ]
  },
  {
   "cell_type": "markdown",
   "metadata": {},
   "source": [
    "# Pipeline"
   ]
  },
  {
   "cell_type": "markdown",
   "metadata": {},
   "source": [
    "### Data Loader"
   ]
  },
  {
   "cell_type": "markdown",
   "metadata": {},
   "source": [
    "We need to load networks into memory. Usually networks are organized as pairs of nodes. And sometimes different edges have different weights. Hence, we use networkx.DiGraph to store such structure information and attributes."
   ]
  },
  {
   "cell_type": "code",
   "execution_count": 2,
   "metadata": {},
   "outputs": [],
   "source": [
    "def load_data(file_name):\n",
    "    \"\"\"\n",
    "    read edges from an edge file\n",
    "    \"\"\"\n",
    "    edges = list()\n",
    "    df = pd.read_csv(file_name)\n",
    "    for idx, row in df.iterrows():\n",
    "        user_id, friends = row[\"user_id\"], eval(row[\"friends\"])\n",
    "        for friend in friends:\n",
    "            # add each friend relation as an edge\n",
    "            edges.append((user_id, friend))\n",
    "    edges = sorted(edges)\n",
    "    \n",
    "    return edges\n",
    "\n",
    "def load_test_data(file_name):\n",
    "    \"\"\"\n",
    "    read edges from an edge file\n",
    "    \"\"\"\n",
    "    edges = list()\n",
    "    scores = list()\n",
    "    df = pd.read_csv(file_name)\n",
    "    for idx, row in df.iterrows():\n",
    "        edges.append((row[\"src\"], row[\"dst\"]))\n",
    "        scores.append(row[\"score\"])\n",
    "    #edges = sorted(edges)\n",
    "    \n",
    "    return edges,scores\n",
    "\n",
    "def generate_false_edges(true_edges, num_false_edges=5):\n",
    "    \"\"\"\n",
    "    generate false edges given true edges\n",
    "    \"\"\"\n",
    "    nodes = list(set(chain.from_iterable(true_edges)))\n",
    "    N = len(nodes)\n",
    "    true_edges = set(true_edges)\n",
    "    print(N, len(true_edges))\n",
    "    false_edges = set()\n",
    "    \n",
    "    while len(false_edges) < num_false_edges:\n",
    "        # randomly sample two different nodes and check whether the pair exisit or not\n",
    "        src, dst = nodes[int(np.random.rand() * N)], nodes[int(np.random.rand() * N)]\n",
    "        if src != dst and (src, dst) not in true_edges and (src, dst) not in false_edges:\n",
    "            false_edges.add((src, dst))\n",
    "    false_edges = sorted(false_edges)\n",
    "    \n",
    "    return false_edges\n",
    "\n",
    "def construct_graph_from_edges(edges):\n",
    "    \"\"\"\n",
    "    generate a directed graph object given true edges\n",
    "    DiGraph documentation: https://networkx.github.io/documentation/stable/reference/classes/digraph.html\n",
    "    \"\"\"\n",
    "    # convert a list of edges {(u, v)} to a list of edges with weights {(u, v, w)}\n",
    "    edge_weight = defaultdict(float)\n",
    "    for e in edges:\n",
    "        edge_weight[e] += 1.0\n",
    "    weighed_edge_list = list()\n",
    "    for e in sorted(edge_weight.keys()):\n",
    "        weighed_edge_list.append((e[0], e[1], edge_weight[e]))\n",
    "        \n",
    "    graph = nx.DiGraph()\n",
    "    graph.add_weighted_edges_from(weighed_edge_list)\n",
    "    \n",
    "    print(\"number of nodes:\", graph.number_of_nodes())\n",
    "    print(\"number of edges:\", graph.number_of_edges())\n",
    "    \n",
    "    return graph"
   ]
  },
  {
   "cell_type": "markdown",
   "metadata": {},
   "source": [
    "### Random Walk Generator"
   ]
  },
  {
   "cell_type": "markdown",
   "metadata": {},
   "source": [
    "Random walk generators or random walkers yield random walks that contain both local and higher-order neighborhood information. However, naive non-uniform sampling is very slow, which requires O(n) time complexity. Here alias sampling can reduce the time complexity to O(1) with O(n) space. If you are interested, please see the following blog."
   ]
  },
  {
   "cell_type": "code",
   "execution_count": 3,
   "metadata": {},
   "outputs": [],
   "source": [
    "def alias_setup(probs):\n",
    "    \"\"\"\n",
    "    compute utility lists for non-uniform sampling from discrete distributions.\n",
    "    details: https://lips.cs.princeton.edu/the-alias-method-efficient-sampling-with-many-discrete-outcomes/\n",
    "    \"\"\"\n",
    "    K = len(probs)\n",
    "    q = np.zeros(K)\n",
    "    J = np.zeros(K, dtype=np.int)\n",
    "\n",
    "    smaller = list()\n",
    "    larger = list()\n",
    "    for kk, prob in enumerate(probs):\n",
    "        q[kk] = K * prob\n",
    "        if q[kk] < 1.0:\n",
    "            smaller.append(kk)\n",
    "        else:\n",
    "            larger.append(kk)\n",
    "\n",
    "    while len(smaller) > 0 and len(larger) > 0:\n",
    "        small = smaller.pop()\n",
    "        large = larger.pop()\n",
    "\n",
    "        J[small] = large\n",
    "        q[large] = q[large] + q[small] - 1.0\n",
    "        if q[large] < 1.0:\n",
    "            smaller.append(large)\n",
    "        else:\n",
    "            larger.append(large)\n",
    "\n",
    "    return J, q\n",
    "\n",
    "def get_alias_node(graph, node):\n",
    "    \"\"\"\n",
    "    get the alias node setup lists for a given node.\n",
    "    \"\"\"\n",
    "    # get the unnormalized probabilities with the first-order information\n",
    "    unnormalized_probs = list()\n",
    "    for nbr in graph.neighbors(node):\n",
    "        unnormalized_probs.append(graph[node][nbr][\"weight\"])\n",
    "    unnormalized_probs = np.array(unnormalized_probs)\n",
    "    if len(unnormalized_probs) > 0:\n",
    "        normalized_probs = unnormalized_probs / unnormalized_probs.sum()\n",
    "    else:\n",
    "        normalized_probs = unnormalized_probs\n",
    "        \n",
    "    return alias_setup(normalized_probs)\n",
    "    \n",
    "def get_alias_edge(graph, src, dst, p=1, q=1):\n",
    "    \"\"\"\n",
    "    get the alias edge setup lists for a given edge.\n",
    "    \"\"\"\n",
    "    # get the unnormalized probabilities with the second-order information\n",
    "    unnormalized_probs = list()\n",
    "    for dst_nbr in graph.neighbors(dst):\n",
    "        if dst_nbr == src: # distance is 0\n",
    "            unnormalized_probs.append(graph[dst][dst_nbr][\"weight\"]/p)\n",
    "        elif graph.has_edge(dst_nbr, src): # distance is 1\n",
    "            unnormalized_probs.append(graph[dst][dst_nbr][\"weight\"])\n",
    "        else: # distance is 2\n",
    "            unnormalized_probs.append(graph[dst][dst_nbr][\"weight\"]/q)\n",
    "    unnormalized_probs = np.array(unnormalized_probs)\n",
    "    if len(unnormalized_probs) > 0:\n",
    "        normalized_probs = unnormalized_probs / unnormalized_probs.sum()\n",
    "    else:\n",
    "        normalized_probs = unnormalized_probs\n",
    "\n",
    "    return alias_setup(normalized_probs)\n",
    "\n",
    "def preprocess_transition_probs(graph, p=1, q=1):\n",
    "    \"\"\"\n",
    "    preprocess transition probabilities for guiding the random walks.\n",
    "    \"\"\"\n",
    "    alias_nodes = dict()\n",
    "    for node in graph.nodes():\n",
    "        alias_nodes[node] = get_alias_node(graph, node)\n",
    "\n",
    "    alias_edges = dict()\n",
    "    for edge in graph.edges():\n",
    "        alias_edges[edge] = get_alias_edge(graph, edge[0], edge[1], p=p, q=q)\n",
    "\n",
    "    return alias_nodes, alias_edges"
   ]
  },
  {
   "cell_type": "markdown",
   "metadata": {},
   "source": [
    "The difference between DeepWalk and node2vec is how to generate random walks. The former only consider the first-order information while the latter also involves the second-order information."
   ]
  },
  {
   "cell_type": "code",
   "execution_count": 4,
   "metadata": {},
   "outputs": [],
   "source": [
    "def alias_draw(J, q):\n",
    "    \"\"\"\n",
    "    draw sample from a non-uniform discrete distribution using alias sampling.\n",
    "    \"\"\"\n",
    "    K = len(J)\n",
    "\n",
    "    kk = int(np.floor(np.random.rand() * K))\n",
    "    if np.random.rand() < q[kk]:\n",
    "        return kk\n",
    "    else:\n",
    "        return J[kk]\n",
    "\n",
    "\n",
    "# helper function to generate the long random walk as desired\n",
    "def fallback(walk, fetch_last_num=1):\n",
    "    if len(walk) > fetch_last_num:\n",
    "        walk.pop()\n",
    "        fetched = []\n",
    "        for i in range(fetch_last_num):\n",
    "            fetched.append(walk[-1-i])\n",
    "        return walk, fetched\n",
    "    else:\n",
    "        return [], [None for _ in range(fetch_last_num)]\n",
    "\n",
    "def generate_first_order_random_walk(graph, alias_nodes, \n",
    "                                     walk_length=10, start_node=None, verbose=False, max_trails=10):\n",
    "    \"\"\"\n",
    "    simulate a random walk starting from start node and considering the first order information.\n",
    "    max_trials: set the max trials to be one for standard random walk. Larger max_trails will make the generated biased.\n",
    "    \"\"\"\n",
    "    if start_node == None:\n",
    "        start_node = np.random.choice(graph.nodes())\n",
    "    walk = [start_node]\n",
    "    cur = start_node\n",
    "    num_tried = 0\n",
    "    \n",
    "    ########## begin ##########\n",
    "    while len(walk) < walk_length:\n",
    "        cur_nbrs = list(graph.neighbors(cur))\n",
    "        if len(cur_nbrs) > 0: # if we can sample next nodes\n",
    "            # sample the next node based on alias_nodes\n",
    "            cur = cur_nbrs[alias_draw(*alias_nodes[cur])]\n",
    "            walk.append(cur)\n",
    "        else: # if we can't do that\n",
    "            num_tried += 1\n",
    "            if num_tried >= max_trails:\n",
    "                break\n",
    "\n",
    "            walk, fetched = fallback(walk, fetch_last_num=1)\n",
    "            cur = fetched[0]\n",
    "            if len(walk) == 0: # if falls back to the empty walk\n",
    "                start_node = np.random.choice(graph.nodes())\n",
    "                walk = [start_node]\n",
    "                cur = start_node\n",
    "    ########## end ##########\n",
    "\n",
    "    if verbose: \n",
    "        print(f'walk of lenght {len(walk)} generated with {num_tried} trails')\n",
    "    return walk\n",
    "    \n",
    "def generate_second_order_random_walk(graph, alias_nodes, alias_edges, \n",
    "                                      walk_length=10, start_node=None, verbose=False, max_trails=10):\n",
    "    \"\"\"\n",
    "    simulate a random walk starting from start node and considering the second order information.\n",
    "    \"\"\"\n",
    "    if start_node == None:\n",
    "        start_node = np.random.choice(graph.nodes())\n",
    "    walk = [start_node]\n",
    "    \n",
    "    prev = None\n",
    "    cur = start_node\n",
    "    num_tried = 0\n",
    "\n",
    "    ########## begin ##########\n",
    "    while len(walk) < walk_length:\n",
    "        cur_nbrs = list(graph.neighbors(cur))\n",
    "        if len(cur_nbrs) > 0:\n",
    "            if prev is None:\n",
    "                # sample the next node based on alias_nodes\n",
    "                prev, cur = cur, cur_nbrs[alias_draw(*alias_nodes[cur])]\n",
    "            else:\n",
    "                # sample the next node based on alias_edges\n",
    "                prev, cur = cur, cur_nbrs[alias_draw(*alias_edges[(prev, cur)])]\n",
    "            walk.append(cur)\n",
    "        else:\n",
    "            num_tried += 1\n",
    "            if num_tried >= max_trails:\n",
    "                break\n",
    "            walk, (cur, prev) = fallback(walk, fetch_last_num=2)\n",
    "            if len(walk) == 0:\n",
    "                start_node = np.random.choice(graph.nodes())\n",
    "                walk = [start_node]\n",
    "                cur = start_node\n",
    "                prev = None\n",
    "    ########## end ##########\n",
    "    if verbose: \n",
    "        print(f'walk of lenght {len(walk)} generated with {num_tried} trails')\n",
    "    return walk"
   ]
  },
  {
   "cell_type": "markdown",
   "metadata": {},
   "source": [
    "### Network Embedding Algorithms"
   ]
  },
  {
   "cell_type": "code",
   "execution_count": 5,
   "metadata": {},
   "outputs": [],
   "source": [
    "def build_deepwalk(graph, alias_nodes, node_dim=10, num_walks=10, walk_length=10):\n",
    "    \"\"\"\n",
    "    build a deepwalk model\n",
    "    \"\"\"\n",
    "    print(\"building a DeepWalk model...\", end=\"\\n\")\n",
    "    st = time.time()\n",
    "    np.random.seed(0)\n",
    "    nodes = list(graph.nodes())\n",
    "    walks = list()\n",
    "    # generate random walks\n",
    "    for walk_iter in range(num_walks):\n",
    "        np.random.shuffle(nodes)\n",
    "        for node in nodes:\n",
    "            walks.append(generate_first_order_random_walk(\n",
    "                graph, alias_nodes, walk_length=walk_length, start_node=node))\n",
    "        \n",
    "    walk_lens = [len(w) for w in walks]\n",
    "    if len(walk_lens) > 0:\n",
    "        avg_walk_len = sum(walk_lens) / len(walk_lens)\n",
    "    else:\n",
    "        avg_walk_len = 0.0\n",
    "    print(\"number of walks: %d\\taverage walk length: %.4f\" % (len(walks), avg_walk_len), end=\"\\t\")\n",
    "    \n",
    "    # train a skip-gram model for these walks\n",
    "    model = Word2Vec(walks, vector_size=node_dim, window=3, min_count=0, sg=1, workers=os.cpu_count(), epochs=10)\n",
    "    print(\"training time: %.4f\" % (time.time()-st))\n",
    "    \n",
    "    return model\n",
    "\n",
    "def build_node2vec(graph, alias_nodes, alias_edges, node_dim=10, num_walks=10, walk_length=10):\n",
    "    \"\"\"\n",
    "    build a node2vec model\n",
    "    \"\"\"\n",
    "    print(\"building a node2vec model...\", end=\"\\n\")\n",
    "    st = time.time()\n",
    "    np.random.seed(0)\n",
    "    nodes = list(graph.nodes())\n",
    "    walks = list()\n",
    "    # generate random walks\n",
    "    for walk_iter in range(num_walks):\n",
    "        np.random.shuffle(nodes)\n",
    "        for node in nodes:\n",
    "            walks.append(generate_second_order_random_walk(\n",
    "                graph, alias_nodes, alias_edges, walk_length=walk_length, start_node=node))\n",
    "            \n",
    "    walk_lens = [len(w) for w in walks]\n",
    "    if len(walk_lens) > 0:\n",
    "        avg_walk_len = sum(walk_lens) / len(walk_lens)\n",
    "    else:\n",
    "        avg_walk_len = 0.0    \n",
    "    print(\"number of walks: %d\\taverage walk length: %.4f\" % (len(walks), avg_walk_len), end=\"\\t\")\n",
    "    \n",
    "    # train a skip-gram model for these walks\n",
    "    model = Word2Vec(walks, vector_size=node_dim, window=3, min_count=0, sg=1, workers=os.cpu_count(), epochs=10)\n",
    "    print(\"training time: %.4f\" % (time.time()-st))\n",
    "    \n",
    "    return model"
   ]
  },
  {
   "cell_type": "markdown",
   "metadata": {},
   "source": [
    "### Scorer"
   ]
  },
  {
   "cell_type": "code",
   "execution_count": 6,
   "metadata": {},
   "outputs": [],
   "source": [
    "def get_cosine_sim(model, u, v):\n",
    "    \"\"\"\n",
    "    get the cosine similarity between two nodes\n",
    "    \"\"\"\n",
    "    try:\n",
    "        u = model.wv[u]\n",
    "        v = model.wv[v]\n",
    "        return np.dot(u, v) / (np.linalg.norm(u) * np.linalg.norm(v))\n",
    "    except:\n",
    "        return 0.5\n",
    "\n",
    "def get_auc_score(model, true_edges, false_edges):\n",
    "    \"\"\"\n",
    "    get the auc score\n",
    "    \"\"\"\n",
    "    y_true = [1] * len(true_edges) + [0] * len(false_edges)\n",
    "    \n",
    "    y_score = list()\n",
    "    for e in true_edges:\n",
    "        y_score.append(get_cosine_sim(model, e[0], e[1]))\n",
    "    for e in false_edges:\n",
    "        y_score.append(get_cosine_sim(model, e[0], e[1]))\n",
    "    \n",
    "    return roc_auc_score(y_true, y_score)\n",
    "\n",
    "def get_auc_score_test(model, edges,scores):\n",
    "    \"\"\"\n",
    "    get the auc score\n",
    "    \"\"\"\n",
    "    y_true = scores\n",
    "    \n",
    "    y_score = list()\n",
    "    for e in edges:\n",
    "        y_score.append(get_cosine_sim(model, e[0], e[1]))\n",
    "    \n",
    "    return roc_auc_score(y_true, y_score)\n",
    "\n",
    "\n",
    "def write_pred(file_name, edges, scores):\n",
    "    df = pd.DataFrame()\n",
    "    df[\"src\"] = [e[0] for e in edges]\n",
    "    df[\"dst\"] = [e[1] for e in edges]\n",
    "    df[\"score\"] = scores\n",
    "    df.to_csv(file_name, index=False)\n",
    "    \n",
    "    \n",
    "\n",
    "\n",
    "\n",
    "def write_valid_ans(file_name, edges, scores):\n",
    "    df = pd.DataFrame()\n",
    "    df[\"src\"] = [e[0] for e in edges]\n",
    "    df[\"dst\"] = [e[1] for e in edges]\n",
    "    df[\"score\"] = scores\n",
    "    df.to_csv(file_name, index=False)"
   ]
  },
  {
   "cell_type": "markdown",
   "metadata": {},
   "source": [
    "### Try them over a Real-life Network"
   ]
  },
  {
   "cell_type": "markdown",
   "metadata": {},
   "source": [
    "Firstly, we need to load edges into memory and use the networkx.DiGraph structure to store the graph."
   ]
  },
  {
   "cell_type": "code",
   "execution_count": 7,
   "metadata": {},
   "outputs": [
    {
     "name": "stdout",
     "output_type": "stream",
     "text": [
      "number of nodes: 8334\n",
      "number of edges: 100000\n",
      "8485 119267\n"
     ]
    }
   ],
   "source": [
    "train_file = \"data/train.csv\"\n",
    "valid_file = \"data/valid.csv\"\n",
    "test_file = \"data/test.csv\"\n",
    "\n",
    "np.random.seed(2023)\n",
    "train_edges = load_data(train_file)\n",
    "graph = construct_graph_from_edges(train_edges)\n",
    "valid_edges = load_data(valid_file)\n",
    "false_edges = generate_false_edges(train_edges+valid_edges, 40000-len(valid_edges))\n",
    "test_edges,test_scores = load_test_data(test_file)"
   ]
  },
  {
   "cell_type": "markdown",
   "metadata": {},
   "source": [
    "After that, we can use preprocess transition probabilities with the help of alias sampling."
   ]
  },
  {
   "cell_type": "code",
   "execution_count": 8,
   "metadata": {},
   "outputs": [
    {
     "name": "stderr",
     "output_type": "stream",
     "text": [
      "C:\\Users\\SANGIN_HA\\AppData\\Local\\Temp\\ipykernel_12096\\129575388.py:8: DeprecationWarning: `np.int` is a deprecated alias for the builtin `int`. To silence this warning, use `int` by itself. Doing this will not modify any behavior and is safe. When replacing `np.int`, you may wish to use e.g. `np.int64` or `np.int32` to specify the precision. If you wish to review your current use, check the release note link for additional information.\n",
      "Deprecated in NumPy 1.20; for more details and guidance: https://numpy.org/devdocs/release/1.20.0-notes.html#deprecations\n",
      "  J = np.zeros(K, dtype=np.int)\n"
     ]
    }
   ],
   "source": [
    "alias_nodes, alias_edges = preprocess_transition_probs(graph, p=1, q=1)"
   ]
  },
  {
   "cell_type": "markdown",
   "metadata": {},
   "source": [
    "We can use random walk generators to generate random walks."
   ]
  },
  {
   "cell_type": "markdown",
   "metadata": {},
   "source": [
    "Let's try to generate a first-order random walk and a second-order random walk."
   ]
  },
  {
   "cell_type": "code",
   "execution_count": 9,
   "metadata": {},
   "outputs": [
    {
     "data": {
      "text/plain": [
       "['N6ZTMIue-2b30CJv2tyPGg',\n",
       " 'FaAb-CoKW4xDvLTSPtEbgw',\n",
       " 'Usvn6LvVXlZFcLWqFS-L5g',\n",
       " 'iN7T3vQoC3v_MPs2TzH5Zw',\n",
       " 'MMf0LhEk5tGa1LvN7zcDnA',\n",
       " 'maK3UBQczh33NuDjBYeHrA',\n",
       " 'P2sQVHyHmy4WA0I7NI5hWg',\n",
       " 'PeLGa5vUR8_mcsn-fn42Jg',\n",
       " '5adw7kIif2QalymDFucRLg',\n",
       " 'J9c0XM-wV_KQmtZYxvIFFQ']"
      ]
     },
     "execution_count": 9,
     "metadata": {},
     "output_type": "execute_result"
    }
   ],
   "source": [
    "generate_first_order_random_walk(graph, alias_nodes=alias_nodes,\n",
    "                                 start_node=\"N6ZTMIue-2b30CJv2tyPGg\", walk_length=10)"
   ]
  },
  {
   "cell_type": "code",
   "execution_count": 10,
   "metadata": {},
   "outputs": [
    {
     "data": {
      "text/plain": [
       "['N6ZTMIue-2b30CJv2tyPGg',\n",
       " 'WJKocp9RE0KatUwh3_DkGg',\n",
       " 'gvyYZgFdBbcT3xGjWOvZag',\n",
       " 'rCWrxuRC8_pfagpchtHp6A',\n",
       " 'oWjEjoX_L9HeXnD4bKjw2w',\n",
       " 'rCWrxuRC8_pfagpchtHp6A',\n",
       " 'hrWLrisXtLPPkOSRPYn2WQ',\n",
       " 'Lfv4hefW1VbvaC2gatTFWA',\n",
       " 'ciXjBfJrAEteIKpzZg4I9g',\n",
       " 'H7JLpACO44A3xVXnOt1Z_A']"
      ]
     },
     "execution_count": 10,
     "metadata": {},
     "output_type": "execute_result"
    }
   ],
   "source": [
    "generate_second_order_random_walk(graph, alias_nodes=alias_nodes, alias_edges=alias_edges,\n",
    "                                  start_node=\"N6ZTMIue-2b30CJv2tyPGg\", walk_length=10)"
   ]
  },
  {
   "cell_type": "markdown",
   "metadata": {},
   "source": [
    "And we can build a DeepWalk model and a node2vec model. Here we set p=q=0.5 so that the walker will not go very far away from the start node."
   ]
  },
  {
   "cell_type": "code",
   "execution_count": 11,
   "metadata": {},
   "outputs": [
    {
     "name": "stdout",
     "output_type": "stream",
     "text": [
      "building a DeepWalk model...\n",
      "number of walks: 83340\taverage walk length: 9.9029\ttraining time: 20.9106\n"
     ]
    }
   ],
   "source": [
    "model = build_deepwalk(graph, alias_nodes, node_dim=10, num_walks=10, walk_length=10)"
   ]
  },
  {
   "cell_type": "code",
   "execution_count": 12,
   "metadata": {},
   "outputs": [
    {
     "name": "stdout",
     "output_type": "stream",
     "text": [
      "building a node2vec model...\n",
      "number of walks: 83340\taverage walk length: 9.9900\ttraining time: 24.4580\n"
     ]
    }
   ],
   "source": [
    "model = build_node2vec(graph, alias_nodes, alias_edges, node_dim=10, num_walks=10, walk_length=10)"
   ]
  },
  {
   "cell_type": "markdown",
   "metadata": {},
   "source": [
    "Let's see the node embeddings of three nodes, and cosine similarities of two edges."
   ]
  },
  {
   "cell_type": "code",
   "execution_count": 13,
   "metadata": {},
   "outputs": [
    {
     "name": "stdout",
     "output_type": "stream",
     "text": [
      "node embedding (\"N6ZTMIue-2b30CJv2tyPGg\"): [ 1.7828258   1.4567943   0.85132635  0.25543055  1.0486357   1.1253562\n",
      "  0.52099586  1.4922084  -1.2208858  -0.7225249 ]\n",
      "node embedding (\"N7E-CfqdME28dakWdEKNvw\"): [ 1.1044775   0.4856466   0.9143465   0.4032046   1.3851764   0.26724246\n",
      "  1.3699701   0.5974118  -0.14071926 -0.76233464]\n",
      "node embedding (\"MmlJSLDg-IFaeXb5wdJbgg\"): [ 1.5638978  -1.2588761   0.35911077 -2.307611    0.0284093  -0.0771988\n",
      "  2.7955937  -0.26346782 -1.1695207  -0.61474663]\n",
      "true edge (\"N6ZTMIue-2b30CJv2tyPGg\", \"N7E-CfqdME28dakWdEKNvw\"): 0.7862727\n",
      "false edge (\"N6ZTMIue-2b30CJv2tyPGg\", \"MmlJSLDg-IFaeXb5wdJbgg\"): 0.2253663\n"
     ]
    }
   ],
   "source": [
    "print(\"node embedding (\\\"N6ZTMIue-2b30CJv2tyPGg\\\"):\",\n",
    "      model.wv[\"N6ZTMIue-2b30CJv2tyPGg\"])\n",
    "print(\"node embedding (\\\"N7E-CfqdME28dakWdEKNvw\\\"):\",\n",
    "      model.wv[\"N7E-CfqdME28dakWdEKNvw\"])\n",
    "print(\"node embedding (\\\"MmlJSLDg-IFaeXb5wdJbgg\\\"):\",\n",
    "      model.wv.vectors[model.wv.index_to_key.index(\"MmlJSLDg-IFaeXb5wdJbgg\")])\n",
    "print(\"true edge (\\\"N6ZTMIue-2b30CJv2tyPGg\\\", \\\"N7E-CfqdME28dakWdEKNvw\\\"):\",\n",
    "      get_cosine_sim(model, \"N6ZTMIue-2b30CJv2tyPGg\", \"N7E-CfqdME28dakWdEKNvw\"))\n",
    "print(\"false edge (\\\"N6ZTMIue-2b30CJv2tyPGg\\\", \\\"MmlJSLDg-IFaeXb5wdJbgg\\\"):\",\n",
    "      get_cosine_sim(model, \"N6ZTMIue-2b30CJv2tyPGg\", \"MmlJSLDg-IFaeXb5wdJbgg\"))"
   ]
  },
  {
   "cell_type": "markdown",
   "metadata": {},
   "source": [
    "# Link Prediction"
   ]
  },
  {
   "cell_type": "markdown",
   "metadata": {},
   "source": [
    "We can train the model with different parameters and test the model on the validation set. Please show your parameter search process and analysis in your code, and visualization tools (Heatmap, etc.) are recommended to make your analysis clear."
   ]
  },
  {
   "cell_type": "code",
   "execution_count": 34,
   "metadata": {
    "scrolled": false
   },
   "outputs": [
    {
     "name": "stdout",
     "output_type": "stream",
     "text": [
      "node dim: 10,\tnum_walks: 5,\twalk_length: 10\n",
      "building a DeepWalk model...\n",
      "number of walks: 41670\taverage walk length: 9.9018\ttraining time: 18.4714\n",
      "valid auc: 0.9095\n",
      "node dim: 10,\tnum_walks: 5,\twalk_length: 20\n",
      "building a DeepWalk model...\n",
      "number of walks: 41670\taverage walk length: 19.7629\ttraining time: 19.4895\n",
      "valid auc: 0.9262\n",
      "node dim: 10,\tnum_walks: 5,\twalk_length: 40\n",
      "building a DeepWalk model...\n",
      "number of walks: 41670\taverage walk length: 39.4158\ttraining time: 28.8811\n",
      "valid auc: 0.9280\n",
      "node dim: 10,\tnum_walks: 10,\twalk_length: 10\n",
      "building a DeepWalk model...\n",
      "number of walks: 83340\taverage walk length: 9.9029\ttraining time: 24.6963\n",
      "valid auc: 0.9254\n",
      "node dim: 10,\tnum_walks: 10,\twalk_length: 20\n",
      "building a DeepWalk model...\n",
      "number of walks: 83340\taverage walk length: 19.7629\ttraining time: 35.9000\n",
      "valid auc: 0.9311\n",
      "node dim: 10,\tnum_walks: 10,\twalk_length: 40\n",
      "building a DeepWalk model...\n",
      "number of walks: 83340\taverage walk length: 39.4176\ttraining time: 54.1719\n",
      "valid auc: 0.9288\n",
      "node dim: 10,\tnum_walks: 20,\twalk_length: 10\n",
      "building a DeepWalk model...\n",
      "number of walks: 166680\taverage walk length: 9.9036\ttraining time: 48.0279\n",
      "valid auc: 0.9301\n",
      "node dim: 10,\tnum_walks: 20,\twalk_length: 20\n",
      "building a DeepWalk model...\n",
      "number of walks: 166680\taverage walk length: 19.7638\ttraining time: 74.2058\n",
      "valid auc: 0.9320\n",
      "node dim: 10,\tnum_walks: 20,\twalk_length: 40\n",
      "building a DeepWalk model...\n",
      "number of walks: 166680\taverage walk length: 39.4221\ttraining time: 109.7550\n",
      "valid auc: 0.9273\n",
      "node dim: 10,\tnum_walks: 40,\twalk_length: 10\n",
      "building a DeepWalk model...\n",
      "number of walks: 333360\taverage walk length: 9.9033\ttraining time: 95.4680\n",
      "valid auc: 0.9306\n",
      "node dim: 10,\tnum_walks: 40,\twalk_length: 20\n",
      "building a DeepWalk model...\n",
      "number of walks: 333360\taverage walk length: 19.7652\ttraining time: 135.6360\n",
      "valid auc: 0.9284\n",
      "node dim: 10,\tnum_walks: 40,\twalk_length: 40\n",
      "building a DeepWalk model...\n",
      "number of walks: 333360\taverage walk length: 39.4255\ttraining time: 213.8131\n",
      "valid auc: 0.9242\n"
     ]
    }
   ],
   "source": [
    "np.random.seed(0)\n",
    "\n",
    "node_dim = 10 # TODO\n",
    "num_walks = [5, 10, 20, 40] # TODO\n",
    "walk_length = [10, 20, 40] # TODO\n",
    "\n",
    "deepwalk_auc_scores = dict()\n",
    "for num_walk in num_walks:\n",
    "    for walk in walk_length:\n",
    "        print(\"node dim: %d,\\tnum_walks: %d,\\twalk_length: %d\" % (node_dim, num_walk, walk), end=\"\\n\")\n",
    "        model = build_deepwalk(graph, alias_nodes, \n",
    "                         node_dim=node_dim, num_walks=num_walk, walk_length=walk)\n",
    "        deepwalk_auc_scores[(node_dim, num_walk, walk,'valid')] = get_auc_score(model, valid_edges, false_edges)\n",
    "        print(\"valid auc: %.4f\" % (deepwalk_auc_scores[(node_dim, num_walk, walk,'valid')]))"
   ]
  },
  {
   "cell_type": "code",
   "execution_count": 41,
   "metadata": {},
   "outputs": [
    {
     "data": {
      "text/plain": [
       "Text(0, 0.5, 'num_walks')"
      ]
     },
     "execution_count": 41,
     "metadata": {},
     "output_type": "execute_result"
    },
    {
     "data": {
      "image/png": "[encoded data removed]",
      "text/plain": [
       "<Figure size 600x400 with 2 Axes>"
      ]
     },
     "metadata": {},
     "output_type": "display_data"
    }
   ],
   "source": [
    "plt.figure(figsize=(6, 4))\n",
    "node_dim = 10\n",
    "# you should have an auc score dictionary here.\n",
    "a = np.array([[deepwalk_auc_scores[(node_dim, num_walks, walk_length,'valid')] for walk_length in [10, 20, 40]] for num_walks in [5, 10, 20, 40]])\n",
    "plt.imshow(a, cmap=\"hot\", interpolation=\"nearest\")\n",
    "plt.colorbar()\n",
    "plt.xticks(ticks=[0,1,2], labels=[10, 20, 40])\n",
    "plt.xlabel(\"walk_length\")\n",
    "plt.yticks(ticks=[0,1,2,3], labels=[5, 10, 20, 40])\n",
    "plt.ylabel(\"num_walks\")"
   ]
  },
  {
   "cell_type": "code",
   "execution_count": 41,
   "metadata": {},
   "outputs": [
    {
     "name": "stdout",
     "output_type": "stream",
     "text": [
      "node dim: 10,\tnum_walks: 15,\twalk_length: 15\n",
      "building a DeepWalk model...\n",
      "number of walks: 125010\taverage walk length: 14.8360\ttraining time: 51.0686\n",
      "valid auc: 0.9315\n",
      "node dim: 10,\tnum_walks: 15,\twalk_length: 20\n",
      "building a DeepWalk model...\n",
      "number of walks: 125010\taverage walk length: 19.7636\ttraining time: 56.6202\n",
      "valid auc: 0.9313\n",
      "node dim: 10,\tnum_walks: 15,\twalk_length: 25\n",
      "building a DeepWalk model...\n",
      "number of walks: 125010\taverage walk length: 24.6873\ttraining time: 65.5957\n",
      "valid auc: 0.9295\n",
      "node dim: 10,\tnum_walks: 15,\twalk_length: 30\n",
      "building a DeepWalk model...\n",
      "number of walks: 125010\taverage walk length: 29.6029\ttraining time: 70.8716\n",
      "valid auc: 0.9294\n",
      "node dim: 10,\tnum_walks: 20,\twalk_length: 15\n",
      "building a DeepWalk model...\n",
      "number of walks: 166680\taverage walk length: 14.8371\ttraining time: 62.5741\n",
      "valid auc: 0.9318\n",
      "node dim: 10,\tnum_walks: 20,\twalk_length: 20\n",
      "building a DeepWalk model...\n",
      "number of walks: 166680\taverage walk length: 19.7638\ttraining time: 71.6649\n",
      "valid auc: 0.9318\n",
      "node dim: 10,\tnum_walks: 20,\twalk_length: 25\n",
      "building a DeepWalk model...\n",
      "number of walks: 166680\taverage walk length: 24.6873\ttraining time: 82.1335\n",
      "valid auc: 0.9294\n",
      "node dim: 10,\tnum_walks: 20,\twalk_length: 30\n",
      "building a DeepWalk model...\n",
      "number of walks: 166680\taverage walk length: 29.6016\ttraining time: 91.1037\n",
      "valid auc: 0.9280\n",
      "node dim: 10,\tnum_walks: 25,\twalk_length: 15\n",
      "building a DeepWalk model...\n",
      "number of walks: 208350\taverage walk length: 14.8359\ttraining time: 82.7731\n",
      "valid auc: 0.9319\n",
      "node dim: 10,\tnum_walks: 25,\twalk_length: 20\n",
      "building a DeepWalk model...\n",
      "number of walks: 208350\taverage walk length: 19.7647\ttraining time: 96.4258\n",
      "valid auc: 0.9303\n",
      "node dim: 10,\tnum_walks: 25,\twalk_length: 25\n",
      "building a DeepWalk model...\n",
      "number of walks: 208350\taverage walk length: 24.6867\ttraining time: 105.4377\n",
      "valid auc: 0.9293\n",
      "node dim: 10,\tnum_walks: 25,\twalk_length: 30\n",
      "building a DeepWalk model...\n",
      "number of walks: 208350\taverage walk length: 29.6028\ttraining time: 115.5546\n",
      "valid auc: 0.9274\n",
      "node dim: 10,\tnum_walks: 30,\twalk_length: 15\n",
      "building a DeepWalk model...\n",
      "number of walks: 250020\taverage walk length: 14.8357\ttraining time: 93.2488\n",
      "valid auc: 0.9308\n",
      "node dim: 10,\tnum_walks: 30,\twalk_length: 20\n",
      "building a DeepWalk model...\n",
      "number of walks: 250020\taverage walk length: 19.7644\ttraining time: 108.8419\n",
      "valid auc: 0.9289\n",
      "node dim: 10,\tnum_walks: 30,\twalk_length: 25\n",
      "building a DeepWalk model...\n",
      "number of walks: 250020\taverage walk length: 24.6855\ttraining time: 120.1378\n",
      "valid auc: 0.9287\n",
      "node dim: 10,\tnum_walks: 30,\twalk_length: 30\n",
      "building a DeepWalk model...\n",
      "number of walks: 250020\taverage walk length: 29.6039\ttraining time: 219.1351\n",
      "valid auc: 0.9283\n"
     ]
    }
   ],
   "source": [
    "np.random.seed(0)\n",
    "\n",
    "node_dim = 10 # TODO\n",
    "num_walks = [15, 20, 25, 30] # TODO\n",
    "walk_length = [15, 20, 25, 30] # TODO\n",
    "\n",
    "deepwalk_auc_scores = dict()\n",
    "for num_walk in num_walks:\n",
    "    for walk in walk_length:\n",
    "        print(\"node dim: %d,\\tnum_walks: %d,\\twalk_length: %d\" % (node_dim, num_walk, walk), end=\"\\n\")\n",
    "        model = build_deepwalk(graph, alias_nodes, \n",
    "                         node_dim=node_dim, num_walks=num_walk, walk_length=walk)\n",
    "        deepwalk_auc_scores[(node_dim, num_walk, walk,'valid')] = get_auc_score(model, valid_edges, false_edges)\n",
    "        print(\"valid auc: %.4f\" % (deepwalk_auc_scores[(node_dim, num_walk, walk,'valid')]))"
   ]
  },
  {
   "cell_type": "code",
   "execution_count": 58,
   "metadata": {},
   "outputs": [],
   "source": [
    "num_walks_values = [15, 20, 25, 30]\n",
    "walk_length_values = [15, 20, 25, 30]\n",
    "def corr_heatmap1():\n",
    "    # Create figure and axes objects\n",
    "    fig, ax1 = plt.subplots(1, 1, figsize=(13, 4))\n",
    "    # Create heatmap 1\n",
    "    a1 = np.array([deepwalk_auc_scores[(node_dim, num_walks, walk_length, 'valid')] for num_walks in num_walks_values for walk_length in walk_length_values])\n",
    "    a1 = a1.reshape(4, 4)\n",
    "    im1 = ax1.imshow(a1, cmap=\"coolwarm\", interpolation=\"nearest\")\n",
    "\n",
    "    # Add colorbars\n",
    "    cbar1 = ax1.figure.colorbar(im1, ax=ax1)\n",
    "    cbar1.ax.set_ylabel(\"AUC score\", rotation=-90, va=\"bottom\")\n",
    "\n",
    "    # Add annotations to heatmap 1\n",
    "    for i in range(len(num_walks_values)):\n",
    "        for j in range(len(walk_length_values)):\n",
    "            text = ax1.text(j, i, \"{:.4f}\".format(a1[i, j]), ha=\"center\", va=\"center\", color=\"black\")\n",
    "\n",
    "    # Set axis labels and tick marks for heatmap 1\n",
    "    ax1.set_yticks(np.arange(len(num_walks_values)))\n",
    "    ax1.set_xticks(np.arange(len(walk_length_values)))\n",
    "    ax1.set_yticklabels(num_walks_values)\n",
    "    ax1.set_xticklabels(walk_length_values)\n",
    "    ax1.set_xlabel(\"Walk length\")\n",
    "    ax1.set_ylabel(\"Number of walks\")\n",
    "\n",
    "    # Rotate tick labels on y-axis\n",
    "    plt.setp(ax1.get_yticklabels(), rotation=0, ha=\"right\", rotation_mode=\"anchor\")\n",
    "\n",
    "    # Show plot\n",
    "    plt.show()"
   ]
  },
  {
   "cell_type": "code",
   "execution_count": 59,
   "metadata": {},
   "outputs": [
    {
     "data": {
      "image/png": "[encoded data removed]",
      "text/plain": [
       "<Figure size 1300x400 with 2 Axes>"
      ]
     },
     "metadata": {},
     "output_type": "display_data"
    }
   ],
   "source": [
    "corr_heatmap1()"
   ]
  },
  {
   "cell_type": "code",
   "execution_count": 14,
   "metadata": {
    "scrolled": false
   },
   "outputs": [
    {
     "name": "stdout",
     "output_type": "stream",
     "text": [
      "node dim: 10,\tnum_walks: 5,\twalk_length: 10,\tp: 0.25,\tq: 0.25\n"
     ]
    },
    {
     "name": "stderr",
     "output_type": "stream",
     "text": [
      "C:\\Users\\SANGIN_HA\\AppData\\Local\\Temp\\ipykernel_12096\\129575388.py:8: DeprecationWarning: `np.int` is a deprecated alias for the builtin `int`. To silence this warning, use `int` by itself. Doing this will not modify any behavior and is safe. When replacing `np.int`, you may wish to use e.g. `np.int64` or `np.int32` to specify the precision. If you wish to review your current use, check the release note link for additional information.\n",
      "Deprecated in NumPy 1.20; for more details and guidance: https://numpy.org/devdocs/release/1.20.0-notes.html#deprecations\n",
      "  J = np.zeros(K, dtype=np.int)\n"
     ]
    },
    {
     "name": "stdout",
     "output_type": "stream",
     "text": [
      "building a node2vec model...\n",
      "number of walks: 41670\taverage walk length: 9.9928\ttraining time: 13.9138\n",
      "valid auc: 0.9147\n",
      "node dim: 10,\tnum_walks: 5,\twalk_length: 10,\tp: 0.25,\tq: 0.50\n"
     ]
    },
    {
     "name": "stderr",
     "output_type": "stream",
     "text": [
      "C:\\Users\\SANGIN_HA\\AppData\\Local\\Temp\\ipykernel_12096\\129575388.py:8: DeprecationWarning: `np.int` is a deprecated alias for the builtin `int`. To silence this warning, use `int` by itself. Doing this will not modify any behavior and is safe. When replacing `np.int`, you may wish to use e.g. `np.int64` or `np.int32` to specify the precision. If you wish to review your current use, check the release note link for additional information.\n",
      "Deprecated in NumPy 1.20; for more details and guidance: https://numpy.org/devdocs/release/1.20.0-notes.html#deprecations\n",
      "  J = np.zeros(K, dtype=np.int)\n"
     ]
    },
    {
     "name": "stdout",
     "output_type": "stream",
     "text": [
      "building a node2vec model...\n",
      "number of walks: 41670\taverage walk length: 9.9906\ttraining time: 15.0834\n",
      "valid auc: 0.9158\n",
      "node dim: 10,\tnum_walks: 5,\twalk_length: 10,\tp: 0.25,\tq: 0.75\n"
     ]
    },
    {
     "name": "stderr",
     "output_type": "stream",
     "text": [
      "C:\\Users\\SANGIN_HA\\AppData\\Local\\Temp\\ipykernel_12096\\129575388.py:8: DeprecationWarning: `np.int` is a deprecated alias for the builtin `int`. To silence this warning, use `int` by itself. Doing this will not modify any behavior and is safe. When replacing `np.int`, you may wish to use e.g. `np.int64` or `np.int32` to specify the precision. If you wish to review your current use, check the release note link for additional information.\n",
      "Deprecated in NumPy 1.20; for more details and guidance: https://numpy.org/devdocs/release/1.20.0-notes.html#deprecations\n",
      "  J = np.zeros(K, dtype=np.int)\n"
     ]
    },
    {
     "name": "stdout",
     "output_type": "stream",
     "text": [
      "building a node2vec model...\n",
      "number of walks: 41670\taverage walk length: 9.9923\ttraining time: 13.9091\n",
      "valid auc: 0.9184\n",
      "node dim: 10,\tnum_walks: 5,\twalk_length: 10,\tp: 0.50,\tq: 0.25\n"
     ]
    },
    {
     "name": "stderr",
     "output_type": "stream",
     "text": [
      "C:\\Users\\SANGIN_HA\\AppData\\Local\\Temp\\ipykernel_12096\\129575388.py:8: DeprecationWarning: `np.int` is a deprecated alias for the builtin `int`. To silence this warning, use `int` by itself. Doing this will not modify any behavior and is safe. When replacing `np.int`, you may wish to use e.g. `np.int64` or `np.int32` to specify the precision. If you wish to review your current use, check the release note link for additional information.\n",
      "Deprecated in NumPy 1.20; for more details and guidance: https://numpy.org/devdocs/release/1.20.0-notes.html#deprecations\n",
      "  J = np.zeros(K, dtype=np.int)\n"
     ]
    },
    {
     "name": "stdout",
     "output_type": "stream",
     "text": [
      "building a node2vec model...\n",
      "number of walks: 41670\taverage walk length: 9.9882\ttraining time: 13.2218\n",
      "valid auc: 0.9138\n",
      "node dim: 10,\tnum_walks: 5,\twalk_length: 10,\tp: 0.50,\tq: 0.50\n"
     ]
    },
    {
     "name": "stderr",
     "output_type": "stream",
     "text": [
      "C:\\Users\\SANGIN_HA\\AppData\\Local\\Temp\\ipykernel_12096\\129575388.py:8: DeprecationWarning: `np.int` is a deprecated alias for the builtin `int`. To silence this warning, use `int` by itself. Doing this will not modify any behavior and is safe. When replacing `np.int`, you may wish to use e.g. `np.int64` or `np.int32` to specify the precision. If you wish to review your current use, check the release note link for additional information.\n",
      "Deprecated in NumPy 1.20; for more details and guidance: https://numpy.org/devdocs/release/1.20.0-notes.html#deprecations\n",
      "  J = np.zeros(K, dtype=np.int)\n"
     ]
    },
    {
     "name": "stdout",
     "output_type": "stream",
     "text": [
      "building a node2vec model...\n",
      "number of walks: 41670\taverage walk length: 9.9905\ttraining time: 17.4284\n",
      "valid auc: 0.9130\n",
      "node dim: 10,\tnum_walks: 5,\twalk_length: 10,\tp: 0.50,\tq: 0.75\n"
     ]
    },
    {
     "name": "stderr",
     "output_type": "stream",
     "text": [
      "C:\\Users\\SANGIN_HA\\AppData\\Local\\Temp\\ipykernel_12096\\129575388.py:8: DeprecationWarning: `np.int` is a deprecated alias for the builtin `int`. To silence this warning, use `int` by itself. Doing this will not modify any behavior and is safe. When replacing `np.int`, you may wish to use e.g. `np.int64` or `np.int32` to specify the precision. If you wish to review your current use, check the release note link for additional information.\n",
      "Deprecated in NumPy 1.20; for more details and guidance: https://numpy.org/devdocs/release/1.20.0-notes.html#deprecations\n",
      "  J = np.zeros(K, dtype=np.int)\n"
     ]
    },
    {
     "name": "stdout",
     "output_type": "stream",
     "text": [
      "building a node2vec model...\n",
      "number of walks: 41670\taverage walk length: 9.9907\ttraining time: 20.0374\n",
      "valid auc: 0.9145\n",
      "node dim: 10,\tnum_walks: 5,\twalk_length: 10,\tp: 0.75,\tq: 0.25\n"
     ]
    },
    {
     "name": "stderr",
     "output_type": "stream",
     "text": [
      "C:\\Users\\SANGIN_HA\\AppData\\Local\\Temp\\ipykernel_12096\\129575388.py:8: DeprecationWarning: `np.int` is a deprecated alias for the builtin `int`. To silence this warning, use `int` by itself. Doing this will not modify any behavior and is safe. When replacing `np.int`, you may wish to use e.g. `np.int64` or `np.int32` to specify the precision. If you wish to review your current use, check the release note link for additional information.\n",
      "Deprecated in NumPy 1.20; for more details and guidance: https://numpy.org/devdocs/release/1.20.0-notes.html#deprecations\n",
      "  J = np.zeros(K, dtype=np.int)\n"
     ]
    },
    {
     "name": "stdout",
     "output_type": "stream",
     "text": [
      "building a node2vec model...\n",
      "number of walks: 41670\taverage walk length: 9.9866\ttraining time: 15.8593\n",
      "valid auc: 0.9134\n",
      "node dim: 10,\tnum_walks: 5,\twalk_length: 10,\tp: 0.75,\tq: 0.50\n"
     ]
    },
    {
     "name": "stderr",
     "output_type": "stream",
     "text": [
      "C:\\Users\\SANGIN_HA\\AppData\\Local\\Temp\\ipykernel_12096\\129575388.py:8: DeprecationWarning: `np.int` is a deprecated alias for the builtin `int`. To silence this warning, use `int` by itself. Doing this will not modify any behavior and is safe. When replacing `np.int`, you may wish to use e.g. `np.int64` or `np.int32` to specify the precision. If you wish to review your current use, check the release note link for additional information.\n",
      "Deprecated in NumPy 1.20; for more details and guidance: https://numpy.org/devdocs/release/1.20.0-notes.html#deprecations\n",
      "  J = np.zeros(K, dtype=np.int)\n"
     ]
    },
    {
     "name": "stdout",
     "output_type": "stream",
     "text": [
      "building a node2vec model...\n",
      "number of walks: 41670\taverage walk length: 9.9920\ttraining time: 15.9484\n",
      "valid auc: 0.9115\n",
      "node dim: 10,\tnum_walks: 5,\twalk_length: 10,\tp: 0.75,\tq: 0.75\n"
     ]
    },
    {
     "name": "stderr",
     "output_type": "stream",
     "text": [
      "C:\\Users\\SANGIN_HA\\AppData\\Local\\Temp\\ipykernel_12096\\129575388.py:8: DeprecationWarning: `np.int` is a deprecated alias for the builtin `int`. To silence this warning, use `int` by itself. Doing this will not modify any behavior and is safe. When replacing `np.int`, you may wish to use e.g. `np.int64` or `np.int32` to specify the precision. If you wish to review your current use, check the release note link for additional information.\n",
      "Deprecated in NumPy 1.20; for more details and guidance: https://numpy.org/devdocs/release/1.20.0-notes.html#deprecations\n",
      "  J = np.zeros(K, dtype=np.int)\n"
     ]
    },
    {
     "name": "stdout",
     "output_type": "stream",
     "text": [
      "building a node2vec model...\n",
      "number of walks: 41670\taverage walk length: 9.9900\ttraining time: 15.6863\n",
      "valid auc: 0.9164\n",
      "node dim: 10,\tnum_walks: 5,\twalk_length: 20,\tp: 0.25,\tq: 0.25\n"
     ]
    },
    {
     "name": "stderr",
     "output_type": "stream",
     "text": [
      "C:\\Users\\SANGIN_HA\\AppData\\Local\\Temp\\ipykernel_12096\\129575388.py:8: DeprecationWarning: `np.int` is a deprecated alias for the builtin `int`. To silence this warning, use `int` by itself. Doing this will not modify any behavior and is safe. When replacing `np.int`, you may wish to use e.g. `np.int64` or `np.int32` to specify the precision. If you wish to review your current use, check the release note link for additional information.\n",
      "Deprecated in NumPy 1.20; for more details and guidance: https://numpy.org/devdocs/release/1.20.0-notes.html#deprecations\n",
      "  J = np.zeros(K, dtype=np.int)\n"
     ]
    },
    {
     "name": "stdout",
     "output_type": "stream",
     "text": [
      "building a node2vec model...\n",
      "number of walks: 41670\taverage walk length: 19.9613\ttraining time: 21.2356\n",
      "valid auc: 0.9270\n",
      "node dim: 10,\tnum_walks: 5,\twalk_length: 20,\tp: 0.25,\tq: 0.50\n"
     ]
    },
    {
     "name": "stderr",
     "output_type": "stream",
     "text": [
      "C:\\Users\\SANGIN_HA\\AppData\\Local\\Temp\\ipykernel_12096\\129575388.py:8: DeprecationWarning: `np.int` is a deprecated alias for the builtin `int`. To silence this warning, use `int` by itself. Doing this will not modify any behavior and is safe. When replacing `np.int`, you may wish to use e.g. `np.int64` or `np.int32` to specify the precision. If you wish to review your current use, check the release note link for additional information.\n",
      "Deprecated in NumPy 1.20; for more details and guidance: https://numpy.org/devdocs/release/1.20.0-notes.html#deprecations\n",
      "  J = np.zeros(K, dtype=np.int)\n"
     ]
    },
    {
     "name": "stdout",
     "output_type": "stream",
     "text": [
      "building a node2vec model...\n",
      "number of walks: 41670\taverage walk length: 19.9649\ttraining time: 20.7895\n",
      "valid auc: 0.9278\n",
      "node dim: 10,\tnum_walks: 5,\twalk_length: 20,\tp: 0.25,\tq: 0.75\n"
     ]
    },
    {
     "name": "stderr",
     "output_type": "stream",
     "text": [
      "C:\\Users\\SANGIN_HA\\AppData\\Local\\Temp\\ipykernel_12096\\129575388.py:8: DeprecationWarning: `np.int` is a deprecated alias for the builtin `int`. To silence this warning, use `int` by itself. Doing this will not modify any behavior and is safe. When replacing `np.int`, you may wish to use e.g. `np.int64` or `np.int32` to specify the precision. If you wish to review your current use, check the release note link for additional information.\n",
      "Deprecated in NumPy 1.20; for more details and guidance: https://numpy.org/devdocs/release/1.20.0-notes.html#deprecations\n",
      "  J = np.zeros(K, dtype=np.int)\n"
     ]
    },
    {
     "name": "stdout",
     "output_type": "stream",
     "text": [
      "building a node2vec model...\n",
      "number of walks: 41670\taverage walk length: 19.9670\ttraining time: 21.1810\n",
      "valid auc: 0.9276\n",
      "node dim: 10,\tnum_walks: 5,\twalk_length: 20,\tp: 0.50,\tq: 0.25\n"
     ]
    },
    {
     "name": "stderr",
     "output_type": "stream",
     "text": [
      "C:\\Users\\SANGIN_HA\\AppData\\Local\\Temp\\ipykernel_12096\\129575388.py:8: DeprecationWarning: `np.int` is a deprecated alias for the builtin `int`. To silence this warning, use `int` by itself. Doing this will not modify any behavior and is safe. When replacing `np.int`, you may wish to use e.g. `np.int64` or `np.int32` to specify the precision. If you wish to review your current use, check the release note link for additional information.\n",
      "Deprecated in NumPy 1.20; for more details and guidance: https://numpy.org/devdocs/release/1.20.0-notes.html#deprecations\n",
      "  J = np.zeros(K, dtype=np.int)\n"
     ]
    },
    {
     "name": "stdout",
     "output_type": "stream",
     "text": [
      "building a node2vec model...\n",
      "number of walks: 41670\taverage walk length: 19.9464\ttraining time: 26.1572\n",
      "valid auc: 0.9287\n",
      "node dim: 10,\tnum_walks: 5,\twalk_length: 20,\tp: 0.50,\tq: 0.50\n"
     ]
    },
    {
     "name": "stderr",
     "output_type": "stream",
     "text": [
      "C:\\Users\\SANGIN_HA\\AppData\\Local\\Temp\\ipykernel_12096\\129575388.py:8: DeprecationWarning: `np.int` is a deprecated alias for the builtin `int`. To silence this warning, use `int` by itself. Doing this will not modify any behavior and is safe. When replacing `np.int`, you may wish to use e.g. `np.int64` or `np.int32` to specify the precision. If you wish to review your current use, check the release note link for additional information.\n",
      "Deprecated in NumPy 1.20; for more details and guidance: https://numpy.org/devdocs/release/1.20.0-notes.html#deprecations\n",
      "  J = np.zeros(K, dtype=np.int)\n"
     ]
    },
    {
     "name": "stdout",
     "output_type": "stream",
     "text": [
      "building a node2vec model...\n",
      "number of walks: 41670\taverage walk length: 19.9569\ttraining time: 22.4591\n",
      "valid auc: 0.9279\n",
      "node dim: 10,\tnum_walks: 5,\twalk_length: 20,\tp: 0.50,\tq: 0.75\n"
     ]
    },
    {
     "name": "stderr",
     "output_type": "stream",
     "text": [
      "C:\\Users\\SANGIN_HA\\AppData\\Local\\Temp\\ipykernel_12096\\129575388.py:8: DeprecationWarning: `np.int` is a deprecated alias for the builtin `int`. To silence this warning, use `int` by itself. Doing this will not modify any behavior and is safe. When replacing `np.int`, you may wish to use e.g. `np.int64` or `np.int32` to specify the precision. If you wish to review your current use, check the release note link for additional information.\n",
      "Deprecated in NumPy 1.20; for more details and guidance: https://numpy.org/devdocs/release/1.20.0-notes.html#deprecations\n",
      "  J = np.zeros(K, dtype=np.int)\n"
     ]
    },
    {
     "name": "stdout",
     "output_type": "stream",
     "text": [
      "building a node2vec model...\n",
      "number of walks: 41670\taverage walk length: 19.9682\ttraining time: 20.7242\n",
      "valid auc: 0.9276\n",
      "node dim: 10,\tnum_walks: 5,\twalk_length: 20,\tp: 0.75,\tq: 0.25\n"
     ]
    },
    {
     "name": "stderr",
     "output_type": "stream",
     "text": [
      "C:\\Users\\SANGIN_HA\\AppData\\Local\\Temp\\ipykernel_12096\\129575388.py:8: DeprecationWarning: `np.int` is a deprecated alias for the builtin `int`. To silence this warning, use `int` by itself. Doing this will not modify any behavior and is safe. When replacing `np.int`, you may wish to use e.g. `np.int64` or `np.int32` to specify the precision. If you wish to review your current use, check the release note link for additional information.\n",
      "Deprecated in NumPy 1.20; for more details and guidance: https://numpy.org/devdocs/release/1.20.0-notes.html#deprecations\n",
      "  J = np.zeros(K, dtype=np.int)\n"
     ]
    },
    {
     "name": "stdout",
     "output_type": "stream",
     "text": [
      "building a node2vec model...\n",
      "number of walks: 41670\taverage walk length: 19.9450\ttraining time: 20.9136\n",
      "valid auc: 0.9272\n",
      "node dim: 10,\tnum_walks: 5,\twalk_length: 20,\tp: 0.75,\tq: 0.50\n"
     ]
    },
    {
     "name": "stderr",
     "output_type": "stream",
     "text": [
      "C:\\Users\\SANGIN_HA\\AppData\\Local\\Temp\\ipykernel_12096\\129575388.py:8: DeprecationWarning: `np.int` is a deprecated alias for the builtin `int`. To silence this warning, use `int` by itself. Doing this will not modify any behavior and is safe. When replacing `np.int`, you may wish to use e.g. `np.int64` or `np.int32` to specify the precision. If you wish to review your current use, check the release note link for additional information.\n",
      "Deprecated in NumPy 1.20; for more details and guidance: https://numpy.org/devdocs/release/1.20.0-notes.html#deprecations\n",
      "  J = np.zeros(K, dtype=np.int)\n"
     ]
    },
    {
     "name": "stdout",
     "output_type": "stream",
     "text": [
      "building a node2vec model...\n",
      "number of walks: 41670\taverage walk length: 19.9593\ttraining time: 20.8346\n",
      "valid auc: 0.9269\n",
      "node dim: 10,\tnum_walks: 5,\twalk_length: 20,\tp: 0.75,\tq: 0.75\n"
     ]
    },
    {
     "name": "stderr",
     "output_type": "stream",
     "text": [
      "C:\\Users\\SANGIN_HA\\AppData\\Local\\Temp\\ipykernel_12096\\129575388.py:8: DeprecationWarning: `np.int` is a deprecated alias for the builtin `int`. To silence this warning, use `int` by itself. Doing this will not modify any behavior and is safe. When replacing `np.int`, you may wish to use e.g. `np.int64` or `np.int32` to specify the precision. If you wish to review your current use, check the release note link for additional information.\n",
      "Deprecated in NumPy 1.20; for more details and guidance: https://numpy.org/devdocs/release/1.20.0-notes.html#deprecations\n",
      "  J = np.zeros(K, dtype=np.int)\n"
     ]
    },
    {
     "name": "stdout",
     "output_type": "stream",
     "text": [
      "building a node2vec model...\n",
      "number of walks: 41670\taverage walk length: 19.9636\ttraining time: 21.4013\n",
      "valid auc: 0.9284\n",
      "node dim: 10,\tnum_walks: 5,\twalk_length: 40,\tp: 0.25,\tq: 0.25\n"
     ]
    },
    {
     "name": "stderr",
     "output_type": "stream",
     "text": [
      "C:\\Users\\SANGIN_HA\\AppData\\Local\\Temp\\ipykernel_12096\\129575388.py:8: DeprecationWarning: `np.int` is a deprecated alias for the builtin `int`. To silence this warning, use `int` by itself. Doing this will not modify any behavior and is safe. When replacing `np.int`, you may wish to use e.g. `np.int64` or `np.int32` to specify the precision. If you wish to review your current use, check the release note link for additional information.\n",
      "Deprecated in NumPy 1.20; for more details and guidance: https://numpy.org/devdocs/release/1.20.0-notes.html#deprecations\n",
      "  J = np.zeros(K, dtype=np.int)\n"
     ]
    },
    {
     "name": "stdout",
     "output_type": "stream",
     "text": [
      "building a node2vec model...\n",
      "number of walks: 41670\taverage walk length: 39.8404\ttraining time: 30.2754\n",
      "valid auc: 0.9297\n",
      "node dim: 10,\tnum_walks: 5,\twalk_length: 40,\tp: 0.25,\tq: 0.50\n"
     ]
    },
    {
     "name": "stderr",
     "output_type": "stream",
     "text": [
      "C:\\Users\\SANGIN_HA\\AppData\\Local\\Temp\\ipykernel_12096\\129575388.py:8: DeprecationWarning: `np.int` is a deprecated alias for the builtin `int`. To silence this warning, use `int` by itself. Doing this will not modify any behavior and is safe. When replacing `np.int`, you may wish to use e.g. `np.int64` or `np.int32` to specify the precision. If you wish to review your current use, check the release note link for additional information.\n",
      "Deprecated in NumPy 1.20; for more details and guidance: https://numpy.org/devdocs/release/1.20.0-notes.html#deprecations\n",
      "  J = np.zeros(K, dtype=np.int)\n"
     ]
    },
    {
     "name": "stdout",
     "output_type": "stream",
     "text": [
      "building a node2vec model...\n",
      "number of walks: 41670\taverage walk length: 39.8759\ttraining time: 30.7618\n",
      "valid auc: 0.9294\n",
      "node dim: 10,\tnum_walks: 5,\twalk_length: 40,\tp: 0.25,\tq: 0.75\n"
     ]
    },
    {
     "name": "stderr",
     "output_type": "stream",
     "text": [
      "C:\\Users\\SANGIN_HA\\AppData\\Local\\Temp\\ipykernel_12096\\129575388.py:8: DeprecationWarning: `np.int` is a deprecated alias for the builtin `int`. To silence this warning, use `int` by itself. Doing this will not modify any behavior and is safe. When replacing `np.int`, you may wish to use e.g. `np.int64` or `np.int32` to specify the precision. If you wish to review your current use, check the release note link for additional information.\n",
      "Deprecated in NumPy 1.20; for more details and guidance: https://numpy.org/devdocs/release/1.20.0-notes.html#deprecations\n",
      "  J = np.zeros(K, dtype=np.int)\n"
     ]
    },
    {
     "name": "stdout",
     "output_type": "stream",
     "text": [
      "building a node2vec model...\n",
      "number of walks: 41670\taverage walk length: 39.8930\ttraining time: 31.3430\n",
      "valid auc: 0.9296\n",
      "node dim: 10,\tnum_walks: 5,\twalk_length: 40,\tp: 0.50,\tq: 0.25\n"
     ]
    },
    {
     "name": "stderr",
     "output_type": "stream",
     "text": [
      "C:\\Users\\SANGIN_HA\\AppData\\Local\\Temp\\ipykernel_12096\\129575388.py:8: DeprecationWarning: `np.int` is a deprecated alias for the builtin `int`. To silence this warning, use `int` by itself. Doing this will not modify any behavior and is safe. When replacing `np.int`, you may wish to use e.g. `np.int64` or `np.int32` to specify the precision. If you wish to review your current use, check the release note link for additional information.\n",
      "Deprecated in NumPy 1.20; for more details and guidance: https://numpy.org/devdocs/release/1.20.0-notes.html#deprecations\n",
      "  J = np.zeros(K, dtype=np.int)\n"
     ]
    },
    {
     "name": "stdout",
     "output_type": "stream",
     "text": [
      "building a node2vec model...\n",
      "number of walks: 41670\taverage walk length: 39.8085\ttraining time: 30.2107\n",
      "valid auc: 0.9291\n",
      "node dim: 10,\tnum_walks: 5,\twalk_length: 40,\tp: 0.50,\tq: 0.50\n"
     ]
    },
    {
     "name": "stderr",
     "output_type": "stream",
     "text": [
      "C:\\Users\\SANGIN_HA\\AppData\\Local\\Temp\\ipykernel_12096\\129575388.py:8: DeprecationWarning: `np.int` is a deprecated alias for the builtin `int`. To silence this warning, use `int` by itself. Doing this will not modify any behavior and is safe. When replacing `np.int`, you may wish to use e.g. `np.int64` or `np.int32` to specify the precision. If you wish to review your current use, check the release note link for additional information.\n",
      "Deprecated in NumPy 1.20; for more details and guidance: https://numpy.org/devdocs/release/1.20.0-notes.html#deprecations\n",
      "  J = np.zeros(K, dtype=np.int)\n"
     ]
    },
    {
     "name": "stdout",
     "output_type": "stream",
     "text": [
      "building a node2vec model...\n",
      "number of walks: 41670\taverage walk length: 39.8374\ttraining time: 29.8243\n",
      "valid auc: 0.9300\n",
      "node dim: 10,\tnum_walks: 5,\twalk_length: 40,\tp: 0.50,\tq: 0.75\n"
     ]
    },
    {
     "name": "stderr",
     "output_type": "stream",
     "text": [
      "C:\\Users\\SANGIN_HA\\AppData\\Local\\Temp\\ipykernel_12096\\129575388.py:8: DeprecationWarning: `np.int` is a deprecated alias for the builtin `int`. To silence this warning, use `int` by itself. Doing this will not modify any behavior and is safe. When replacing `np.int`, you may wish to use e.g. `np.int64` or `np.int32` to specify the precision. If you wish to review your current use, check the release note link for additional information.\n",
      "Deprecated in NumPy 1.20; for more details and guidance: https://numpy.org/devdocs/release/1.20.0-notes.html#deprecations\n",
      "  J = np.zeros(K, dtype=np.int)\n"
     ]
    },
    {
     "name": "stdout",
     "output_type": "stream",
     "text": [
      "building a node2vec model...\n",
      "number of walks: 41670\taverage walk length: 39.8674\ttraining time: 29.5042\n",
      "valid auc: 0.9302\n",
      "node dim: 10,\tnum_walks: 5,\twalk_length: 40,\tp: 0.75,\tq: 0.25\n"
     ]
    },
    {
     "name": "stderr",
     "output_type": "stream",
     "text": [
      "C:\\Users\\SANGIN_HA\\AppData\\Local\\Temp\\ipykernel_12096\\129575388.py:8: DeprecationWarning: `np.int` is a deprecated alias for the builtin `int`. To silence this warning, use `int` by itself. Doing this will not modify any behavior and is safe. When replacing `np.int`, you may wish to use e.g. `np.int64` or `np.int32` to specify the precision. If you wish to review your current use, check the release note link for additional information.\n",
      "Deprecated in NumPy 1.20; for more details and guidance: https://numpy.org/devdocs/release/1.20.0-notes.html#deprecations\n",
      "  J = np.zeros(K, dtype=np.int)\n"
     ]
    },
    {
     "name": "stdout",
     "output_type": "stream",
     "text": [
      "building a node2vec model...\n",
      "number of walks: 41670\taverage walk length: 39.7983\ttraining time: 29.7336\n",
      "valid auc: 0.9288\n",
      "node dim: 10,\tnum_walks: 5,\twalk_length: 40,\tp: 0.75,\tq: 0.50\n"
     ]
    },
    {
     "name": "stderr",
     "output_type": "stream",
     "text": [
      "C:\\Users\\SANGIN_HA\\AppData\\Local\\Temp\\ipykernel_12096\\129575388.py:8: DeprecationWarning: `np.int` is a deprecated alias for the builtin `int`. To silence this warning, use `int` by itself. Doing this will not modify any behavior and is safe. When replacing `np.int`, you may wish to use e.g. `np.int64` or `np.int32` to specify the precision. If you wish to review your current use, check the release note link for additional information.\n",
      "Deprecated in NumPy 1.20; for more details and guidance: https://numpy.org/devdocs/release/1.20.0-notes.html#deprecations\n",
      "  J = np.zeros(K, dtype=np.int)\n"
     ]
    },
    {
     "name": "stdout",
     "output_type": "stream",
     "text": [
      "building a node2vec model...\n",
      "number of walks: 41670\taverage walk length: 39.8363\ttraining time: 29.8758\n",
      "valid auc: 0.9305\n",
      "node dim: 10,\tnum_walks: 5,\twalk_length: 40,\tp: 0.75,\tq: 0.75\n"
     ]
    },
    {
     "name": "stderr",
     "output_type": "stream",
     "text": [
      "C:\\Users\\SANGIN_HA\\AppData\\Local\\Temp\\ipykernel_12096\\129575388.py:8: DeprecationWarning: `np.int` is a deprecated alias for the builtin `int`. To silence this warning, use `int` by itself. Doing this will not modify any behavior and is safe. When replacing `np.int`, you may wish to use e.g. `np.int64` or `np.int32` to specify the precision. If you wish to review your current use, check the release note link for additional information.\n",
      "Deprecated in NumPy 1.20; for more details and guidance: https://numpy.org/devdocs/release/1.20.0-notes.html#deprecations\n",
      "  J = np.zeros(K, dtype=np.int)\n"
     ]
    },
    {
     "name": "stdout",
     "output_type": "stream",
     "text": [
      "building a node2vec model...\n",
      "number of walks: 41670\taverage walk length: 39.8533\ttraining time: 30.2884\n",
      "valid auc: 0.9292\n",
      "node dim: 10,\tnum_walks: 10,\twalk_length: 10,\tp: 0.25,\tq: 0.25\n"
     ]
    },
    {
     "name": "stderr",
     "output_type": "stream",
     "text": [
      "C:\\Users\\SANGIN_HA\\AppData\\Local\\Temp\\ipykernel_12096\\129575388.py:8: DeprecationWarning: `np.int` is a deprecated alias for the builtin `int`. To silence this warning, use `int` by itself. Doing this will not modify any behavior and is safe. When replacing `np.int`, you may wish to use e.g. `np.int64` or `np.int32` to specify the precision. If you wish to review your current use, check the release note link for additional information.\n",
      "Deprecated in NumPy 1.20; for more details and guidance: https://numpy.org/devdocs/release/1.20.0-notes.html#deprecations\n",
      "  J = np.zeros(K, dtype=np.int)\n"
     ]
    },
    {
     "name": "stdout",
     "output_type": "stream",
     "text": [
      "building a node2vec model...\n",
      "number of walks: 83340\taverage walk length: 9.9913\ttraining time: 28.2297\n",
      "valid auc: 0.9282\n",
      "node dim: 10,\tnum_walks: 10,\twalk_length: 10,\tp: 0.25,\tq: 0.50\n"
     ]
    },
    {
     "name": "stderr",
     "output_type": "stream",
     "text": [
      "C:\\Users\\SANGIN_HA\\AppData\\Local\\Temp\\ipykernel_12096\\129575388.py:8: DeprecationWarning: `np.int` is a deprecated alias for the builtin `int`. To silence this warning, use `int` by itself. Doing this will not modify any behavior and is safe. When replacing `np.int`, you may wish to use e.g. `np.int64` or `np.int32` to specify the precision. If you wish to review your current use, check the release note link for additional information.\n",
      "Deprecated in NumPy 1.20; for more details and guidance: https://numpy.org/devdocs/release/1.20.0-notes.html#deprecations\n",
      "  J = np.zeros(K, dtype=np.int)\n"
     ]
    },
    {
     "name": "stdout",
     "output_type": "stream",
     "text": [
      "building a node2vec model...\n",
      "number of walks: 83340\taverage walk length: 9.9910\ttraining time: 27.3537\n",
      "valid auc: 0.9275\n",
      "node dim: 10,\tnum_walks: 10,\twalk_length: 10,\tp: 0.25,\tq: 0.75\n"
     ]
    },
    {
     "name": "stderr",
     "output_type": "stream",
     "text": [
      "C:\\Users\\SANGIN_HA\\AppData\\Local\\Temp\\ipykernel_12096\\129575388.py:8: DeprecationWarning: `np.int` is a deprecated alias for the builtin `int`. To silence this warning, use `int` by itself. Doing this will not modify any behavior and is safe. When replacing `np.int`, you may wish to use e.g. `np.int64` or `np.int32` to specify the precision. If you wish to review your current use, check the release note link for additional information.\n",
      "Deprecated in NumPy 1.20; for more details and guidance: https://numpy.org/devdocs/release/1.20.0-notes.html#deprecations\n",
      "  J = np.zeros(K, dtype=np.int)\n"
     ]
    },
    {
     "name": "stdout",
     "output_type": "stream",
     "text": [
      "building a node2vec model...\n",
      "number of walks: 83340\taverage walk length: 9.9919\ttraining time: 29.6564\n",
      "valid auc: 0.9264\n",
      "node dim: 10,\tnum_walks: 10,\twalk_length: 10,\tp: 0.50,\tq: 0.25\n"
     ]
    },
    {
     "name": "stderr",
     "output_type": "stream",
     "text": [
      "C:\\Users\\SANGIN_HA\\AppData\\Local\\Temp\\ipykernel_12096\\129575388.py:8: DeprecationWarning: `np.int` is a deprecated alias for the builtin `int`. To silence this warning, use `int` by itself. Doing this will not modify any behavior and is safe. When replacing `np.int`, you may wish to use e.g. `np.int64` or `np.int32` to specify the precision. If you wish to review your current use, check the release note link for additional information.\n",
      "Deprecated in NumPy 1.20; for more details and guidance: https://numpy.org/devdocs/release/1.20.0-notes.html#deprecations\n",
      "  J = np.zeros(K, dtype=np.int)\n"
     ]
    },
    {
     "name": "stdout",
     "output_type": "stream",
     "text": [
      "building a node2vec model...\n",
      "number of walks: 83340\taverage walk length: 9.9883\ttraining time: 28.2238\n",
      "valid auc: 0.9258\n",
      "node dim: 10,\tnum_walks: 10,\twalk_length: 10,\tp: 0.50,\tq: 0.50\n"
     ]
    },
    {
     "name": "stderr",
     "output_type": "stream",
     "text": [
      "C:\\Users\\SANGIN_HA\\AppData\\Local\\Temp\\ipykernel_12096\\129575388.py:8: DeprecationWarning: `np.int` is a deprecated alias for the builtin `int`. To silence this warning, use `int` by itself. Doing this will not modify any behavior and is safe. When replacing `np.int`, you may wish to use e.g. `np.int64` or `np.int32` to specify the precision. If you wish to review your current use, check the release note link for additional information.\n",
      "Deprecated in NumPy 1.20; for more details and guidance: https://numpy.org/devdocs/release/1.20.0-notes.html#deprecations\n",
      "  J = np.zeros(K, dtype=np.int)\n"
     ]
    },
    {
     "name": "stdout",
     "output_type": "stream",
     "text": [
      "building a node2vec model...\n",
      "number of walks: 83340\taverage walk length: 9.9904\ttraining time: 28.0549\n",
      "valid auc: 0.9273\n",
      "node dim: 10,\tnum_walks: 10,\twalk_length: 10,\tp: 0.50,\tq: 0.75\n"
     ]
    },
    {
     "name": "stderr",
     "output_type": "stream",
     "text": [
      "C:\\Users\\SANGIN_HA\\AppData\\Local\\Temp\\ipykernel_12096\\129575388.py:8: DeprecationWarning: `np.int` is a deprecated alias for the builtin `int`. To silence this warning, use `int` by itself. Doing this will not modify any behavior and is safe. When replacing `np.int`, you may wish to use e.g. `np.int64` or `np.int32` to specify the precision. If you wish to review your current use, check the release note link for additional information.\n",
      "Deprecated in NumPy 1.20; for more details and guidance: https://numpy.org/devdocs/release/1.20.0-notes.html#deprecations\n",
      "  J = np.zeros(K, dtype=np.int)\n"
     ]
    },
    {
     "name": "stdout",
     "output_type": "stream",
     "text": [
      "building a node2vec model...\n",
      "number of walks: 83340\taverage walk length: 9.9910\ttraining time: 27.5130\n",
      "valid auc: 0.9259\n",
      "node dim: 10,\tnum_walks: 10,\twalk_length: 10,\tp: 0.75,\tq: 0.25\n"
     ]
    },
    {
     "name": "stderr",
     "output_type": "stream",
     "text": [
      "C:\\Users\\SANGIN_HA\\AppData\\Local\\Temp\\ipykernel_12096\\129575388.py:8: DeprecationWarning: `np.int` is a deprecated alias for the builtin `int`. To silence this warning, use `int` by itself. Doing this will not modify any behavior and is safe. When replacing `np.int`, you may wish to use e.g. `np.int64` or `np.int32` to specify the precision. If you wish to review your current use, check the release note link for additional information.\n",
      "Deprecated in NumPy 1.20; for more details and guidance: https://numpy.org/devdocs/release/1.20.0-notes.html#deprecations\n",
      "  J = np.zeros(K, dtype=np.int)\n"
     ]
    },
    {
     "name": "stdout",
     "output_type": "stream",
     "text": [
      "building a node2vec model...\n",
      "number of walks: 83340\taverage walk length: 9.9865\ttraining time: 28.3126\n",
      "valid auc: 0.9245\n",
      "node dim: 10,\tnum_walks: 10,\twalk_length: 10,\tp: 0.75,\tq: 0.50\n"
     ]
    },
    {
     "name": "stderr",
     "output_type": "stream",
     "text": [
      "C:\\Users\\SANGIN_HA\\AppData\\Local\\Temp\\ipykernel_12096\\129575388.py:8: DeprecationWarning: `np.int` is a deprecated alias for the builtin `int`. To silence this warning, use `int` by itself. Doing this will not modify any behavior and is safe. When replacing `np.int`, you may wish to use e.g. `np.int64` or `np.int32` to specify the precision. If you wish to review your current use, check the release note link for additional information.\n",
      "Deprecated in NumPy 1.20; for more details and guidance: https://numpy.org/devdocs/release/1.20.0-notes.html#deprecations\n",
      "  J = np.zeros(K, dtype=np.int)\n"
     ]
    },
    {
     "name": "stdout",
     "output_type": "stream",
     "text": [
      "building a node2vec model...\n",
      "number of walks: 83340\taverage walk length: 9.9910\ttraining time: 27.9806\n",
      "valid auc: 0.9262\n",
      "node dim: 10,\tnum_walks: 10,\twalk_length: 10,\tp: 0.75,\tq: 0.75\n"
     ]
    },
    {
     "name": "stderr",
     "output_type": "stream",
     "text": [
      "C:\\Users\\SANGIN_HA\\AppData\\Local\\Temp\\ipykernel_12096\\129575388.py:8: DeprecationWarning: `np.int` is a deprecated alias for the builtin `int`. To silence this warning, use `int` by itself. Doing this will not modify any behavior and is safe. When replacing `np.int`, you may wish to use e.g. `np.int64` or `np.int32` to specify the precision. If you wish to review your current use, check the release note link for additional information.\n",
      "Deprecated in NumPy 1.20; for more details and guidance: https://numpy.org/devdocs/release/1.20.0-notes.html#deprecations\n",
      "  J = np.zeros(K, dtype=np.int)\n"
     ]
    },
    {
     "name": "stdout",
     "output_type": "stream",
     "text": [
      "building a node2vec model...\n",
      "number of walks: 83340\taverage walk length: 9.9901\ttraining time: 27.6793\n",
      "valid auc: 0.9288\n",
      "node dim: 10,\tnum_walks: 10,\twalk_length: 20,\tp: 0.25,\tq: 0.25\n"
     ]
    },
    {
     "name": "stderr",
     "output_type": "stream",
     "text": [
      "C:\\Users\\SANGIN_HA\\AppData\\Local\\Temp\\ipykernel_12096\\129575388.py:8: DeprecationWarning: `np.int` is a deprecated alias for the builtin `int`. To silence this warning, use `int` by itself. Doing this will not modify any behavior and is safe. When replacing `np.int`, you may wish to use e.g. `np.int64` or `np.int32` to specify the precision. If you wish to review your current use, check the release note link for additional information.\n",
      "Deprecated in NumPy 1.20; for more details and guidance: https://numpy.org/devdocs/release/1.20.0-notes.html#deprecations\n",
      "  J = np.zeros(K, dtype=np.int)\n"
     ]
    },
    {
     "name": "stdout",
     "output_type": "stream",
     "text": [
      "building a node2vec model...\n",
      "number of walks: 83340\taverage walk length: 19.9599\ttraining time: 39.8285\n",
      "valid auc: 0.9303\n",
      "node dim: 10,\tnum_walks: 10,\twalk_length: 20,\tp: 0.25,\tq: 0.50\n"
     ]
    },
    {
     "name": "stderr",
     "output_type": "stream",
     "text": [
      "C:\\Users\\SANGIN_HA\\AppData\\Local\\Temp\\ipykernel_12096\\129575388.py:8: DeprecationWarning: `np.int` is a deprecated alias for the builtin `int`. To silence this warning, use `int` by itself. Doing this will not modify any behavior and is safe. When replacing `np.int`, you may wish to use e.g. `np.int64` or `np.int32` to specify the precision. If you wish to review your current use, check the release note link for additional information.\n",
      "Deprecated in NumPy 1.20; for more details and guidance: https://numpy.org/devdocs/release/1.20.0-notes.html#deprecations\n",
      "  J = np.zeros(K, dtype=np.int)\n"
     ]
    },
    {
     "name": "stdout",
     "output_type": "stream",
     "text": [
      "building a node2vec model...\n",
      "number of walks: 83340\taverage walk length: 19.9671\ttraining time: 37.8491\n",
      "valid auc: 0.9310\n",
      "node dim: 10,\tnum_walks: 10,\twalk_length: 20,\tp: 0.25,\tq: 0.75\n"
     ]
    },
    {
     "name": "stderr",
     "output_type": "stream",
     "text": [
      "C:\\Users\\SANGIN_HA\\AppData\\Local\\Temp\\ipykernel_12096\\129575388.py:8: DeprecationWarning: `np.int` is a deprecated alias for the builtin `int`. To silence this warning, use `int` by itself. Doing this will not modify any behavior and is safe. When replacing `np.int`, you may wish to use e.g. `np.int64` or `np.int32` to specify the precision. If you wish to review your current use, check the release note link for additional information.\n",
      "Deprecated in NumPy 1.20; for more details and guidance: https://numpy.org/devdocs/release/1.20.0-notes.html#deprecations\n",
      "  J = np.zeros(K, dtype=np.int)\n"
     ]
    },
    {
     "name": "stdout",
     "output_type": "stream",
     "text": [
      "building a node2vec model...\n",
      "number of walks: 83340\taverage walk length: 19.9685\ttraining time: 38.5692\n",
      "valid auc: 0.9306\n",
      "node dim: 10,\tnum_walks: 10,\twalk_length: 20,\tp: 0.50,\tq: 0.25\n"
     ]
    },
    {
     "name": "stderr",
     "output_type": "stream",
     "text": [
      "C:\\Users\\SANGIN_HA\\AppData\\Local\\Temp\\ipykernel_12096\\129575388.py:8: DeprecationWarning: `np.int` is a deprecated alias for the builtin `int`. To silence this warning, use `int` by itself. Doing this will not modify any behavior and is safe. When replacing `np.int`, you may wish to use e.g. `np.int64` or `np.int32` to specify the precision. If you wish to review your current use, check the release note link for additional information.\n",
      "Deprecated in NumPy 1.20; for more details and guidance: https://numpy.org/devdocs/release/1.20.0-notes.html#deprecations\n",
      "  J = np.zeros(K, dtype=np.int)\n"
     ]
    },
    {
     "name": "stdout",
     "output_type": "stream",
     "text": [
      "building a node2vec model...\n",
      "number of walks: 83340\taverage walk length: 19.9485\ttraining time: 38.2900\n",
      "valid auc: 0.9307\n",
      "node dim: 10,\tnum_walks: 10,\twalk_length: 20,\tp: 0.50,\tq: 0.50\n"
     ]
    },
    {
     "name": "stderr",
     "output_type": "stream",
     "text": [
      "C:\\Users\\SANGIN_HA\\AppData\\Local\\Temp\\ipykernel_12096\\129575388.py:8: DeprecationWarning: `np.int` is a deprecated alias for the builtin `int`. To silence this warning, use `int` by itself. Doing this will not modify any behavior and is safe. When replacing `np.int`, you may wish to use e.g. `np.int64` or `np.int32` to specify the precision. If you wish to review your current use, check the release note link for additional information.\n",
      "Deprecated in NumPy 1.20; for more details and guidance: https://numpy.org/devdocs/release/1.20.0-notes.html#deprecations\n",
      "  J = np.zeros(K, dtype=np.int)\n"
     ]
    },
    {
     "name": "stdout",
     "output_type": "stream",
     "text": [
      "building a node2vec model...\n",
      "number of walks: 83340\taverage walk length: 19.9600\ttraining time: 41.5660\n",
      "valid auc: 0.9312\n",
      "node dim: 10,\tnum_walks: 10,\twalk_length: 20,\tp: 0.50,\tq: 0.75\n"
     ]
    },
    {
     "name": "stderr",
     "output_type": "stream",
     "text": [
      "C:\\Users\\SANGIN_HA\\AppData\\Local\\Temp\\ipykernel_12096\\129575388.py:8: DeprecationWarning: `np.int` is a deprecated alias for the builtin `int`. To silence this warning, use `int` by itself. Doing this will not modify any behavior and is safe. When replacing `np.int`, you may wish to use e.g. `np.int64` or `np.int32` to specify the precision. If you wish to review your current use, check the release note link for additional information.\n",
      "Deprecated in NumPy 1.20; for more details and guidance: https://numpy.org/devdocs/release/1.20.0-notes.html#deprecations\n",
      "  J = np.zeros(K, dtype=np.int)\n"
     ]
    },
    {
     "name": "stdout",
     "output_type": "stream",
     "text": [
      "building a node2vec model...\n",
      "number of walks: 83340\taverage walk length: 19.9650\ttraining time: 50.6132\n",
      "valid auc: 0.9305\n",
      "node dim: 10,\tnum_walks: 10,\twalk_length: 20,\tp: 0.75,\tq: 0.25\n"
     ]
    },
    {
     "name": "stderr",
     "output_type": "stream",
     "text": [
      "C:\\Users\\SANGIN_HA\\AppData\\Local\\Temp\\ipykernel_12096\\129575388.py:8: DeprecationWarning: `np.int` is a deprecated alias for the builtin `int`. To silence this warning, use `int` by itself. Doing this will not modify any behavior and is safe. When replacing `np.int`, you may wish to use e.g. `np.int64` or `np.int32` to specify the precision. If you wish to review your current use, check the release note link for additional information.\n",
      "Deprecated in NumPy 1.20; for more details and guidance: https://numpy.org/devdocs/release/1.20.0-notes.html#deprecations\n",
      "  J = np.zeros(K, dtype=np.int)\n"
     ]
    },
    {
     "name": "stdout",
     "output_type": "stream",
     "text": [
      "building a node2vec model...\n",
      "number of walks: 83340\taverage walk length: 19.9431\ttraining time: 49.7810\n",
      "valid auc: 0.9297\n",
      "node dim: 10,\tnum_walks: 10,\twalk_length: 20,\tp: 0.75,\tq: 0.50\n"
     ]
    },
    {
     "name": "stderr",
     "output_type": "stream",
     "text": [
      "C:\\Users\\SANGIN_HA\\AppData\\Local\\Temp\\ipykernel_12096\\129575388.py:8: DeprecationWarning: `np.int` is a deprecated alias for the builtin `int`. To silence this warning, use `int` by itself. Doing this will not modify any behavior and is safe. When replacing `np.int`, you may wish to use e.g. `np.int64` or `np.int32` to specify the precision. If you wish to review your current use, check the release note link for additional information.\n",
      "Deprecated in NumPy 1.20; for more details and guidance: https://numpy.org/devdocs/release/1.20.0-notes.html#deprecations\n",
      "  J = np.zeros(K, dtype=np.int)\n"
     ]
    },
    {
     "name": "stdout",
     "output_type": "stream",
     "text": [
      "building a node2vec model...\n",
      "number of walks: 83340\taverage walk length: 19.9584\ttraining time: 48.0676\n",
      "valid auc: 0.9302\n",
      "node dim: 10,\tnum_walks: 10,\twalk_length: 20,\tp: 0.75,\tq: 0.75\n"
     ]
    },
    {
     "name": "stderr",
     "output_type": "stream",
     "text": [
      "C:\\Users\\SANGIN_HA\\AppData\\Local\\Temp\\ipykernel_12096\\129575388.py:8: DeprecationWarning: `np.int` is a deprecated alias for the builtin `int`. To silence this warning, use `int` by itself. Doing this will not modify any behavior and is safe. When replacing `np.int`, you may wish to use e.g. `np.int64` or `np.int32` to specify the precision. If you wish to review your current use, check the release note link for additional information.\n",
      "Deprecated in NumPy 1.20; for more details and guidance: https://numpy.org/devdocs/release/1.20.0-notes.html#deprecations\n",
      "  J = np.zeros(K, dtype=np.int)\n"
     ]
    },
    {
     "name": "stdout",
     "output_type": "stream",
     "text": [
      "building a node2vec model...\n",
      "number of walks: 83340\taverage walk length: 19.9634\ttraining time: 51.3569\n",
      "valid auc: 0.9318\n",
      "node dim: 10,\tnum_walks: 10,\twalk_length: 40,\tp: 0.25,\tq: 0.25\n"
     ]
    },
    {
     "name": "stderr",
     "output_type": "stream",
     "text": [
      "C:\\Users\\SANGIN_HA\\AppData\\Local\\Temp\\ipykernel_12096\\129575388.py:8: DeprecationWarning: `np.int` is a deprecated alias for the builtin `int`. To silence this warning, use `int` by itself. Doing this will not modify any behavior and is safe. When replacing `np.int`, you may wish to use e.g. `np.int64` or `np.int32` to specify the precision. If you wish to review your current use, check the release note link for additional information.\n",
      "Deprecated in NumPy 1.20; for more details and guidance: https://numpy.org/devdocs/release/1.20.0-notes.html#deprecations\n",
      "  J = np.zeros(K, dtype=np.int)\n"
     ]
    },
    {
     "name": "stdout",
     "output_type": "stream",
     "text": [
      "building a node2vec model...\n",
      "number of walks: 83340\taverage walk length: 39.8370\ttraining time: 69.6241\n",
      "valid auc: 0.9283\n",
      "node dim: 10,\tnum_walks: 10,\twalk_length: 40,\tp: 0.25,\tq: 0.50\n"
     ]
    },
    {
     "name": "stderr",
     "output_type": "stream",
     "text": [
      "C:\\Users\\SANGIN_HA\\AppData\\Local\\Temp\\ipykernel_12096\\129575388.py:8: DeprecationWarning: `np.int` is a deprecated alias for the builtin `int`. To silence this warning, use `int` by itself. Doing this will not modify any behavior and is safe. When replacing `np.int`, you may wish to use e.g. `np.int64` or `np.int32` to specify the precision. If you wish to review your current use, check the release note link for additional information.\n",
      "Deprecated in NumPy 1.20; for more details and guidance: https://numpy.org/devdocs/release/1.20.0-notes.html#deprecations\n",
      "  J = np.zeros(K, dtype=np.int)\n"
     ]
    },
    {
     "name": "stdout",
     "output_type": "stream",
     "text": [
      "building a node2vec model...\n",
      "number of walks: 83340\taverage walk length: 39.8775\ttraining time: 58.4657\n",
      "valid auc: 0.9292\n",
      "node dim: 10,\tnum_walks: 10,\twalk_length: 40,\tp: 0.25,\tq: 0.75\n"
     ]
    },
    {
     "name": "stderr",
     "output_type": "stream",
     "text": [
      "C:\\Users\\SANGIN_HA\\AppData\\Local\\Temp\\ipykernel_12096\\129575388.py:8: DeprecationWarning: `np.int` is a deprecated alias for the builtin `int`. To silence this warning, use `int` by itself. Doing this will not modify any behavior and is safe. When replacing `np.int`, you may wish to use e.g. `np.int64` or `np.int32` to specify the precision. If you wish to review your current use, check the release note link for additional information.\n",
      "Deprecated in NumPy 1.20; for more details and guidance: https://numpy.org/devdocs/release/1.20.0-notes.html#deprecations\n",
      "  J = np.zeros(K, dtype=np.int)\n"
     ]
    },
    {
     "name": "stdout",
     "output_type": "stream",
     "text": [
      "building a node2vec model...\n",
      "number of walks: 83340\taverage walk length: 39.8900\ttraining time: 65.5791\n",
      "valid auc: 0.9277\n",
      "node dim: 10,\tnum_walks: 10,\twalk_length: 40,\tp: 0.50,\tq: 0.25\n"
     ]
    },
    {
     "name": "stderr",
     "output_type": "stream",
     "text": [
      "C:\\Users\\SANGIN_HA\\AppData\\Local\\Temp\\ipykernel_12096\\129575388.py:8: DeprecationWarning: `np.int` is a deprecated alias for the builtin `int`. To silence this warning, use `int` by itself. Doing this will not modify any behavior and is safe. When replacing `np.int`, you may wish to use e.g. `np.int64` or `np.int32` to specify the precision. If you wish to review your current use, check the release note link for additional information.\n",
      "Deprecated in NumPy 1.20; for more details and guidance: https://numpy.org/devdocs/release/1.20.0-notes.html#deprecations\n",
      "  J = np.zeros(K, dtype=np.int)\n"
     ]
    },
    {
     "name": "stdout",
     "output_type": "stream",
     "text": [
      "building a node2vec model...\n",
      "number of walks: 83340\taverage walk length: 39.7982\ttraining time: 68.7291\n",
      "valid auc: 0.9277\n",
      "node dim: 10,\tnum_walks: 10,\twalk_length: 40,\tp: 0.50,\tq: 0.50\n"
     ]
    },
    {
     "name": "stderr",
     "output_type": "stream",
     "text": [
      "C:\\Users\\SANGIN_HA\\AppData\\Local\\Temp\\ipykernel_12096\\129575388.py:8: DeprecationWarning: `np.int` is a deprecated alias for the builtin `int`. To silence this warning, use `int` by itself. Doing this will not modify any behavior and is safe. When replacing `np.int`, you may wish to use e.g. `np.int64` or `np.int32` to specify the precision. If you wish to review your current use, check the release note link for additional information.\n",
      "Deprecated in NumPy 1.20; for more details and guidance: https://numpy.org/devdocs/release/1.20.0-notes.html#deprecations\n",
      "  J = np.zeros(K, dtype=np.int)\n"
     ]
    },
    {
     "name": "stdout",
     "output_type": "stream",
     "text": [
      "building a node2vec model...\n",
      "number of walks: 83340\taverage walk length: 39.8431\ttraining time: 70.6246\n",
      "valid auc: 0.9282\n",
      "node dim: 10,\tnum_walks: 10,\twalk_length: 40,\tp: 0.50,\tq: 0.75\n"
     ]
    },
    {
     "name": "stderr",
     "output_type": "stream",
     "text": [
      "C:\\Users\\SANGIN_HA\\AppData\\Local\\Temp\\ipykernel_12096\\129575388.py:8: DeprecationWarning: `np.int` is a deprecated alias for the builtin `int`. To silence this warning, use `int` by itself. Doing this will not modify any behavior and is safe. When replacing `np.int`, you may wish to use e.g. `np.int64` or `np.int32` to specify the precision. If you wish to review your current use, check the release note link for additional information.\n",
      "Deprecated in NumPy 1.20; for more details and guidance: https://numpy.org/devdocs/release/1.20.0-notes.html#deprecations\n",
      "  J = np.zeros(K, dtype=np.int)\n"
     ]
    },
    {
     "name": "stdout",
     "output_type": "stream",
     "text": [
      "building a node2vec model...\n",
      "number of walks: 83340\taverage walk length: 39.8658\ttraining time: 72.1109\n",
      "valid auc: 0.9280\n",
      "node dim: 10,\tnum_walks: 10,\twalk_length: 40,\tp: 0.75,\tq: 0.25\n"
     ]
    },
    {
     "name": "stderr",
     "output_type": "stream",
     "text": [
      "C:\\Users\\SANGIN_HA\\AppData\\Local\\Temp\\ipykernel_12096\\129575388.py:8: DeprecationWarning: `np.int` is a deprecated alias for the builtin `int`. To silence this warning, use `int` by itself. Doing this will not modify any behavior and is safe. When replacing `np.int`, you may wish to use e.g. `np.int64` or `np.int32` to specify the precision. If you wish to review your current use, check the release note link for additional information.\n",
      "Deprecated in NumPy 1.20; for more details and guidance: https://numpy.org/devdocs/release/1.20.0-notes.html#deprecations\n",
      "  J = np.zeros(K, dtype=np.int)\n"
     ]
    },
    {
     "name": "stdout",
     "output_type": "stream",
     "text": [
      "building a node2vec model...\n",
      "number of walks: 83340\taverage walk length: 39.7883\ttraining time: 64.5380\n",
      "valid auc: 0.9287\n",
      "node dim: 10,\tnum_walks: 10,\twalk_length: 40,\tp: 0.75,\tq: 0.50\n"
     ]
    },
    {
     "name": "stderr",
     "output_type": "stream",
     "text": [
      "C:\\Users\\SANGIN_HA\\AppData\\Local\\Temp\\ipykernel_12096\\129575388.py:8: DeprecationWarning: `np.int` is a deprecated alias for the builtin `int`. To silence this warning, use `int` by itself. Doing this will not modify any behavior and is safe. When replacing `np.int`, you may wish to use e.g. `np.int64` or `np.int32` to specify the precision. If you wish to review your current use, check the release note link for additional information.\n",
      "Deprecated in NumPy 1.20; for more details and guidance: https://numpy.org/devdocs/release/1.20.0-notes.html#deprecations\n",
      "  J = np.zeros(K, dtype=np.int)\n"
     ]
    },
    {
     "name": "stdout",
     "output_type": "stream",
     "text": [
      "building a node2vec model...\n",
      "number of walks: 83340\taverage walk length: 39.8269\ttraining time: 67.7787\n",
      "valid auc: 0.9283\n",
      "node dim: 10,\tnum_walks: 10,\twalk_length: 40,\tp: 0.75,\tq: 0.75\n"
     ]
    },
    {
     "name": "stderr",
     "output_type": "stream",
     "text": [
      "C:\\Users\\SANGIN_HA\\AppData\\Local\\Temp\\ipykernel_12096\\129575388.py:8: DeprecationWarning: `np.int` is a deprecated alias for the builtin `int`. To silence this warning, use `int` by itself. Doing this will not modify any behavior and is safe. When replacing `np.int`, you may wish to use e.g. `np.int64` or `np.int32` to specify the precision. If you wish to review your current use, check the release note link for additional information.\n",
      "Deprecated in NumPy 1.20; for more details and guidance: https://numpy.org/devdocs/release/1.20.0-notes.html#deprecations\n",
      "  J = np.zeros(K, dtype=np.int)\n"
     ]
    },
    {
     "name": "stdout",
     "output_type": "stream",
     "text": [
      "building a node2vec model...\n",
      "number of walks: 83340\taverage walk length: 39.8542\ttraining time: 72.6605\n",
      "valid auc: 0.9285\n",
      "node dim: 10,\tnum_walks: 20,\twalk_length: 10,\tp: 0.25,\tq: 0.25\n"
     ]
    },
    {
     "name": "stderr",
     "output_type": "stream",
     "text": [
      "C:\\Users\\SANGIN_HA\\AppData\\Local\\Temp\\ipykernel_12096\\129575388.py:8: DeprecationWarning: `np.int` is a deprecated alias for the builtin `int`. To silence this warning, use `int` by itself. Doing this will not modify any behavior and is safe. When replacing `np.int`, you may wish to use e.g. `np.int64` or `np.int32` to specify the precision. If you wish to review your current use, check the release note link for additional information.\n",
      "Deprecated in NumPy 1.20; for more details and guidance: https://numpy.org/devdocs/release/1.20.0-notes.html#deprecations\n",
      "  J = np.zeros(K, dtype=np.int)\n"
     ]
    },
    {
     "name": "stdout",
     "output_type": "stream",
     "text": [
      "building a node2vec model...\n",
      "number of walks: 166680\taverage walk length: 9.9911\ttraining time: 65.2757\n",
      "valid auc: 0.9295\n",
      "node dim: 10,\tnum_walks: 20,\twalk_length: 10,\tp: 0.25,\tq: 0.50\n"
     ]
    },
    {
     "name": "stderr",
     "output_type": "stream",
     "text": [
      "C:\\Users\\SANGIN_HA\\AppData\\Local\\Temp\\ipykernel_12096\\129575388.py:8: DeprecationWarning: `np.int` is a deprecated alias for the builtin `int`. To silence this warning, use `int` by itself. Doing this will not modify any behavior and is safe. When replacing `np.int`, you may wish to use e.g. `np.int64` or `np.int32` to specify the precision. If you wish to review your current use, check the release note link for additional information.\n",
      "Deprecated in NumPy 1.20; for more details and guidance: https://numpy.org/devdocs/release/1.20.0-notes.html#deprecations\n",
      "  J = np.zeros(K, dtype=np.int)\n"
     ]
    },
    {
     "name": "stdout",
     "output_type": "stream",
     "text": [
      "building a node2vec model...\n",
      "number of walks: 166680\taverage walk length: 9.9912\ttraining time: 58.4124\n",
      "valid auc: 0.9298\n",
      "node dim: 10,\tnum_walks: 20,\twalk_length: 10,\tp: 0.25,\tq: 0.75\n"
     ]
    },
    {
     "name": "stderr",
     "output_type": "stream",
     "text": [
      "C:\\Users\\SANGIN_HA\\AppData\\Local\\Temp\\ipykernel_12096\\129575388.py:8: DeprecationWarning: `np.int` is a deprecated alias for the builtin `int`. To silence this warning, use `int` by itself. Doing this will not modify any behavior and is safe. When replacing `np.int`, you may wish to use e.g. `np.int64` or `np.int32` to specify the precision. If you wish to review your current use, check the release note link for additional information.\n",
      "Deprecated in NumPy 1.20; for more details and guidance: https://numpy.org/devdocs/release/1.20.0-notes.html#deprecations\n",
      "  J = np.zeros(K, dtype=np.int)\n"
     ]
    },
    {
     "name": "stdout",
     "output_type": "stream",
     "text": [
      "building a node2vec model...\n",
      "number of walks: 166680\taverage walk length: 9.9914\ttraining time: 59.7926\n",
      "valid auc: 0.9294\n",
      "node dim: 10,\tnum_walks: 20,\twalk_length: 10,\tp: 0.50,\tq: 0.25\n"
     ]
    },
    {
     "name": "stderr",
     "output_type": "stream",
     "text": [
      "C:\\Users\\SANGIN_HA\\AppData\\Local\\Temp\\ipykernel_12096\\129575388.py:8: DeprecationWarning: `np.int` is a deprecated alias for the builtin `int`. To silence this warning, use `int` by itself. Doing this will not modify any behavior and is safe. When replacing `np.int`, you may wish to use e.g. `np.int64` or `np.int32` to specify the precision. If you wish to review your current use, check the release note link for additional information.\n",
      "Deprecated in NumPy 1.20; for more details and guidance: https://numpy.org/devdocs/release/1.20.0-notes.html#deprecations\n",
      "  J = np.zeros(K, dtype=np.int)\n"
     ]
    },
    {
     "name": "stdout",
     "output_type": "stream",
     "text": [
      "building a node2vec model...\n",
      "number of walks: 166680\taverage walk length: 9.9884\ttraining time: 60.9883\n",
      "valid auc: 0.9290\n",
      "node dim: 10,\tnum_walks: 20,\twalk_length: 10,\tp: 0.50,\tq: 0.50\n"
     ]
    },
    {
     "name": "stderr",
     "output_type": "stream",
     "text": [
      "C:\\Users\\SANGIN_HA\\AppData\\Local\\Temp\\ipykernel_12096\\129575388.py:8: DeprecationWarning: `np.int` is a deprecated alias for the builtin `int`. To silence this warning, use `int` by itself. Doing this will not modify any behavior and is safe. When replacing `np.int`, you may wish to use e.g. `np.int64` or `np.int32` to specify the precision. If you wish to review your current use, check the release note link for additional information.\n",
      "Deprecated in NumPy 1.20; for more details and guidance: https://numpy.org/devdocs/release/1.20.0-notes.html#deprecations\n",
      "  J = np.zeros(K, dtype=np.int)\n"
     ]
    },
    {
     "name": "stdout",
     "output_type": "stream",
     "text": [
      "building a node2vec model...\n",
      "number of walks: 166680\taverage walk length: 9.9905\ttraining time: 58.5439\n",
      "valid auc: 0.9300\n",
      "node dim: 10,\tnum_walks: 20,\twalk_length: 10,\tp: 0.50,\tq: 0.75\n"
     ]
    },
    {
     "name": "stderr",
     "output_type": "stream",
     "text": [
      "C:\\Users\\SANGIN_HA\\AppData\\Local\\Temp\\ipykernel_12096\\129575388.py:8: DeprecationWarning: `np.int` is a deprecated alias for the builtin `int`. To silence this warning, use `int` by itself. Doing this will not modify any behavior and is safe. When replacing `np.int`, you may wish to use e.g. `np.int64` or `np.int32` to specify the precision. If you wish to review your current use, check the release note link for additional information.\n",
      "Deprecated in NumPy 1.20; for more details and guidance: https://numpy.org/devdocs/release/1.20.0-notes.html#deprecations\n",
      "  J = np.zeros(K, dtype=np.int)\n"
     ]
    },
    {
     "name": "stdout",
     "output_type": "stream",
     "text": [
      "building a node2vec model...\n",
      "number of walks: 166680\taverage walk length: 9.9910\ttraining time: 53.2792\n",
      "valid auc: 0.9294\n",
      "node dim: 10,\tnum_walks: 20,\twalk_length: 10,\tp: 0.75,\tq: 0.25\n"
     ]
    },
    {
     "name": "stderr",
     "output_type": "stream",
     "text": [
      "C:\\Users\\SANGIN_HA\\AppData\\Local\\Temp\\ipykernel_12096\\129575388.py:8: DeprecationWarning: `np.int` is a deprecated alias for the builtin `int`. To silence this warning, use `int` by itself. Doing this will not modify any behavior and is safe. When replacing `np.int`, you may wish to use e.g. `np.int64` or `np.int32` to specify the precision. If you wish to review your current use, check the release note link for additional information.\n",
      "Deprecated in NumPy 1.20; for more details and guidance: https://numpy.org/devdocs/release/1.20.0-notes.html#deprecations\n",
      "  J = np.zeros(K, dtype=np.int)\n"
     ]
    },
    {
     "name": "stdout",
     "output_type": "stream",
     "text": [
      "building a node2vec model...\n",
      "number of walks: 166680\taverage walk length: 9.9864\ttraining time: 55.1830\n",
      "valid auc: 0.9299\n",
      "node dim: 10,\tnum_walks: 20,\twalk_length: 10,\tp: 0.75,\tq: 0.50\n"
     ]
    },
    {
     "name": "stderr",
     "output_type": "stream",
     "text": [
      "C:\\Users\\SANGIN_HA\\AppData\\Local\\Temp\\ipykernel_12096\\129575388.py:8: DeprecationWarning: `np.int` is a deprecated alias for the builtin `int`. To silence this warning, use `int` by itself. Doing this will not modify any behavior and is safe. When replacing `np.int`, you may wish to use e.g. `np.int64` or `np.int32` to specify the precision. If you wish to review your current use, check the release note link for additional information.\n",
      "Deprecated in NumPy 1.20; for more details and guidance: https://numpy.org/devdocs/release/1.20.0-notes.html#deprecations\n",
      "  J = np.zeros(K, dtype=np.int)\n"
     ]
    },
    {
     "name": "stdout",
     "output_type": "stream",
     "text": [
      "building a node2vec model...\n",
      "number of walks: 166680\taverage walk length: 9.9903\ttraining time: 54.6705\n",
      "valid auc: 0.9298\n",
      "node dim: 10,\tnum_walks: 20,\twalk_length: 10,\tp: 0.75,\tq: 0.75\n"
     ]
    },
    {
     "name": "stderr",
     "output_type": "stream",
     "text": [
      "C:\\Users\\SANGIN_HA\\AppData\\Local\\Temp\\ipykernel_12096\\129575388.py:8: DeprecationWarning: `np.int` is a deprecated alias for the builtin `int`. To silence this warning, use `int` by itself. Doing this will not modify any behavior and is safe. When replacing `np.int`, you may wish to use e.g. `np.int64` or `np.int32` to specify the precision. If you wish to review your current use, check the release note link for additional information.\n",
      "Deprecated in NumPy 1.20; for more details and guidance: https://numpy.org/devdocs/release/1.20.0-notes.html#deprecations\n",
      "  J = np.zeros(K, dtype=np.int)\n"
     ]
    },
    {
     "name": "stdout",
     "output_type": "stream",
     "text": [
      "building a node2vec model...\n",
      "number of walks: 166680\taverage walk length: 9.9907\ttraining time: 54.1743\n",
      "valid auc: 0.9304\n",
      "node dim: 10,\tnum_walks: 20,\twalk_length: 20,\tp: 0.25,\tq: 0.25\n"
     ]
    },
    {
     "name": "stderr",
     "output_type": "stream",
     "text": [
      "C:\\Users\\SANGIN_HA\\AppData\\Local\\Temp\\ipykernel_12096\\129575388.py:8: DeprecationWarning: `np.int` is a deprecated alias for the builtin `int`. To silence this warning, use `int` by itself. Doing this will not modify any behavior and is safe. When replacing `np.int`, you may wish to use e.g. `np.int64` or `np.int32` to specify the precision. If you wish to review your current use, check the release note link for additional information.\n",
      "Deprecated in NumPy 1.20; for more details and guidance: https://numpy.org/devdocs/release/1.20.0-notes.html#deprecations\n",
      "  J = np.zeros(K, dtype=np.int)\n"
     ]
    },
    {
     "name": "stdout",
     "output_type": "stream",
     "text": [
      "building a node2vec model...\n",
      "number of walks: 166680\taverage walk length: 19.9618\ttraining time: 80.0506\n",
      "valid auc: 0.9290\n",
      "node dim: 10,\tnum_walks: 20,\twalk_length: 20,\tp: 0.25,\tq: 0.50\n"
     ]
    },
    {
     "name": "stderr",
     "output_type": "stream",
     "text": [
      "C:\\Users\\SANGIN_HA\\AppData\\Local\\Temp\\ipykernel_12096\\129575388.py:8: DeprecationWarning: `np.int` is a deprecated alias for the builtin `int`. To silence this warning, use `int` by itself. Doing this will not modify any behavior and is safe. When replacing `np.int`, you may wish to use e.g. `np.int64` or `np.int32` to specify the precision. If you wish to review your current use, check the release note link for additional information.\n",
      "Deprecated in NumPy 1.20; for more details and guidance: https://numpy.org/devdocs/release/1.20.0-notes.html#deprecations\n",
      "  J = np.zeros(K, dtype=np.int)\n"
     ]
    },
    {
     "name": "stdout",
     "output_type": "stream",
     "text": [
      "building a node2vec model...\n",
      "number of walks: 166680\taverage walk length: 19.9658\ttraining time: 72.1557\n",
      "valid auc: 0.9297\n",
      "node dim: 10,\tnum_walks: 20,\twalk_length: 20,\tp: 0.25,\tq: 0.75\n"
     ]
    },
    {
     "name": "stderr",
     "output_type": "stream",
     "text": [
      "C:\\Users\\SANGIN_HA\\AppData\\Local\\Temp\\ipykernel_12096\\129575388.py:8: DeprecationWarning: `np.int` is a deprecated alias for the builtin `int`. To silence this warning, use `int` by itself. Doing this will not modify any behavior and is safe. When replacing `np.int`, you may wish to use e.g. `np.int64` or `np.int32` to specify the precision. If you wish to review your current use, check the release note link for additional information.\n",
      "Deprecated in NumPy 1.20; for more details and guidance: https://numpy.org/devdocs/release/1.20.0-notes.html#deprecations\n",
      "  J = np.zeros(K, dtype=np.int)\n"
     ]
    },
    {
     "name": "stdout",
     "output_type": "stream",
     "text": [
      "building a node2vec model...\n",
      "number of walks: 166680\taverage walk length: 19.9692\ttraining time: 82.8880\n",
      "valid auc: 0.9294\n",
      "node dim: 10,\tnum_walks: 20,\twalk_length: 20,\tp: 0.50,\tq: 0.25\n"
     ]
    },
    {
     "name": "stderr",
     "output_type": "stream",
     "text": [
      "C:\\Users\\SANGIN_HA\\AppData\\Local\\Temp\\ipykernel_12096\\129575388.py:8: DeprecationWarning: `np.int` is a deprecated alias for the builtin `int`. To silence this warning, use `int` by itself. Doing this will not modify any behavior and is safe. When replacing `np.int`, you may wish to use e.g. `np.int64` or `np.int32` to specify the precision. If you wish to review your current use, check the release note link for additional information.\n",
      "Deprecated in NumPy 1.20; for more details and guidance: https://numpy.org/devdocs/release/1.20.0-notes.html#deprecations\n",
      "  J = np.zeros(K, dtype=np.int)\n"
     ]
    },
    {
     "name": "stdout",
     "output_type": "stream",
     "text": [
      "building a node2vec model...\n",
      "number of walks: 166680\taverage walk length: 19.9493\ttraining time: 71.5412\n",
      "valid auc: 0.9298\n",
      "node dim: 10,\tnum_walks: 20,\twalk_length: 20,\tp: 0.50,\tq: 0.50\n"
     ]
    },
    {
     "name": "stderr",
     "output_type": "stream",
     "text": [
      "C:\\Users\\SANGIN_HA\\AppData\\Local\\Temp\\ipykernel_12096\\129575388.py:8: DeprecationWarning: `np.int` is a deprecated alias for the builtin `int`. To silence this warning, use `int` by itself. Doing this will not modify any behavior and is safe. When replacing `np.int`, you may wish to use e.g. `np.int64` or `np.int32` to specify the precision. If you wish to review your current use, check the release note link for additional information.\n",
      "Deprecated in NumPy 1.20; for more details and guidance: https://numpy.org/devdocs/release/1.20.0-notes.html#deprecations\n",
      "  J = np.zeros(K, dtype=np.int)\n"
     ]
    },
    {
     "name": "stdout",
     "output_type": "stream",
     "text": [
      "building a node2vec model...\n",
      "number of walks: 166680\taverage walk length: 19.9612\ttraining time: 87.7315\n",
      "valid auc: 0.9301\n",
      "node dim: 10,\tnum_walks: 20,\twalk_length: 20,\tp: 0.50,\tq: 0.75\n"
     ]
    },
    {
     "name": "stderr",
     "output_type": "stream",
     "text": [
      "C:\\Users\\SANGIN_HA\\AppData\\Local\\Temp\\ipykernel_12096\\129575388.py:8: DeprecationWarning: `np.int` is a deprecated alias for the builtin `int`. To silence this warning, use `int` by itself. Doing this will not modify any behavior and is safe. When replacing `np.int`, you may wish to use e.g. `np.int64` or `np.int32` to specify the precision. If you wish to review your current use, check the release note link for additional information.\n",
      "Deprecated in NumPy 1.20; for more details and guidance: https://numpy.org/devdocs/release/1.20.0-notes.html#deprecations\n",
      "  J = np.zeros(K, dtype=np.int)\n"
     ]
    },
    {
     "name": "stdout",
     "output_type": "stream",
     "text": [
      "building a node2vec model...\n",
      "number of walks: 166680\taverage walk length: 19.9661\ttraining time: 78.9263\n",
      "valid auc: 0.9293\n",
      "node dim: 10,\tnum_walks: 20,\twalk_length: 20,\tp: 0.75,\tq: 0.25\n"
     ]
    },
    {
     "name": "stderr",
     "output_type": "stream",
     "text": [
      "C:\\Users\\SANGIN_HA\\AppData\\Local\\Temp\\ipykernel_12096\\129575388.py:8: DeprecationWarning: `np.int` is a deprecated alias for the builtin `int`. To silence this warning, use `int` by itself. Doing this will not modify any behavior and is safe. When replacing `np.int`, you may wish to use e.g. `np.int64` or `np.int32` to specify the precision. If you wish to review your current use, check the release note link for additional information.\n",
      "Deprecated in NumPy 1.20; for more details and guidance: https://numpy.org/devdocs/release/1.20.0-notes.html#deprecations\n",
      "  J = np.zeros(K, dtype=np.int)\n"
     ]
    },
    {
     "name": "stdout",
     "output_type": "stream",
     "text": [
      "building a node2vec model...\n",
      "number of walks: 166680\taverage walk length: 19.9424\ttraining time: 90.5476\n",
      "valid auc: 0.9289\n",
      "node dim: 10,\tnum_walks: 20,\twalk_length: 20,\tp: 0.75,\tq: 0.50\n"
     ]
    },
    {
     "name": "stderr",
     "output_type": "stream",
     "text": [
      "C:\\Users\\SANGIN_HA\\AppData\\Local\\Temp\\ipykernel_12096\\129575388.py:8: DeprecationWarning: `np.int` is a deprecated alias for the builtin `int`. To silence this warning, use `int` by itself. Doing this will not modify any behavior and is safe. When replacing `np.int`, you may wish to use e.g. `np.int64` or `np.int32` to specify the precision. If you wish to review your current use, check the release note link for additional information.\n",
      "Deprecated in NumPy 1.20; for more details and guidance: https://numpy.org/devdocs/release/1.20.0-notes.html#deprecations\n",
      "  J = np.zeros(K, dtype=np.int)\n"
     ]
    },
    {
     "name": "stdout",
     "output_type": "stream",
     "text": [
      "building a node2vec model...\n",
      "number of walks: 166680\taverage walk length: 19.9582\ttraining time: 85.4378\n",
      "valid auc: 0.9286\n",
      "node dim: 10,\tnum_walks: 20,\twalk_length: 20,\tp: 0.75,\tq: 0.75\n"
     ]
    },
    {
     "name": "stderr",
     "output_type": "stream",
     "text": [
      "C:\\Users\\SANGIN_HA\\AppData\\Local\\Temp\\ipykernel_12096\\129575388.py:8: DeprecationWarning: `np.int` is a deprecated alias for the builtin `int`. To silence this warning, use `int` by itself. Doing this will not modify any behavior and is safe. When replacing `np.int`, you may wish to use e.g. `np.int64` or `np.int32` to specify the precision. If you wish to review your current use, check the release note link for additional information.\n",
      "Deprecated in NumPy 1.20; for more details and guidance: https://numpy.org/devdocs/release/1.20.0-notes.html#deprecations\n",
      "  J = np.zeros(K, dtype=np.int)\n"
     ]
    },
    {
     "name": "stdout",
     "output_type": "stream",
     "text": [
      "building a node2vec model...\n",
      "number of walks: 166680\taverage walk length: 19.9615\ttraining time: 82.1040\n",
      "valid auc: 0.9288\n",
      "node dim: 10,\tnum_walks: 20,\twalk_length: 40,\tp: 0.25,\tq: 0.25\n"
     ]
    },
    {
     "name": "stderr",
     "output_type": "stream",
     "text": [
      "C:\\Users\\SANGIN_HA\\AppData\\Local\\Temp\\ipykernel_12096\\129575388.py:8: DeprecationWarning: `np.int` is a deprecated alias for the builtin `int`. To silence this warning, use `int` by itself. Doing this will not modify any behavior and is safe. When replacing `np.int`, you may wish to use e.g. `np.int64` or `np.int32` to specify the precision. If you wish to review your current use, check the release note link for additional information.\n",
      "Deprecated in NumPy 1.20; for more details and guidance: https://numpy.org/devdocs/release/1.20.0-notes.html#deprecations\n",
      "  J = np.zeros(K, dtype=np.int)\n"
     ]
    },
    {
     "name": "stdout",
     "output_type": "stream",
     "text": [
      "building a node2vec model...\n",
      "number of walks: 166680\taverage walk length: 39.8375\ttraining time: 123.4298\n",
      "valid auc: 0.9249\n",
      "node dim: 10,\tnum_walks: 20,\twalk_length: 40,\tp: 0.25,\tq: 0.50\n"
     ]
    },
    {
     "name": "stderr",
     "output_type": "stream",
     "text": [
      "C:\\Users\\SANGIN_HA\\AppData\\Local\\Temp\\ipykernel_12096\\129575388.py:8: DeprecationWarning: `np.int` is a deprecated alias for the builtin `int`. To silence this warning, use `int` by itself. Doing this will not modify any behavior and is safe. When replacing `np.int`, you may wish to use e.g. `np.int64` or `np.int32` to specify the precision. If you wish to review your current use, check the release note link for additional information.\n",
      "Deprecated in NumPy 1.20; for more details and guidance: https://numpy.org/devdocs/release/1.20.0-notes.html#deprecations\n",
      "  J = np.zeros(K, dtype=np.int)\n"
     ]
    },
    {
     "name": "stdout",
     "output_type": "stream",
     "text": [
      "building a node2vec model...\n",
      "number of walks: 166680\taverage walk length: 39.8783\ttraining time: 123.5315\n",
      "valid auc: 0.9250\n",
      "node dim: 10,\tnum_walks: 20,\twalk_length: 40,\tp: 0.25,\tq: 0.75\n"
     ]
    },
    {
     "name": "stderr",
     "output_type": "stream",
     "text": [
      "C:\\Users\\SANGIN_HA\\AppData\\Local\\Temp\\ipykernel_12096\\129575388.py:8: DeprecationWarning: `np.int` is a deprecated alias for the builtin `int`. To silence this warning, use `int` by itself. Doing this will not modify any behavior and is safe. When replacing `np.int`, you may wish to use e.g. `np.int64` or `np.int32` to specify the precision. If you wish to review your current use, check the release note link for additional information.\n",
      "Deprecated in NumPy 1.20; for more details and guidance: https://numpy.org/devdocs/release/1.20.0-notes.html#deprecations\n",
      "  J = np.zeros(K, dtype=np.int)\n"
     ]
    },
    {
     "name": "stdout",
     "output_type": "stream",
     "text": [
      "building a node2vec model...\n",
      "number of walks: 166680\taverage walk length: 39.8910\ttraining time: 135.6911\n",
      "valid auc: 0.9253\n",
      "node dim: 10,\tnum_walks: 20,\twalk_length: 40,\tp: 0.50,\tq: 0.25\n"
     ]
    },
    {
     "name": "stderr",
     "output_type": "stream",
     "text": [
      "C:\\Users\\SANGIN_HA\\AppData\\Local\\Temp\\ipykernel_12096\\129575388.py:8: DeprecationWarning: `np.int` is a deprecated alias for the builtin `int`. To silence this warning, use `int` by itself. Doing this will not modify any behavior and is safe. When replacing `np.int`, you may wish to use e.g. `np.int64` or `np.int32` to specify the precision. If you wish to review your current use, check the release note link for additional information.\n",
      "Deprecated in NumPy 1.20; for more details and guidance: https://numpy.org/devdocs/release/1.20.0-notes.html#deprecations\n",
      "  J = np.zeros(K, dtype=np.int)\n"
     ]
    },
    {
     "name": "stdout",
     "output_type": "stream",
     "text": [
      "building a node2vec model...\n",
      "number of walks: 166680\taverage walk length: 39.8035\ttraining time: 178.2306\n",
      "valid auc: 0.9251\n",
      "node dim: 10,\tnum_walks: 20,\twalk_length: 40,\tp: 0.50,\tq: 0.50\n"
     ]
    },
    {
     "name": "stderr",
     "output_type": "stream",
     "text": [
      "C:\\Users\\SANGIN_HA\\AppData\\Local\\Temp\\ipykernel_12096\\129575388.py:8: DeprecationWarning: `np.int` is a deprecated alias for the builtin `int`. To silence this warning, use `int` by itself. Doing this will not modify any behavior and is safe. When replacing `np.int`, you may wish to use e.g. `np.int64` or `np.int32` to specify the precision. If you wish to review your current use, check the release note link for additional information.\n",
      "Deprecated in NumPy 1.20; for more details and guidance: https://numpy.org/devdocs/release/1.20.0-notes.html#deprecations\n",
      "  J = np.zeros(K, dtype=np.int)\n"
     ]
    },
    {
     "name": "stdout",
     "output_type": "stream",
     "text": [
      "building a node2vec model...\n",
      "number of walks: 166680\taverage walk length: 39.8406\ttraining time: 169.7910\n",
      "valid auc: 0.9254\n",
      "node dim: 10,\tnum_walks: 20,\twalk_length: 40,\tp: 0.50,\tq: 0.75\n"
     ]
    },
    {
     "name": "stderr",
     "output_type": "stream",
     "text": [
      "C:\\Users\\SANGIN_HA\\AppData\\Local\\Temp\\ipykernel_12096\\129575388.py:8: DeprecationWarning: `np.int` is a deprecated alias for the builtin `int`. To silence this warning, use `int` by itself. Doing this will not modify any behavior and is safe. When replacing `np.int`, you may wish to use e.g. `np.int64` or `np.int32` to specify the precision. If you wish to review your current use, check the release note link for additional information.\n",
      "Deprecated in NumPy 1.20; for more details and guidance: https://numpy.org/devdocs/release/1.20.0-notes.html#deprecations\n",
      "  J = np.zeros(K, dtype=np.int)\n"
     ]
    },
    {
     "name": "stdout",
     "output_type": "stream",
     "text": [
      "building a node2vec model...\n",
      "number of walks: 166680\taverage walk length: 39.8668\ttraining time: 126.2277\n",
      "valid auc: 0.9247\n",
      "node dim: 10,\tnum_walks: 20,\twalk_length: 40,\tp: 0.75,\tq: 0.25\n"
     ]
    },
    {
     "name": "stderr",
     "output_type": "stream",
     "text": [
      "C:\\Users\\SANGIN_HA\\AppData\\Local\\Temp\\ipykernel_12096\\129575388.py:8: DeprecationWarning: `np.int` is a deprecated alias for the builtin `int`. To silence this warning, use `int` by itself. Doing this will not modify any behavior and is safe. When replacing `np.int`, you may wish to use e.g. `np.int64` or `np.int32` to specify the precision. If you wish to review your current use, check the release note link for additional information.\n",
      "Deprecated in NumPy 1.20; for more details and guidance: https://numpy.org/devdocs/release/1.20.0-notes.html#deprecations\n",
      "  J = np.zeros(K, dtype=np.int)\n"
     ]
    },
    {
     "name": "stdout",
     "output_type": "stream",
     "text": [
      "building a node2vec model...\n",
      "number of walks: 166680\taverage walk length: 39.7905\ttraining time: 119.2514\n",
      "valid auc: 0.9259\n",
      "node dim: 10,\tnum_walks: 20,\twalk_length: 40,\tp: 0.75,\tq: 0.50\n"
     ]
    },
    {
     "name": "stderr",
     "output_type": "stream",
     "text": [
      "C:\\Users\\SANGIN_HA\\AppData\\Local\\Temp\\ipykernel_12096\\129575388.py:8: DeprecationWarning: `np.int` is a deprecated alias for the builtin `int`. To silence this warning, use `int` by itself. Doing this will not modify any behavior and is safe. When replacing `np.int`, you may wish to use e.g. `np.int64` or `np.int32` to specify the precision. If you wish to review your current use, check the release note link for additional information.\n",
      "Deprecated in NumPy 1.20; for more details and guidance: https://numpy.org/devdocs/release/1.20.0-notes.html#deprecations\n",
      "  J = np.zeros(K, dtype=np.int)\n"
     ]
    },
    {
     "name": "stdout",
     "output_type": "stream",
     "text": [
      "building a node2vec model...\n",
      "number of walks: 166680\taverage walk length: 39.8244\ttraining time: 113.2825\n",
      "valid auc: 0.9258\n",
      "node dim: 10,\tnum_walks: 20,\twalk_length: 40,\tp: 0.75,\tq: 0.75\n"
     ]
    },
    {
     "name": "stderr",
     "output_type": "stream",
     "text": [
      "C:\\Users\\SANGIN_HA\\AppData\\Local\\Temp\\ipykernel_12096\\129575388.py:8: DeprecationWarning: `np.int` is a deprecated alias for the builtin `int`. To silence this warning, use `int` by itself. Doing this will not modify any behavior and is safe. When replacing `np.int`, you may wish to use e.g. `np.int64` or `np.int32` to specify the precision. If you wish to review your current use, check the release note link for additional information.\n",
      "Deprecated in NumPy 1.20; for more details and guidance: https://numpy.org/devdocs/release/1.20.0-notes.html#deprecations\n",
      "  J = np.zeros(K, dtype=np.int)\n"
     ]
    },
    {
     "name": "stdout",
     "output_type": "stream",
     "text": [
      "building a node2vec model...\n",
      "number of walks: 166680\taverage walk length: 39.8531\ttraining time: 122.0087\n",
      "valid auc: 0.9247\n",
      "node dim: 10,\tnum_walks: 40,\twalk_length: 10,\tp: 0.25,\tq: 0.25\n"
     ]
    },
    {
     "name": "stderr",
     "output_type": "stream",
     "text": [
      "C:\\Users\\SANGIN_HA\\AppData\\Local\\Temp\\ipykernel_12096\\129575388.py:8: DeprecationWarning: `np.int` is a deprecated alias for the builtin `int`. To silence this warning, use `int` by itself. Doing this will not modify any behavior and is safe. When replacing `np.int`, you may wish to use e.g. `np.int64` or `np.int32` to specify the precision. If you wish to review your current use, check the release note link for additional information.\n",
      "Deprecated in NumPy 1.20; for more details and guidance: https://numpy.org/devdocs/release/1.20.0-notes.html#deprecations\n",
      "  J = np.zeros(K, dtype=np.int)\n"
     ]
    },
    {
     "name": "stdout",
     "output_type": "stream",
     "text": [
      "building a node2vec model...\n",
      "number of walks: 333360\taverage walk length: 9.9905\ttraining time: 112.6250\n",
      "valid auc: 0.9287\n",
      "node dim: 10,\tnum_walks: 40,\twalk_length: 10,\tp: 0.25,\tq: 0.50\n"
     ]
    },
    {
     "name": "stderr",
     "output_type": "stream",
     "text": [
      "C:\\Users\\SANGIN_HA\\AppData\\Local\\Temp\\ipykernel_12096\\129575388.py:8: DeprecationWarning: `np.int` is a deprecated alias for the builtin `int`. To silence this warning, use `int` by itself. Doing this will not modify any behavior and is safe. When replacing `np.int`, you may wish to use e.g. `np.int64` or `np.int32` to specify the precision. If you wish to review your current use, check the release note link for additional information.\n",
      "Deprecated in NumPy 1.20; for more details and guidance: https://numpy.org/devdocs/release/1.20.0-notes.html#deprecations\n",
      "  J = np.zeros(K, dtype=np.int)\n"
     ]
    },
    {
     "name": "stdout",
     "output_type": "stream",
     "text": [
      "building a node2vec model...\n",
      "number of walks: 333360\taverage walk length: 9.9911\ttraining time: 116.3313\n",
      "valid auc: 0.9288\n",
      "node dim: 10,\tnum_walks: 40,\twalk_length: 10,\tp: 0.25,\tq: 0.75\n"
     ]
    },
    {
     "name": "stderr",
     "output_type": "stream",
     "text": [
      "C:\\Users\\SANGIN_HA\\AppData\\Local\\Temp\\ipykernel_12096\\129575388.py:8: DeprecationWarning: `np.int` is a deprecated alias for the builtin `int`. To silence this warning, use `int` by itself. Doing this will not modify any behavior and is safe. When replacing `np.int`, you may wish to use e.g. `np.int64` or `np.int32` to specify the precision. If you wish to review your current use, check the release note link for additional information.\n",
      "Deprecated in NumPy 1.20; for more details and guidance: https://numpy.org/devdocs/release/1.20.0-notes.html#deprecations\n",
      "  J = np.zeros(K, dtype=np.int)\n"
     ]
    },
    {
     "name": "stdout",
     "output_type": "stream",
     "text": [
      "building a node2vec model...\n",
      "number of walks: 333360\taverage walk length: 9.9913\ttraining time: 114.6864\n",
      "valid auc: 0.9289\n",
      "node dim: 10,\tnum_walks: 40,\twalk_length: 10,\tp: 0.50,\tq: 0.25\n"
     ]
    },
    {
     "name": "stderr",
     "output_type": "stream",
     "text": [
      "C:\\Users\\SANGIN_HA\\AppData\\Local\\Temp\\ipykernel_12096\\129575388.py:8: DeprecationWarning: `np.int` is a deprecated alias for the builtin `int`. To silence this warning, use `int` by itself. Doing this will not modify any behavior and is safe. When replacing `np.int`, you may wish to use e.g. `np.int64` or `np.int32` to specify the precision. If you wish to review your current use, check the release note link for additional information.\n",
      "Deprecated in NumPy 1.20; for more details and guidance: https://numpy.org/devdocs/release/1.20.0-notes.html#deprecations\n",
      "  J = np.zeros(K, dtype=np.int)\n"
     ]
    },
    {
     "name": "stdout",
     "output_type": "stream",
     "text": [
      "building a node2vec model...\n",
      "number of walks: 333360\taverage walk length: 9.9887\ttraining time: 120.6661\n",
      "valid auc: 0.9281\n",
      "node dim: 10,\tnum_walks: 40,\twalk_length: 10,\tp: 0.50,\tq: 0.50\n"
     ]
    },
    {
     "name": "stderr",
     "output_type": "stream",
     "text": [
      "C:\\Users\\SANGIN_HA\\AppData\\Local\\Temp\\ipykernel_12096\\129575388.py:8: DeprecationWarning: `np.int` is a deprecated alias for the builtin `int`. To silence this warning, use `int` by itself. Doing this will not modify any behavior and is safe. When replacing `np.int`, you may wish to use e.g. `np.int64` or `np.int32` to specify the precision. If you wish to review your current use, check the release note link for additional information.\n",
      "Deprecated in NumPy 1.20; for more details and guidance: https://numpy.org/devdocs/release/1.20.0-notes.html#deprecations\n",
      "  J = np.zeros(K, dtype=np.int)\n"
     ]
    },
    {
     "name": "stdout",
     "output_type": "stream",
     "text": [
      "building a node2vec model...\n",
      "number of walks: 333360\taverage walk length: 9.9905\ttraining time: 120.3775\n",
      "valid auc: 0.9290\n",
      "node dim: 10,\tnum_walks: 40,\twalk_length: 10,\tp: 0.50,\tq: 0.75\n"
     ]
    },
    {
     "name": "stderr",
     "output_type": "stream",
     "text": [
      "C:\\Users\\SANGIN_HA\\AppData\\Local\\Temp\\ipykernel_12096\\129575388.py:8: DeprecationWarning: `np.int` is a deprecated alias for the builtin `int`. To silence this warning, use `int` by itself. Doing this will not modify any behavior and is safe. When replacing `np.int`, you may wish to use e.g. `np.int64` or `np.int32` to specify the precision. If you wish to review your current use, check the release note link for additional information.\n",
      "Deprecated in NumPy 1.20; for more details and guidance: https://numpy.org/devdocs/release/1.20.0-notes.html#deprecations\n",
      "  J = np.zeros(K, dtype=np.int)\n"
     ]
    },
    {
     "name": "stdout",
     "output_type": "stream",
     "text": [
      "building a node2vec model...\n",
      "number of walks: 333360\taverage walk length: 9.9910\ttraining time: 125.9592\n",
      "valid auc: 0.9278\n",
      "node dim: 10,\tnum_walks: 40,\twalk_length: 10,\tp: 0.75,\tq: 0.25\n"
     ]
    },
    {
     "name": "stderr",
     "output_type": "stream",
     "text": [
      "C:\\Users\\SANGIN_HA\\AppData\\Local\\Temp\\ipykernel_12096\\129575388.py:8: DeprecationWarning: `np.int` is a deprecated alias for the builtin `int`. To silence this warning, use `int` by itself. Doing this will not modify any behavior and is safe. When replacing `np.int`, you may wish to use e.g. `np.int64` or `np.int32` to specify the precision. If you wish to review your current use, check the release note link for additional information.\n",
      "Deprecated in NumPy 1.20; for more details and guidance: https://numpy.org/devdocs/release/1.20.0-notes.html#deprecations\n",
      "  J = np.zeros(K, dtype=np.int)\n"
     ]
    },
    {
     "name": "stdout",
     "output_type": "stream",
     "text": [
      "building a node2vec model...\n",
      "number of walks: 333360\taverage walk length: 9.9860\ttraining time: 128.3277\n",
      "valid auc: 0.9289\n",
      "node dim: 10,\tnum_walks: 40,\twalk_length: 10,\tp: 0.75,\tq: 0.50\n"
     ]
    },
    {
     "name": "stderr",
     "output_type": "stream",
     "text": [
      "C:\\Users\\SANGIN_HA\\AppData\\Local\\Temp\\ipykernel_12096\\129575388.py:8: DeprecationWarning: `np.int` is a deprecated alias for the builtin `int`. To silence this warning, use `int` by itself. Doing this will not modify any behavior and is safe. When replacing `np.int`, you may wish to use e.g. `np.int64` or `np.int32` to specify the precision. If you wish to review your current use, check the release note link for additional information.\n",
      "Deprecated in NumPy 1.20; for more details and guidance: https://numpy.org/devdocs/release/1.20.0-notes.html#deprecations\n",
      "  J = np.zeros(K, dtype=np.int)\n"
     ]
    },
    {
     "name": "stdout",
     "output_type": "stream",
     "text": [
      "building a node2vec model...\n",
      "number of walks: 333360\taverage walk length: 9.9901\ttraining time: 116.6541\n",
      "valid auc: 0.9292\n",
      "node dim: 10,\tnum_walks: 40,\twalk_length: 10,\tp: 0.75,\tq: 0.75\n"
     ]
    },
    {
     "name": "stderr",
     "output_type": "stream",
     "text": [
      "C:\\Users\\SANGIN_HA\\AppData\\Local\\Temp\\ipykernel_12096\\129575388.py:8: DeprecationWarning: `np.int` is a deprecated alias for the builtin `int`. To silence this warning, use `int` by itself. Doing this will not modify any behavior and is safe. When replacing `np.int`, you may wish to use e.g. `np.int64` or `np.int32` to specify the precision. If you wish to review your current use, check the release note link for additional information.\n",
      "Deprecated in NumPy 1.20; for more details and guidance: https://numpy.org/devdocs/release/1.20.0-notes.html#deprecations\n",
      "  J = np.zeros(K, dtype=np.int)\n"
     ]
    },
    {
     "name": "stdout",
     "output_type": "stream",
     "text": [
      "building a node2vec model...\n",
      "number of walks: 333360\taverage walk length: 9.9907\ttraining time: 127.8329\n",
      "valid auc: 0.9293\n",
      "node dim: 10,\tnum_walks: 40,\twalk_length: 20,\tp: 0.25,\tq: 0.25\n"
     ]
    },
    {
     "name": "stderr",
     "output_type": "stream",
     "text": [
      "C:\\Users\\SANGIN_HA\\AppData\\Local\\Temp\\ipykernel_12096\\129575388.py:8: DeprecationWarning: `np.int` is a deprecated alias for the builtin `int`. To silence this warning, use `int` by itself. Doing this will not modify any behavior and is safe. When replacing `np.int`, you may wish to use e.g. `np.int64` or `np.int32` to specify the precision. If you wish to review your current use, check the release note link for additional information.\n",
      "Deprecated in NumPy 1.20; for more details and guidance: https://numpy.org/devdocs/release/1.20.0-notes.html#deprecations\n",
      "  J = np.zeros(K, dtype=np.int)\n"
     ]
    },
    {
     "name": "stdout",
     "output_type": "stream",
     "text": [
      "building a node2vec model...\n",
      "number of walks: 333360\taverage walk length: 19.9622\ttraining time: 158.8599\n",
      "valid auc: 0.9262\n",
      "node dim: 10,\tnum_walks: 40,\twalk_length: 20,\tp: 0.25,\tq: 0.50\n"
     ]
    },
    {
     "name": "stderr",
     "output_type": "stream",
     "text": [
      "C:\\Users\\SANGIN_HA\\AppData\\Local\\Temp\\ipykernel_12096\\129575388.py:8: DeprecationWarning: `np.int` is a deprecated alias for the builtin `int`. To silence this warning, use `int` by itself. Doing this will not modify any behavior and is safe. When replacing `np.int`, you may wish to use e.g. `np.int64` or `np.int32` to specify the precision. If you wish to review your current use, check the release note link for additional information.\n",
      "Deprecated in NumPy 1.20; for more details and guidance: https://numpy.org/devdocs/release/1.20.0-notes.html#deprecations\n",
      "  J = np.zeros(K, dtype=np.int)\n"
     ]
    },
    {
     "name": "stdout",
     "output_type": "stream",
     "text": [
      "building a node2vec model...\n",
      "number of walks: 333360\taverage walk length: 19.9653\ttraining time: 162.4091\n",
      "valid auc: 0.9266\n",
      "node dim: 10,\tnum_walks: 40,\twalk_length: 20,\tp: 0.25,\tq: 0.75\n"
     ]
    },
    {
     "name": "stderr",
     "output_type": "stream",
     "text": [
      "C:\\Users\\SANGIN_HA\\AppData\\Local\\Temp\\ipykernel_12096\\129575388.py:8: DeprecationWarning: `np.int` is a deprecated alias for the builtin `int`. To silence this warning, use `int` by itself. Doing this will not modify any behavior and is safe. When replacing `np.int`, you may wish to use e.g. `np.int64` or `np.int32` to specify the precision. If you wish to review your current use, check the release note link for additional information.\n",
      "Deprecated in NumPy 1.20; for more details and guidance: https://numpy.org/devdocs/release/1.20.0-notes.html#deprecations\n",
      "  J = np.zeros(K, dtype=np.int)\n"
     ]
    },
    {
     "name": "stdout",
     "output_type": "stream",
     "text": [
      "building a node2vec model...\n",
      "number of walks: 333360\taverage walk length: 19.9698\ttraining time: 166.2593\n",
      "valid auc: 0.9271\n",
      "node dim: 10,\tnum_walks: 40,\twalk_length: 20,\tp: 0.50,\tq: 0.25\n"
     ]
    },
    {
     "name": "stderr",
     "output_type": "stream",
     "text": [
      "C:\\Users\\SANGIN_HA\\AppData\\Local\\Temp\\ipykernel_12096\\129575388.py:8: DeprecationWarning: `np.int` is a deprecated alias for the builtin `int`. To silence this warning, use `int` by itself. Doing this will not modify any behavior and is safe. When replacing `np.int`, you may wish to use e.g. `np.int64` or `np.int32` to specify the precision. If you wish to review your current use, check the release note link for additional information.\n",
      "Deprecated in NumPy 1.20; for more details and guidance: https://numpy.org/devdocs/release/1.20.0-notes.html#deprecations\n",
      "  J = np.zeros(K, dtype=np.int)\n"
     ]
    },
    {
     "name": "stdout",
     "output_type": "stream",
     "text": [
      "building a node2vec model...\n",
      "number of walks: 333360\taverage walk length: 19.9489\ttraining time: 162.7289\n",
      "valid auc: 0.9273\n",
      "node dim: 10,\tnum_walks: 40,\twalk_length: 20,\tp: 0.50,\tq: 0.50\n"
     ]
    },
    {
     "name": "stderr",
     "output_type": "stream",
     "text": [
      "C:\\Users\\SANGIN_HA\\AppData\\Local\\Temp\\ipykernel_12096\\129575388.py:8: DeprecationWarning: `np.int` is a deprecated alias for the builtin `int`. To silence this warning, use `int` by itself. Doing this will not modify any behavior and is safe. When replacing `np.int`, you may wish to use e.g. `np.int64` or `np.int32` to specify the precision. If you wish to review your current use, check the release note link for additional information.\n",
      "Deprecated in NumPy 1.20; for more details and guidance: https://numpy.org/devdocs/release/1.20.0-notes.html#deprecations\n",
      "  J = np.zeros(K, dtype=np.int)\n"
     ]
    },
    {
     "name": "stdout",
     "output_type": "stream",
     "text": [
      "building a node2vec model...\n",
      "number of walks: 333360\taverage walk length: 19.9616\ttraining time: 152.8839\n",
      "valid auc: 0.9268\n",
      "node dim: 10,\tnum_walks: 40,\twalk_length: 20,\tp: 0.50,\tq: 0.75\n"
     ]
    },
    {
     "name": "stderr",
     "output_type": "stream",
     "text": [
      "C:\\Users\\SANGIN_HA\\AppData\\Local\\Temp\\ipykernel_12096\\129575388.py:8: DeprecationWarning: `np.int` is a deprecated alias for the builtin `int`. To silence this warning, use `int` by itself. Doing this will not modify any behavior and is safe. When replacing `np.int`, you may wish to use e.g. `np.int64` or `np.int32` to specify the precision. If you wish to review your current use, check the release note link for additional information.\n",
      "Deprecated in NumPy 1.20; for more details and guidance: https://numpy.org/devdocs/release/1.20.0-notes.html#deprecations\n",
      "  J = np.zeros(K, dtype=np.int)\n"
     ]
    },
    {
     "name": "stdout",
     "output_type": "stream",
     "text": [
      "building a node2vec model...\n",
      "number of walks: 333360\taverage walk length: 19.9652\ttraining time: 183.9965\n",
      "valid auc: 0.9258\n",
      "node dim: 10,\tnum_walks: 40,\twalk_length: 20,\tp: 0.75,\tq: 0.25\n"
     ]
    },
    {
     "name": "stderr",
     "output_type": "stream",
     "text": [
      "C:\\Users\\SANGIN_HA\\AppData\\Local\\Temp\\ipykernel_12096\\129575388.py:8: DeprecationWarning: `np.int` is a deprecated alias for the builtin `int`. To silence this warning, use `int` by itself. Doing this will not modify any behavior and is safe. When replacing `np.int`, you may wish to use e.g. `np.int64` or `np.int32` to specify the precision. If you wish to review your current use, check the release note link for additional information.\n",
      "Deprecated in NumPy 1.20; for more details and guidance: https://numpy.org/devdocs/release/1.20.0-notes.html#deprecations\n",
      "  J = np.zeros(K, dtype=np.int)\n"
     ]
    },
    {
     "name": "stdout",
     "output_type": "stream",
     "text": [
      "building a node2vec model...\n",
      "number of walks: 333360\taverage walk length: 19.9412\ttraining time: 167.0574\n",
      "valid auc: 0.9273\n",
      "node dim: 10,\tnum_walks: 40,\twalk_length: 20,\tp: 0.75,\tq: 0.50\n"
     ]
    },
    {
     "name": "stderr",
     "output_type": "stream",
     "text": [
      "C:\\Users\\SANGIN_HA\\AppData\\Local\\Temp\\ipykernel_12096\\129575388.py:8: DeprecationWarning: `np.int` is a deprecated alias for the builtin `int`. To silence this warning, use `int` by itself. Doing this will not modify any behavior and is safe. When replacing `np.int`, you may wish to use e.g. `np.int64` or `np.int32` to specify the precision. If you wish to review your current use, check the release note link for additional information.\n",
      "Deprecated in NumPy 1.20; for more details and guidance: https://numpy.org/devdocs/release/1.20.0-notes.html#deprecations\n",
      "  J = np.zeros(K, dtype=np.int)\n"
     ]
    },
    {
     "name": "stdout",
     "output_type": "stream",
     "text": [
      "building a node2vec model...\n",
      "number of walks: 333360\taverage walk length: 19.9561\ttraining time: 169.1953\n",
      "valid auc: 0.9266\n",
      "node dim: 10,\tnum_walks: 40,\twalk_length: 20,\tp: 0.75,\tq: 0.75\n"
     ]
    },
    {
     "name": "stderr",
     "output_type": "stream",
     "text": [
      "C:\\Users\\SANGIN_HA\\AppData\\Local\\Temp\\ipykernel_12096\\129575388.py:8: DeprecationWarning: `np.int` is a deprecated alias for the builtin `int`. To silence this warning, use `int` by itself. Doing this will not modify any behavior and is safe. When replacing `np.int`, you may wish to use e.g. `np.int64` or `np.int32` to specify the precision. If you wish to review your current use, check the release note link for additional information.\n",
      "Deprecated in NumPy 1.20; for more details and guidance: https://numpy.org/devdocs/release/1.20.0-notes.html#deprecations\n",
      "  J = np.zeros(K, dtype=np.int)\n"
     ]
    },
    {
     "name": "stdout",
     "output_type": "stream",
     "text": [
      "building a node2vec model...\n",
      "number of walks: 333360\taverage walk length: 19.9626\ttraining time: 163.2426\n",
      "valid auc: 0.9268\n",
      "node dim: 10,\tnum_walks: 40,\twalk_length: 40,\tp: 0.25,\tq: 0.25\n"
     ]
    },
    {
     "name": "stderr",
     "output_type": "stream",
     "text": [
      "C:\\Users\\SANGIN_HA\\AppData\\Local\\Temp\\ipykernel_12096\\129575388.py:8: DeprecationWarning: `np.int` is a deprecated alias for the builtin `int`. To silence this warning, use `int` by itself. Doing this will not modify any behavior and is safe. When replacing `np.int`, you may wish to use e.g. `np.int64` or `np.int32` to specify the precision. If you wish to review your current use, check the release note link for additional information.\n",
      "Deprecated in NumPy 1.20; for more details and guidance: https://numpy.org/devdocs/release/1.20.0-notes.html#deprecations\n",
      "  J = np.zeros(K, dtype=np.int)\n"
     ]
    },
    {
     "name": "stdout",
     "output_type": "stream",
     "text": [
      "building a node2vec model...\n",
      "number of walks: 333360\taverage walk length: 39.8382\ttraining time: 258.4424\n",
      "valid auc: 0.9221\n",
      "node dim: 10,\tnum_walks: 40,\twalk_length: 40,\tp: 0.25,\tq: 0.50\n"
     ]
    },
    {
     "name": "stderr",
     "output_type": "stream",
     "text": [
      "C:\\Users\\SANGIN_HA\\AppData\\Local\\Temp\\ipykernel_12096\\129575388.py:8: DeprecationWarning: `np.int` is a deprecated alias for the builtin `int`. To silence this warning, use `int` by itself. Doing this will not modify any behavior and is safe. When replacing `np.int`, you may wish to use e.g. `np.int64` or `np.int32` to specify the precision. If you wish to review your current use, check the release note link for additional information.\n",
      "Deprecated in NumPy 1.20; for more details and guidance: https://numpy.org/devdocs/release/1.20.0-notes.html#deprecations\n",
      "  J = np.zeros(K, dtype=np.int)\n"
     ]
    },
    {
     "name": "stdout",
     "output_type": "stream",
     "text": [
      "building a node2vec model...\n",
      "number of walks: 333360\taverage walk length: 39.8818\ttraining time: 264.6896\n",
      "valid auc: 0.9225\n",
      "node dim: 10,\tnum_walks: 40,\twalk_length: 40,\tp: 0.25,\tq: 0.75\n"
     ]
    },
    {
     "name": "stderr",
     "output_type": "stream",
     "text": [
      "C:\\Users\\SANGIN_HA\\AppData\\Local\\Temp\\ipykernel_12096\\129575388.py:8: DeprecationWarning: `np.int` is a deprecated alias for the builtin `int`. To silence this warning, use `int` by itself. Doing this will not modify any behavior and is safe. When replacing `np.int`, you may wish to use e.g. `np.int64` or `np.int32` to specify the precision. If you wish to review your current use, check the release note link for additional information.\n",
      "Deprecated in NumPy 1.20; for more details and guidance: https://numpy.org/devdocs/release/1.20.0-notes.html#deprecations\n",
      "  J = np.zeros(K, dtype=np.int)\n"
     ]
    },
    {
     "name": "stdout",
     "output_type": "stream",
     "text": [
      "building a node2vec model...\n",
      "number of walks: 333360\taverage walk length: 39.8911\ttraining time: 275.5029\n",
      "valid auc: 0.9224\n",
      "node dim: 10,\tnum_walks: 40,\twalk_length: 40,\tp: 0.50,\tq: 0.25\n"
     ]
    },
    {
     "name": "stderr",
     "output_type": "stream",
     "text": [
      "C:\\Users\\SANGIN_HA\\AppData\\Local\\Temp\\ipykernel_12096\\129575388.py:8: DeprecationWarning: `np.int` is a deprecated alias for the builtin `int`. To silence this warning, use `int` by itself. Doing this will not modify any behavior and is safe. When replacing `np.int`, you may wish to use e.g. `np.int64` or `np.int32` to specify the precision. If you wish to review your current use, check the release note link for additional information.\n",
      "Deprecated in NumPy 1.20; for more details and guidance: https://numpy.org/devdocs/release/1.20.0-notes.html#deprecations\n",
      "  J = np.zeros(K, dtype=np.int)\n"
     ]
    },
    {
     "name": "stdout",
     "output_type": "stream",
     "text": [
      "building a node2vec model...\n",
      "number of walks: 333360\taverage walk length: 39.8086\ttraining time: 259.6660\n",
      "valid auc: 0.9231\n",
      "node dim: 10,\tnum_walks: 40,\twalk_length: 40,\tp: 0.50,\tq: 0.50\n"
     ]
    },
    {
     "name": "stderr",
     "output_type": "stream",
     "text": [
      "C:\\Users\\SANGIN_HA\\AppData\\Local\\Temp\\ipykernel_12096\\129575388.py:8: DeprecationWarning: `np.int` is a deprecated alias for the builtin `int`. To silence this warning, use `int` by itself. Doing this will not modify any behavior and is safe. When replacing `np.int`, you may wish to use e.g. `np.int64` or `np.int32` to specify the precision. If you wish to review your current use, check the release note link for additional information.\n",
      "Deprecated in NumPy 1.20; for more details and guidance: https://numpy.org/devdocs/release/1.20.0-notes.html#deprecations\n",
      "  J = np.zeros(K, dtype=np.int)\n"
     ]
    },
    {
     "name": "stdout",
     "output_type": "stream",
     "text": [
      "building a node2vec model...\n",
      "number of walks: 333360\taverage walk length: 39.8412\ttraining time: 274.4977\n",
      "valid auc: 0.9223\n",
      "node dim: 10,\tnum_walks: 40,\twalk_length: 40,\tp: 0.50,\tq: 0.75\n"
     ]
    },
    {
     "name": "stderr",
     "output_type": "stream",
     "text": [
      "C:\\Users\\SANGIN_HA\\AppData\\Local\\Temp\\ipykernel_12096\\129575388.py:8: DeprecationWarning: `np.int` is a deprecated alias for the builtin `int`. To silence this warning, use `int` by itself. Doing this will not modify any behavior and is safe. When replacing `np.int`, you may wish to use e.g. `np.int64` or `np.int32` to specify the precision. If you wish to review your current use, check the release note link for additional information.\n",
      "Deprecated in NumPy 1.20; for more details and guidance: https://numpy.org/devdocs/release/1.20.0-notes.html#deprecations\n",
      "  J = np.zeros(K, dtype=np.int)\n"
     ]
    },
    {
     "name": "stdout",
     "output_type": "stream",
     "text": [
      "building a node2vec model...\n",
      "number of walks: 333360\taverage walk length: 39.8672\ttraining time: 246.1695\n",
      "valid auc: 0.9227\n",
      "node dim: 10,\tnum_walks: 40,\twalk_length: 40,\tp: 0.75,\tq: 0.25\n"
     ]
    },
    {
     "name": "stderr",
     "output_type": "stream",
     "text": [
      "C:\\Users\\SANGIN_HA\\AppData\\Local\\Temp\\ipykernel_12096\\129575388.py:8: DeprecationWarning: `np.int` is a deprecated alias for the builtin `int`. To silence this warning, use `int` by itself. Doing this will not modify any behavior and is safe. When replacing `np.int`, you may wish to use e.g. `np.int64` or `np.int32` to specify the precision. If you wish to review your current use, check the release note link for additional information.\n",
      "Deprecated in NumPy 1.20; for more details and guidance: https://numpy.org/devdocs/release/1.20.0-notes.html#deprecations\n",
      "  J = np.zeros(K, dtype=np.int)\n"
     ]
    },
    {
     "name": "stdout",
     "output_type": "stream",
     "text": [
      "building a node2vec model...\n",
      "number of walks: 333360\taverage walk length: 39.7872\ttraining time: 262.0688\n",
      "valid auc: 0.9236\n",
      "node dim: 10,\tnum_walks: 40,\twalk_length: 40,\tp: 0.75,\tq: 0.50\n"
     ]
    },
    {
     "name": "stderr",
     "output_type": "stream",
     "text": [
      "C:\\Users\\SANGIN_HA\\AppData\\Local\\Temp\\ipykernel_12096\\129575388.py:8: DeprecationWarning: `np.int` is a deprecated alias for the builtin `int`. To silence this warning, use `int` by itself. Doing this will not modify any behavior and is safe. When replacing `np.int`, you may wish to use e.g. `np.int64` or `np.int32` to specify the precision. If you wish to review your current use, check the release note link for additional information.\n",
      "Deprecated in NumPy 1.20; for more details and guidance: https://numpy.org/devdocs/release/1.20.0-notes.html#deprecations\n",
      "  J = np.zeros(K, dtype=np.int)\n"
     ]
    },
    {
     "name": "stdout",
     "output_type": "stream",
     "text": [
      "building a node2vec model...\n",
      "number of walks: 333360\taverage walk length: 39.8272\ttraining time: 253.3743\n",
      "valid auc: 0.9235\n",
      "node dim: 10,\tnum_walks: 40,\twalk_length: 40,\tp: 0.75,\tq: 0.75\n"
     ]
    },
    {
     "name": "stderr",
     "output_type": "stream",
     "text": [
      "C:\\Users\\SANGIN_HA\\AppData\\Local\\Temp\\ipykernel_12096\\129575388.py:8: DeprecationWarning: `np.int` is a deprecated alias for the builtin `int`. To silence this warning, use `int` by itself. Doing this will not modify any behavior and is safe. When replacing `np.int`, you may wish to use e.g. `np.int64` or `np.int32` to specify the precision. If you wish to review your current use, check the release note link for additional information.\n",
      "Deprecated in NumPy 1.20; for more details and guidance: https://numpy.org/devdocs/release/1.20.0-notes.html#deprecations\n",
      "  J = np.zeros(K, dtype=np.int)\n"
     ]
    },
    {
     "name": "stdout",
     "output_type": "stream",
     "text": [
      "building a node2vec model...\n",
      "number of walks: 333360\taverage walk length: 39.8523\ttraining time: 221.9285\n",
      "valid auc: 0.9231\n"
     ]
    }
   ],
   "source": [
    "np.random.seed(0)\n",
    "\n",
    "node_dim = 10 # TODO\n",
    "num_walks = [5, 10, 20, 40] # TODO\n",
    "walk_length = [10, 20, 40] # TODO\n",
    "p_list = [0.25, 0.5, 0.75] # TODO\n",
    "q_list = [0.25, 0.5, 0.75] # TODO\n",
    "\n",
    "node2vec_auc_scores = dict()\n",
    "for num_walk in num_walks:\n",
    "    for walk in walk_length:\n",
    "        for p in p_list:\n",
    "            for q in q_list:\n",
    "                print(\"node dim: %d,\\tnum_walks: %d,\\twalk_length: %d,\\tp: %.2f,\\tq: %.2f\" % (\n",
    "                    node_dim, num_walk, walk, p, q), end=\"\\n\")\n",
    "                alias_nodes, alias_edges = preprocess_transition_probs(graph, p=p, q=q)\n",
    "                model = build_node2vec(graph, alias_nodes, alias_edges, \n",
    "                        node_dim=node_dim, num_walks=num_walk, walk_length=walk)\n",
    "                node2vec_auc_scores[(node_dim, num_walk, walk, p, q,'valid')] = get_auc_score(model, valid_edges, false_edges)\n",
    "                print(\"valid auc: %.4f\" % (node2vec_auc_scores[(node_dim, num_walk, walk, p, q,'valid')]))"
   ]
  },
  {
   "cell_type": "code",
   "execution_count": 3,
   "metadata": {},
   "outputs": [],
   "source": [
    "p_values=[0.25, 0.5, 0.75]\n",
    "q_values=[0.25, 0.5, 0.75]\n",
    "num_walks_values = [5, 10, 20, 40]\n",
    "walk_length_values = [10, 20, 40]\n",
    "def corr_heatmap(p ,n1, n2, n3):\n",
    "    # Create figure and axes objects\n",
    "    fig, (ax1, ax2, ax3) = plt.subplots(1, 3, figsize=(13, 4))\n",
    "    # Create heatmap 1\n",
    "    a1 = np.array([node2vec_auc_scores[(node_dim, num_walks, walk_length, p, n1, 'valid')] for num_walks in num_walks_values for walk_length in walk_length_values])\n",
    "    a1 = a1.reshape(4, 3)\n",
    "    im1 = ax1.imshow(a1, cmap=\"coolwarm\", interpolation=\"nearest\")\n",
    "\n",
    "    # Create heatmap 2\n",
    "    a2 = np.array([node2vec_auc_scores[(node_dim, num_walks, walk_length, p, n2, 'valid')] for num_walks in num_walks_values for walk_length in walk_length_values])\n",
    "    a2 = a2.reshape(4, 3)\n",
    "    im2 = ax2.imshow(a2, cmap=\"coolwarm\", interpolation=\"nearest\")\n",
    "    \n",
    "    a3 = np.array([node2vec_auc_scores[(node_dim, num_walks, walk_length, p, n3, 'valid')] for num_walks in num_walks_values for walk_length in walk_length_values])\n",
    "    a3 = a3.reshape(4, 3)\n",
    "    im3 = ax3.imshow(a3, cmap=\"coolwarm\", interpolation=\"nearest\")\n",
    "\n",
    "    # Add colorbars\n",
    "    cbar1 = ax1.figure.colorbar(im1, ax=ax1)\n",
    "    cbar1.ax.set_ylabel(\"AUC score\", rotation=-90, va=\"bottom\")\n",
    "    cbar2 = ax2.figure.colorbar(im2, ax=ax2)\n",
    "    cbar2.ax.set_ylabel(\"AUC score\", rotation=-90, va=\"bottom\")\n",
    "    cbar3 = ax3.figure.colorbar(im3, ax=ax3)\n",
    "    cbar3.ax.set_ylabel(\"AUC score\", rotation=-90, va=\"bottom\")\n",
    "\n",
    "    # Add annotations to heatmap 1\n",
    "    for i in range(len(num_walks_values)):\n",
    "        for j in range(len(walk_length_values)):\n",
    "            text = ax1.text(j, i, \"{:.4f}\".format(a1[i, j]), ha=\"center\", va=\"center\", color=\"black\")\n",
    "\n",
    "    # Add annotations to heatmap 2\n",
    "    for i in range(len(num_walks_values)):\n",
    "        for j in range(len(walk_length_values)):\n",
    "            text = ax2.text(j, i, \"{:.4f}\".format(a2[i, j]), ha=\"center\", va=\"center\", color=\"black\")\n",
    "    \n",
    "    for i in range(len(num_walks_values)):\n",
    "        for j in range(len(walk_length_values)):\n",
    "            text = ax3.text(j, i, \"{:.4f}\".format(a3[i, j]), ha=\"center\", va=\"center\", color=\"black\")\n",
    "\n",
    "    # Set axis labels and tick marks for heatmap 1\n",
    "    ax1.set_yticks(np.arange(len(num_walks_values)))\n",
    "    ax1.set_xticks(np.arange(len(walk_length_values)))\n",
    "    ax1.set_yticklabels(num_walks_values)\n",
    "    ax1.set_xticklabels(walk_length_values)\n",
    "    ax1.set_xlabel(\"Walk length\")\n",
    "    ax1.set_ylabel(\"Number of walks\")\n",
    "    ax1.set_title(f\"p = {p}, q = {n1}\")\n",
    "\n",
    "    # Set axis labels and tick marks for heatmap 2\n",
    "    ax2.set_yticks(np.arange(len(num_walks_values)))\n",
    "    ax2.set_xticks(np.arange(len(walk_length_values)))\n",
    "    ax2.set_yticklabels(num_walks_values)\n",
    "    ax2.set_xticklabels(walk_length_values)\n",
    "    ax2.set_xlabel(\"Walk length\")\n",
    "    ax2.set_ylabel(\"Number of walks\")\n",
    "    ax2.set_title(f\"p = {p}, q = {n2}\")\n",
    "    \n",
    "    ax3.set_yticks(np.arange(len(num_walks_values)))\n",
    "    ax3.set_xticks(np.arange(len(walk_length_values)))\n",
    "    ax3.set_yticklabels(num_walks_values)\n",
    "    ax3.set_xticklabels(walk_length_values)\n",
    "    ax3.set_xlabel(\"Walk length\")\n",
    "    ax3.set_ylabel(\"Number of walks\")\n",
    "    ax3.set_title(f\"p = {p}, q = {n3}\")\n",
    "\n",
    "    # Rotate tick labels on y-axis\n",
    "    plt.setp(ax1.get_yticklabels(), rotation=0, ha=\"right\", rotation_mode=\"anchor\")\n",
    "    plt.setp(ax2.get_yticklabels(), rotation=0, ha=\"right\", rotation_mode=\"anchor\")\n",
    "    plt.setp(ax3.get_yticklabels(), rotation=0, ha=\"right\", rotation_mode=\"anchor\")\n",
    "\n",
    "    # Adjust spacing between subplots\n",
    "    plt.subplots_adjust(wspace=0.8)\n",
    "\n",
    "    # Show plot\n",
    "    plt.show()"
   ]
  },
  {
   "cell_type": "code",
   "execution_count": 9,
   "metadata": {},
   "outputs": [],
   "source": [
    "node_dim=10\n",
    "node2vec_auc_scores = dict()\n",
    "\n",
    "node2vec_auc_scores[(10, 5, 10, 0.25, 0.25,'valid')]= 0.9147\n",
    "node2vec_auc_scores[(10, 5, 20, 0.25, 0.25,'valid')]= 0.9270\n",
    "node2vec_auc_scores[(10, 5, 40, 0.25, 0.25,'valid')]= 0.9297\n",
    "node2vec_auc_scores[(10, 10, 10, 0.25, 0.25,'valid')]= 0.9282\n",
    "node2vec_auc_scores[(10, 10, 20, 0.25, 0.25,'valid')]= 0.9303\n",
    "node2vec_auc_scores[(10, 10, 40, 0.25, 0.25,'valid')]= 0.9283\n",
    "node2vec_auc_scores[(10, 20, 10, 0.25, 0.25,'valid')]= 0.9295\n",
    "node2vec_auc_scores[(10, 20, 20, 0.25, 0.25,'valid')]= 0.9290\n",
    "node2vec_auc_scores[(10, 20, 40, 0.25, 0.25,'valid')]= 0.9249\n",
    "node2vec_auc_scores[(10, 40, 10, 0.25, 0.25,'valid')]= 0.9287\n",
    "node2vec_auc_scores[(10, 40, 20, 0.25, 0.25,'valid')]= 0.9262\n",
    "node2vec_auc_scores[(10, 40, 40, 0.25, 0.25,'valid')]= 0.9221\n",
    "node2vec_auc_scores[(10, 5, 10, 0.25, 0.5,'valid')]= 0.9158\n",
    "node2vec_auc_scores[(10, 5, 20, 0.25, 0.5,'valid')]= 0.9278\n",
    "node2vec_auc_scores[(10, 5, 40, 0.25, 0.5,'valid')]= 0.9294\n",
    "node2vec_auc_scores[(10, 10, 10, 0.25, 0.5,'valid')]= 0.9275\n",
    "node2vec_auc_scores[(10, 10, 20, 0.25, 0.5,'valid')]= 0.9310\n",
    "node2vec_auc_scores[(10, 10, 40, 0.25, 0.5,'valid')]= 0.9292\n",
    "node2vec_auc_scores[(10, 20, 10, 0.25, 0.5,'valid')]= 0.9298\n",
    "node2vec_auc_scores[(10, 20, 20, 0.25, 0.5,'valid')]= 0.9297\n",
    "node2vec_auc_scores[(10, 20, 40, 0.25, 0.5,'valid')]= 0.9250\n",
    "node2vec_auc_scores[(10, 40, 10, 0.25, 0.5,'valid')]= 0.9288\n",
    "node2vec_auc_scores[(10, 40, 20, 0.25, 0.5,'valid')]= 0.9266\n",
    "node2vec_auc_scores[(10, 40, 40, 0.25, 0.5,'valid')]= 0.9225\n",
    "node2vec_auc_scores[(10, 5, 10, 0.25, 0.75,'valid')]= 0.9184\n",
    "node2vec_auc_scores[(10, 5, 20, 0.25, 0.75,'valid')]= 0.9276\n",
    "node2vec_auc_scores[(10, 5, 40, 0.25, 0.75,'valid')]= 0.9296\n",
    "node2vec_auc_scores[(10, 10, 10, 0.25, 0.75,'valid')]= 0.9264\n",
    "node2vec_auc_scores[(10, 10, 20, 0.25, 0.75,'valid')]= 0.9306\n",
    "node2vec_auc_scores[(10, 10, 40, 0.25, 0.75,'valid')]= 0.9277\n",
    "node2vec_auc_scores[(10, 20, 10, 0.25, 0.75,'valid')]= 0.9294\n",
    "node2vec_auc_scores[(10, 20, 20, 0.25, 0.75,'valid')]= 0.9294\n",
    "node2vec_auc_scores[(10, 20, 40, 0.25, 0.75,'valid')]= 0.9253\n",
    "node2vec_auc_scores[(10, 40, 10, 0.25, 0.75,'valid')]= 0.9289\n",
    "node2vec_auc_scores[(10, 40, 20, 0.25, 0.75,'valid')]= 0.9271\n",
    "node2vec_auc_scores[(10, 40, 40, 0.25, 0.75,'valid')]= 0.9224\n",
    "node2vec_auc_scores[(10, 5, 10, 0.5, 0.25,'valid')]= 0.9138\n",
    "node2vec_auc_scores[(10, 5, 20, 0.5, 0.25,'valid')]= 0.9287\n",
    "node2vec_auc_scores[(10, 5, 40, 0.5, 0.25,'valid')]= 0.9291\n",
    "node2vec_auc_scores[(10, 10, 10, 0.5, 0.25,'valid')]= 0.9258\n",
    "node2vec_auc_scores[(10, 10, 20, 0.5, 0.25,'valid')]= 0.9307\n",
    "node2vec_auc_scores[(10, 10, 40, 0.5, 0.25,'valid')]= 0.9277\n",
    "node2vec_auc_scores[(10, 20, 10, 0.5, 0.25,'valid')]= 0.9290\n",
    "node2vec_auc_scores[(10, 20, 20, 0.5, 0.25,'valid')]= 0.9298\n",
    "node2vec_auc_scores[(10, 20, 40, 0.5, 0.25,'valid')]= 0.9251\n",
    "node2vec_auc_scores[(10, 40, 10, 0.5, 0.25,'valid')]= 0.9281\n",
    "node2vec_auc_scores[(10, 40, 20, 0.5, 0.25,'valid')]= 0.9273\n",
    "node2vec_auc_scores[(10, 40, 40, 0.5, 0.25,'valid')]= 0.9231\n",
    "node2vec_auc_scores[(10, 5, 10, 0.5, 0.5,'valid')]= 0.9130\n",
    "node2vec_auc_scores[(10, 5, 20, 0.5, 0.5,'valid')]= 0.9279\n",
    "node2vec_auc_scores[(10, 5, 40, 0.5, 0.5,'valid')]= 0.9300\n",
    "node2vec_auc_scores[(10, 10, 10, 0.5, 0.5,'valid')]= 0.9273\n",
    "node2vec_auc_scores[(10, 10, 20, 0.5, 0.5,'valid')]= 0.9312\n",
    "node2vec_auc_scores[(10, 10, 40, 0.5, 0.5,'valid')]= 0.9282\n",
    "node2vec_auc_scores[(10, 20, 10, 0.5, 0.5,'valid')]= 0.9300\n",
    "node2vec_auc_scores[(10, 20, 20, 0.5, 0.5,'valid')]= 0.9301\n",
    "node2vec_auc_scores[(10, 20, 40, 0.5, 0.5,'valid')]= 0.9254\n",
    "node2vec_auc_scores[(10, 40, 10, 0.5, 0.5,'valid')]= 0.9290\n",
    "node2vec_auc_scores[(10, 40, 20, 0.5, 0.5,'valid')]= 0.9268\n",
    "node2vec_auc_scores[(10, 40, 40, 0.5, 0.5,'valid')]= 0.9223\n",
    "node2vec_auc_scores[(10, 5, 10, 0.5, 0.75,'valid')]= 0.9145\n",
    "node2vec_auc_scores[(10, 5, 20, 0.5, 0.75,'valid')]= 0.9276\n",
    "node2vec_auc_scores[(10, 5, 40, 0.5, 0.75,'valid')]= 0.9302\n",
    "node2vec_auc_scores[(10, 10, 10, 0.5, 0.75,'valid')]= 0.9259\n",
    "node2vec_auc_scores[(10, 10, 20, 0.5, 0.75,'valid')]= 0.9305\n",
    "node2vec_auc_scores[(10, 10, 40, 0.5, 0.75,'valid')]= 0.9280\n",
    "node2vec_auc_scores[(10, 20, 10, 0.5, 0.75,'valid')]= 0.9294\n",
    "node2vec_auc_scores[(10, 20, 20, 0.5, 0.75,'valid')]= 0.9293\n",
    "node2vec_auc_scores[(10, 20, 40, 0.5, 0.75,'valid')]= 0.9247\n",
    "node2vec_auc_scores[(10, 40, 10, 0.5, 0.75,'valid')]= 0.9278\n",
    "node2vec_auc_scores[(10, 40, 20, 0.5, 0.75,'valid')]= 0.9258\n",
    "node2vec_auc_scores[(10, 40, 40, 0.5, 0.75,'valid')]= 0.9227\n",
    "node2vec_auc_scores[(10, 5, 10, 0.75, 0.25,'valid')]= 0.9134\n",
    "node2vec_auc_scores[(10, 5, 20, 0.75, 0.25,'valid')]= 0.9272\n",
    "node2vec_auc_scores[(10, 5, 40, 0.75, 0.25,'valid')]= 0.9288\n",
    "node2vec_auc_scores[(10, 10, 10, 0.75, 0.25,'valid')]= 0.9245\n",
    "node2vec_auc_scores[(10, 10, 20, 0.75, 0.25,'valid')]= 0.9297\n",
    "node2vec_auc_scores[(10, 10, 40, 0.75, 0.25,'valid')]= 0.9287\n",
    "node2vec_auc_scores[(10, 20, 10, 0.75, 0.25,'valid')]= 0.9299\n",
    "node2vec_auc_scores[(10, 20, 20, 0.75, 0.25,'valid')]= 0.9289\n",
    "node2vec_auc_scores[(10, 20, 40, 0.75, 0.25,'valid')]= 0.9259\n",
    "node2vec_auc_scores[(10, 40, 10, 0.75, 0.25,'valid')]= 0.9289\n",
    "node2vec_auc_scores[(10, 40, 20, 0.75, 0.25,'valid')]= 0.9273\n",
    "node2vec_auc_scores[(10, 40, 40, 0.75, 0.25,'valid')]= 0.9236\n",
    "node2vec_auc_scores[(10, 5, 10, 0.75, 0.5,'valid')]= 0.9115\n",
    "node2vec_auc_scores[(10, 5, 20, 0.75, 0.5,'valid')]= 0.9269\n",
    "node2vec_auc_scores[(10, 5, 40, 0.75, 0.5,'valid')]= 0.9305\n",
    "node2vec_auc_scores[(10, 10, 10, 0.75, 0.5,'valid')]= 0.9262\n",
    "node2vec_auc_scores[(10, 10, 20, 0.75, 0.5,'valid')]= 0.9302\n",
    "node2vec_auc_scores[(10, 10, 40, 0.75, 0.5,'valid')]= 0.9283\n",
    "node2vec_auc_scores[(10, 20, 10, 0.75, 0.5,'valid')]= 0.9298\n",
    "node2vec_auc_scores[(10, 20, 20, 0.75, 0.5,'valid')]= 0.9286\n",
    "node2vec_auc_scores[(10, 20, 40, 0.75, 0.5,'valid')]= 0.9258\n",
    "node2vec_auc_scores[(10, 40, 10, 0.75, 0.5,'valid')]= 0.9292\n",
    "node2vec_auc_scores[(10, 40, 20, 0.75, 0.5,'valid')]= 0.9266\n",
    "node2vec_auc_scores[(10, 40, 40, 0.75, 0.5,'valid')]= 0.9235\n",
    "node2vec_auc_scores[(10, 5, 10, 0.75, 0.75,'valid')]= 0.9164\n",
    "node2vec_auc_scores[(10, 5, 20, 0.75, 0.75,'valid')]= 0.9284\n",
    "node2vec_auc_scores[(10, 5, 40, 0.75, 0.75,'valid')]= 0.9292\n",
    "node2vec_auc_scores[(10, 10, 10, 0.75, 0.75,'valid')]= 0.9288\n",
    "node2vec_auc_scores[(10, 10, 20, 0.75, 0.75,'valid')]= 0.9318\n",
    "node2vec_auc_scores[(10, 10, 40, 0.75, 0.75,'valid')]= 0.9285\n",
    "node2vec_auc_scores[(10, 20, 10, 0.75, 0.75,'valid')]= 0.9304\n",
    "node2vec_auc_scores[(10, 20, 20, 0.75, 0.75,'valid')]= 0.9288\n",
    "node2vec_auc_scores[(10, 20, 40, 0.75, 0.75,'valid')]= 0.9247\n",
    "node2vec_auc_scores[(10, 40, 10, 0.75, 0.75,'valid')]= 0.9293\n",
    "node2vec_auc_scores[(10, 40, 20, 0.75, 0.75,'valid')]= 0.9268\n",
    "node2vec_auc_scores[(10, 40, 40, 0.75, 0.75,'valid')]= 0.9231\n"
   ]
  },
  {
   "cell_type": "code",
   "execution_count": 10,
   "metadata": {},
   "outputs": [
    {
     "data": {
      "image/png": "[encoded data removed]",
      "text/plain": [
       "<Figure size 1300x400 with 6 Axes>"
      ]
     },
     "metadata": {},
     "output_type": "display_data"
    },
    {
     "data": {
      "image/png": "[encoded data removed]",
      "text/plain": [
       "<Figure size 1300x400 with 6 Axes>"
      ]
     },
     "metadata": {},
     "output_type": "display_data"
    },
    {
     "data": {
      "image/png": "[encoded data removed]",
      "text/plain": [
       "<Figure size 1300x400 with 6 Axes>"
      ]
     },
     "metadata": {},
     "output_type": "display_data"
    }
   ],
   "source": [
    "for i in range(len(p_values)):\n",
    "    corr_heatmap(p_values[i], q_values[0], q_values[1], q_values[2])"
   ]
  },
  {
   "cell_type": "code",
   "execution_count": 69,
   "metadata": {},
   "outputs": [
    {
     "name": "stdout",
     "output_type": "stream",
     "text": [
      "node dim: 10,\tnum_walks: 10,\twalk_length: 20,\tp: 0.05,\tq: 0.05\n"
     ]
    },
    {
     "name": "stderr",
     "output_type": "stream",
     "text": [
      "C:\\Users\\SANGIN_HA\\AppData\\Local\\Temp\\ipykernel_12096\\129575388.py:8: DeprecationWarning: `np.int` is a deprecated alias for the builtin `int`. To silence this warning, use `int` by itself. Doing this will not modify any behavior and is safe. When replacing `np.int`, you may wish to use e.g. `np.int64` or `np.int32` to specify the precision. If you wish to review your current use, check the release note link for additional information.\n",
      "Deprecated in NumPy 1.20; for more details and guidance: https://numpy.org/devdocs/release/1.20.0-notes.html#deprecations\n",
      "  J = np.zeros(K, dtype=np.int)\n"
     ]
    },
    {
     "name": "stdout",
     "output_type": "stream",
     "text": [
      "building a node2vec model...\n",
      "number of walks: 83340\taverage walk length: 19.9569\ttraining time: 75.6839\n",
      "valid auc: 0.9304\n",
      "node dim: 10,\tnum_walks: 10,\twalk_length: 20,\tp: 0.05,\tq: 0.15\n"
     ]
    },
    {
     "name": "stderr",
     "output_type": "stream",
     "text": [
      "C:\\Users\\SANGIN_HA\\AppData\\Local\\Temp\\ipykernel_12096\\129575388.py:8: DeprecationWarning: `np.int` is a deprecated alias for the builtin `int`. To silence this warning, use `int` by itself. Doing this will not modify any behavior and is safe. When replacing `np.int`, you may wish to use e.g. `np.int64` or `np.int32` to specify the precision. If you wish to review your current use, check the release note link for additional information.\n",
      "Deprecated in NumPy 1.20; for more details and guidance: https://numpy.org/devdocs/release/1.20.0-notes.html#deprecations\n",
      "  J = np.zeros(K, dtype=np.int)\n"
     ]
    },
    {
     "name": "stdout",
     "output_type": "stream",
     "text": [
      "building a node2vec model...\n",
      "number of walks: 83340\taverage walk length: 19.9684\ttraining time: 76.4103\n",
      "valid auc: 0.9299\n",
      "node dim: 10,\tnum_walks: 10,\twalk_length: 20,\tp: 0.05,\tq: 0.25\n"
     ]
    },
    {
     "name": "stderr",
     "output_type": "stream",
     "text": [
      "C:\\Users\\SANGIN_HA\\AppData\\Local\\Temp\\ipykernel_12096\\129575388.py:8: DeprecationWarning: `np.int` is a deprecated alias for the builtin `int`. To silence this warning, use `int` by itself. Doing this will not modify any behavior and is safe. When replacing `np.int`, you may wish to use e.g. `np.int64` or `np.int32` to specify the precision. If you wish to review your current use, check the release note link for additional information.\n",
      "Deprecated in NumPy 1.20; for more details and guidance: https://numpy.org/devdocs/release/1.20.0-notes.html#deprecations\n",
      "  J = np.zeros(K, dtype=np.int)\n"
     ]
    },
    {
     "name": "stdout",
     "output_type": "stream",
     "text": [
      "building a node2vec model...\n",
      "number of walks: 83340\taverage walk length: 19.9693\ttraining time: 50.7258\n",
      "valid auc: 0.9309\n",
      "node dim: 10,\tnum_walks: 10,\twalk_length: 20,\tp: 0.05,\tq: 0.35\n"
     ]
    },
    {
     "name": "stderr",
     "output_type": "stream",
     "text": [
      "C:\\Users\\SANGIN_HA\\AppData\\Local\\Temp\\ipykernel_12096\\129575388.py:8: DeprecationWarning: `np.int` is a deprecated alias for the builtin `int`. To silence this warning, use `int` by itself. Doing this will not modify any behavior and is safe. When replacing `np.int`, you may wish to use e.g. `np.int64` or `np.int32` to specify the precision. If you wish to review your current use, check the release note link for additional information.\n",
      "Deprecated in NumPy 1.20; for more details and guidance: https://numpy.org/devdocs/release/1.20.0-notes.html#deprecations\n",
      "  J = np.zeros(K, dtype=np.int)\n"
     ]
    },
    {
     "name": "stdout",
     "output_type": "stream",
     "text": [
      "building a node2vec model...\n",
      "number of walks: 83340\taverage walk length: 19.9710\ttraining time: 35.4330\n",
      "valid auc: 0.9289\n",
      "node dim: 10,\tnum_walks: 10,\twalk_length: 20,\tp: 0.05,\tq: 0.45\n"
     ]
    },
    {
     "name": "stderr",
     "output_type": "stream",
     "text": [
      "C:\\Users\\SANGIN_HA\\AppData\\Local\\Temp\\ipykernel_12096\\129575388.py:8: DeprecationWarning: `np.int` is a deprecated alias for the builtin `int`. To silence this warning, use `int` by itself. Doing this will not modify any behavior and is safe. When replacing `np.int`, you may wish to use e.g. `np.int64` or `np.int32` to specify the precision. If you wish to review your current use, check the release note link for additional information.\n",
      "Deprecated in NumPy 1.20; for more details and guidance: https://numpy.org/devdocs/release/1.20.0-notes.html#deprecations\n",
      "  J = np.zeros(K, dtype=np.int)\n"
     ]
    },
    {
     "name": "stdout",
     "output_type": "stream",
     "text": [
      "building a node2vec model...\n",
      "number of walks: 83340\taverage walk length: 19.9711\ttraining time: 36.4172\n",
      "valid auc: 0.9289\n",
      "node dim: 10,\tnum_walks: 10,\twalk_length: 20,\tp: 0.05,\tq: 0.55\n"
     ]
    },
    {
     "name": "stderr",
     "output_type": "stream",
     "text": [
      "C:\\Users\\SANGIN_HA\\AppData\\Local\\Temp\\ipykernel_12096\\129575388.py:8: DeprecationWarning: `np.int` is a deprecated alias for the builtin `int`. To silence this warning, use `int` by itself. Doing this will not modify any behavior and is safe. When replacing `np.int`, you may wish to use e.g. `np.int64` or `np.int32` to specify the precision. If you wish to review your current use, check the release note link for additional information.\n",
      "Deprecated in NumPy 1.20; for more details and guidance: https://numpy.org/devdocs/release/1.20.0-notes.html#deprecations\n",
      "  J = np.zeros(K, dtype=np.int)\n"
     ]
    },
    {
     "name": "stdout",
     "output_type": "stream",
     "text": [
      "building a node2vec model...\n",
      "number of walks: 83340\taverage walk length: 19.9730\ttraining time: 34.2187\n",
      "valid auc: 0.9305\n",
      "node dim: 10,\tnum_walks: 10,\twalk_length: 20,\tp: 0.05,\tq: 0.65\n"
     ]
    },
    {
     "name": "stderr",
     "output_type": "stream",
     "text": [
      "C:\\Users\\SANGIN_HA\\AppData\\Local\\Temp\\ipykernel_12096\\129575388.py:8: DeprecationWarning: `np.int` is a deprecated alias for the builtin `int`. To silence this warning, use `int` by itself. Doing this will not modify any behavior and is safe. When replacing `np.int`, you may wish to use e.g. `np.int64` or `np.int32` to specify the precision. If you wish to review your current use, check the release note link for additional information.\n",
      "Deprecated in NumPy 1.20; for more details and guidance: https://numpy.org/devdocs/release/1.20.0-notes.html#deprecations\n",
      "  J = np.zeros(K, dtype=np.int)\n"
     ]
    },
    {
     "name": "stdout",
     "output_type": "stream",
     "text": [
      "building a node2vec model...\n",
      "number of walks: 83340\taverage walk length: 19.9731\ttraining time: 33.4513\n",
      "valid auc: 0.9296\n",
      "node dim: 10,\tnum_walks: 10,\twalk_length: 20,\tp: 0.05,\tq: 0.75\n"
     ]
    },
    {
     "name": "stderr",
     "output_type": "stream",
     "text": [
      "C:\\Users\\SANGIN_HA\\AppData\\Local\\Temp\\ipykernel_12096\\129575388.py:8: DeprecationWarning: `np.int` is a deprecated alias for the builtin `int`. To silence this warning, use `int` by itself. Doing this will not modify any behavior and is safe. When replacing `np.int`, you may wish to use e.g. `np.int64` or `np.int32` to specify the precision. If you wish to review your current use, check the release note link for additional information.\n",
      "Deprecated in NumPy 1.20; for more details and guidance: https://numpy.org/devdocs/release/1.20.0-notes.html#deprecations\n",
      "  J = np.zeros(K, dtype=np.int)\n"
     ]
    },
    {
     "name": "stdout",
     "output_type": "stream",
     "text": [
      "building a node2vec model...\n",
      "number of walks: 83340\taverage walk length: 19.9736\ttraining time: 35.8999\n",
      "valid auc: 0.9289\n",
      "node dim: 10,\tnum_walks: 10,\twalk_length: 20,\tp: 0.05,\tq: 0.85\n"
     ]
    },
    {
     "name": "stderr",
     "output_type": "stream",
     "text": [
      "C:\\Users\\SANGIN_HA\\AppData\\Local\\Temp\\ipykernel_12096\\129575388.py:8: DeprecationWarning: `np.int` is a deprecated alias for the builtin `int`. To silence this warning, use `int` by itself. Doing this will not modify any behavior and is safe. When replacing `np.int`, you may wish to use e.g. `np.int64` or `np.int32` to specify the precision. If you wish to review your current use, check the release note link for additional information.\n",
      "Deprecated in NumPy 1.20; for more details and guidance: https://numpy.org/devdocs/release/1.20.0-notes.html#deprecations\n",
      "  J = np.zeros(K, dtype=np.int)\n"
     ]
    },
    {
     "name": "stdout",
     "output_type": "stream",
     "text": [
      "building a node2vec model...\n",
      "number of walks: 83340\taverage walk length: 19.9758\ttraining time: 35.7109\n",
      "valid auc: 0.9282\n",
      "node dim: 10,\tnum_walks: 10,\twalk_length: 20,\tp: 0.05,\tq: 0.95\n"
     ]
    },
    {
     "name": "stderr",
     "output_type": "stream",
     "text": [
      "C:\\Users\\SANGIN_HA\\AppData\\Local\\Temp\\ipykernel_12096\\129575388.py:8: DeprecationWarning: `np.int` is a deprecated alias for the builtin `int`. To silence this warning, use `int` by itself. Doing this will not modify any behavior and is safe. When replacing `np.int`, you may wish to use e.g. `np.int64` or `np.int32` to specify the precision. If you wish to review your current use, check the release note link for additional information.\n",
      "Deprecated in NumPy 1.20; for more details and guidance: https://numpy.org/devdocs/release/1.20.0-notes.html#deprecations\n",
      "  J = np.zeros(K, dtype=np.int)\n"
     ]
    },
    {
     "name": "stdout",
     "output_type": "stream",
     "text": [
      "building a node2vec model...\n",
      "number of walks: 83340\taverage walk length: 19.9754\ttraining time: 35.8393\n",
      "valid auc: 0.9276\n",
      "node dim: 10,\tnum_walks: 10,\twalk_length: 20,\tp: 0.15,\tq: 0.05\n"
     ]
    },
    {
     "name": "stderr",
     "output_type": "stream",
     "text": [
      "C:\\Users\\SANGIN_HA\\AppData\\Local\\Temp\\ipykernel_12096\\129575388.py:8: DeprecationWarning: `np.int` is a deprecated alias for the builtin `int`. To silence this warning, use `int` by itself. Doing this will not modify any behavior and is safe. When replacing `np.int`, you may wish to use e.g. `np.int64` or `np.int32` to specify the precision. If you wish to review your current use, check the release note link for additional information.\n",
      "Deprecated in NumPy 1.20; for more details and guidance: https://numpy.org/devdocs/release/1.20.0-notes.html#deprecations\n",
      "  J = np.zeros(K, dtype=np.int)\n"
     ]
    },
    {
     "name": "stdout",
     "output_type": "stream",
     "text": [
      "building a node2vec model...\n",
      "number of walks: 83340\taverage walk length: 19.9413\ttraining time: 43.3284\n",
      "valid auc: 0.9284\n",
      "node dim: 10,\tnum_walks: 10,\twalk_length: 20,\tp: 0.15,\tq: 0.15\n"
     ]
    },
    {
     "name": "stderr",
     "output_type": "stream",
     "text": [
      "C:\\Users\\SANGIN_HA\\AppData\\Local\\Temp\\ipykernel_12096\\129575388.py:8: DeprecationWarning: `np.int` is a deprecated alias for the builtin `int`. To silence this warning, use `int` by itself. Doing this will not modify any behavior and is safe. When replacing `np.int`, you may wish to use e.g. `np.int64` or `np.int32` to specify the precision. If you wish to review your current use, check the release note link for additional information.\n",
      "Deprecated in NumPy 1.20; for more details and guidance: https://numpy.org/devdocs/release/1.20.0-notes.html#deprecations\n",
      "  J = np.zeros(K, dtype=np.int)\n"
     ]
    },
    {
     "name": "stdout",
     "output_type": "stream",
     "text": [
      "building a node2vec model...\n",
      "number of walks: 83340\taverage walk length: 19.9643\ttraining time: 37.1431\n",
      "valid auc: 0.9303\n",
      "node dim: 10,\tnum_walks: 10,\twalk_length: 20,\tp: 0.15,\tq: 0.25\n"
     ]
    },
    {
     "name": "stderr",
     "output_type": "stream",
     "text": [
      "C:\\Users\\SANGIN_HA\\AppData\\Local\\Temp\\ipykernel_12096\\129575388.py:8: DeprecationWarning: `np.int` is a deprecated alias for the builtin `int`. To silence this warning, use `int` by itself. Doing this will not modify any behavior and is safe. When replacing `np.int`, you may wish to use e.g. `np.int64` or `np.int32` to specify the precision. If you wish to review your current use, check the release note link for additional information.\n",
      "Deprecated in NumPy 1.20; for more details and guidance: https://numpy.org/devdocs/release/1.20.0-notes.html#deprecations\n",
      "  J = np.zeros(K, dtype=np.int)\n"
     ]
    },
    {
     "name": "stdout",
     "output_type": "stream",
     "text": [
      "building a node2vec model...\n",
      "number of walks: 83340\taverage walk length: 19.9659\ttraining time: 44.3275\n",
      "valid auc: 0.9296\n",
      "node dim: 10,\tnum_walks: 10,\twalk_length: 20,\tp: 0.15,\tq: 0.35\n"
     ]
    },
    {
     "name": "stderr",
     "output_type": "stream",
     "text": [
      "C:\\Users\\SANGIN_HA\\AppData\\Local\\Temp\\ipykernel_12096\\129575388.py:8: DeprecationWarning: `np.int` is a deprecated alias for the builtin `int`. To silence this warning, use `int` by itself. Doing this will not modify any behavior and is safe. When replacing `np.int`, you may wish to use e.g. `np.int64` or `np.int32` to specify the precision. If you wish to review your current use, check the release note link for additional information.\n",
      "Deprecated in NumPy 1.20; for more details and guidance: https://numpy.org/devdocs/release/1.20.0-notes.html#deprecations\n",
      "  J = np.zeros(K, dtype=np.int)\n"
     ]
    },
    {
     "name": "stdout",
     "output_type": "stream",
     "text": [
      "building a node2vec model...\n",
      "number of walks: 83340\taverage walk length: 19.9641\ttraining time: 58.1009\n",
      "valid auc: 0.9307\n",
      "node dim: 10,\tnum_walks: 10,\twalk_length: 20,\tp: 0.15,\tq: 0.45\n"
     ]
    },
    {
     "name": "stderr",
     "output_type": "stream",
     "text": [
      "C:\\Users\\SANGIN_HA\\AppData\\Local\\Temp\\ipykernel_12096\\129575388.py:8: DeprecationWarning: `np.int` is a deprecated alias for the builtin `int`. To silence this warning, use `int` by itself. Doing this will not modify any behavior and is safe. When replacing `np.int`, you may wish to use e.g. `np.int64` or `np.int32` to specify the precision. If you wish to review your current use, check the release note link for additional information.\n",
      "Deprecated in NumPy 1.20; for more details and guidance: https://numpy.org/devdocs/release/1.20.0-notes.html#deprecations\n",
      "  J = np.zeros(K, dtype=np.int)\n"
     ]
    },
    {
     "name": "stdout",
     "output_type": "stream",
     "text": [
      "building a node2vec model...\n",
      "number of walks: 83340\taverage walk length: 19.9671\ttraining time: 45.0715\n",
      "valid auc: 0.9308\n",
      "node dim: 10,\tnum_walks: 10,\twalk_length: 20,\tp: 0.15,\tq: 0.55\n"
     ]
    },
    {
     "name": "stderr",
     "output_type": "stream",
     "text": [
      "C:\\Users\\SANGIN_HA\\AppData\\Local\\Temp\\ipykernel_12096\\129575388.py:8: DeprecationWarning: `np.int` is a deprecated alias for the builtin `int`. To silence this warning, use `int` by itself. Doing this will not modify any behavior and is safe. When replacing `np.int`, you may wish to use e.g. `np.int64` or `np.int32` to specify the precision. If you wish to review your current use, check the release note link for additional information.\n",
      "Deprecated in NumPy 1.20; for more details and guidance: https://numpy.org/devdocs/release/1.20.0-notes.html#deprecations\n",
      "  J = np.zeros(K, dtype=np.int)\n"
     ]
    },
    {
     "name": "stdout",
     "output_type": "stream",
     "text": [
      "building a node2vec model...\n",
      "number of walks: 83340\taverage walk length: 19.9668\ttraining time: 46.8781\n",
      "valid auc: 0.9307\n",
      "node dim: 10,\tnum_walks: 10,\twalk_length: 20,\tp: 0.15,\tq: 0.65\n"
     ]
    },
    {
     "name": "stderr",
     "output_type": "stream",
     "text": [
      "C:\\Users\\SANGIN_HA\\AppData\\Local\\Temp\\ipykernel_12096\\129575388.py:8: DeprecationWarning: `np.int` is a deprecated alias for the builtin `int`. To silence this warning, use `int` by itself. Doing this will not modify any behavior and is safe. When replacing `np.int`, you may wish to use e.g. `np.int64` or `np.int32` to specify the precision. If you wish to review your current use, check the release note link for additional information.\n",
      "Deprecated in NumPy 1.20; for more details and guidance: https://numpy.org/devdocs/release/1.20.0-notes.html#deprecations\n",
      "  J = np.zeros(K, dtype=np.int)\n"
     ]
    },
    {
     "name": "stdout",
     "output_type": "stream",
     "text": [
      "building a node2vec model...\n",
      "number of walks: 83340\taverage walk length: 19.9702\ttraining time: 43.5321\n",
      "valid auc: 0.9307\n",
      "node dim: 10,\tnum_walks: 10,\twalk_length: 20,\tp: 0.15,\tq: 0.75\n"
     ]
    },
    {
     "name": "stderr",
     "output_type": "stream",
     "text": [
      "C:\\Users\\SANGIN_HA\\AppData\\Local\\Temp\\ipykernel_12096\\129575388.py:8: DeprecationWarning: `np.int` is a deprecated alias for the builtin `int`. To silence this warning, use `int` by itself. Doing this will not modify any behavior and is safe. When replacing `np.int`, you may wish to use e.g. `np.int64` or `np.int32` to specify the precision. If you wish to review your current use, check the release note link for additional information.\n",
      "Deprecated in NumPy 1.20; for more details and guidance: https://numpy.org/devdocs/release/1.20.0-notes.html#deprecations\n",
      "  J = np.zeros(K, dtype=np.int)\n"
     ]
    },
    {
     "name": "stdout",
     "output_type": "stream",
     "text": [
      "building a node2vec model...\n",
      "number of walks: 83340\taverage walk length: 19.9717\ttraining time: 43.2732\n",
      "valid auc: 0.9301\n",
      "node dim: 10,\tnum_walks: 10,\twalk_length: 20,\tp: 0.15,\tq: 0.85\n"
     ]
    },
    {
     "name": "stderr",
     "output_type": "stream",
     "text": [
      "C:\\Users\\SANGIN_HA\\AppData\\Local\\Temp\\ipykernel_12096\\129575388.py:8: DeprecationWarning: `np.int` is a deprecated alias for the builtin `int`. To silence this warning, use `int` by itself. Doing this will not modify any behavior and is safe. When replacing `np.int`, you may wish to use e.g. `np.int64` or `np.int32` to specify the precision. If you wish to review your current use, check the release note link for additional information.\n",
      "Deprecated in NumPy 1.20; for more details and guidance: https://numpy.org/devdocs/release/1.20.0-notes.html#deprecations\n",
      "  J = np.zeros(K, dtype=np.int)\n"
     ]
    },
    {
     "name": "stdout",
     "output_type": "stream",
     "text": [
      "building a node2vec model...\n",
      "number of walks: 83340\taverage walk length: 19.9686\ttraining time: 39.7474\n",
      "valid auc: 0.9303\n",
      "node dim: 10,\tnum_walks: 10,\twalk_length: 20,\tp: 0.15,\tq: 0.95\n"
     ]
    },
    {
     "name": "stderr",
     "output_type": "stream",
     "text": [
      "C:\\Users\\SANGIN_HA\\AppData\\Local\\Temp\\ipykernel_12096\\129575388.py:8: DeprecationWarning: `np.int` is a deprecated alias for the builtin `int`. To silence this warning, use `int` by itself. Doing this will not modify any behavior and is safe. When replacing `np.int`, you may wish to use e.g. `np.int64` or `np.int32` to specify the precision. If you wish to review your current use, check the release note link for additional information.\n",
      "Deprecated in NumPy 1.20; for more details and guidance: https://numpy.org/devdocs/release/1.20.0-notes.html#deprecations\n",
      "  J = np.zeros(K, dtype=np.int)\n"
     ]
    },
    {
     "name": "stdout",
     "output_type": "stream",
     "text": [
      "building a node2vec model...\n",
      "number of walks: 83340\taverage walk length: 19.9699\ttraining time: 39.9172\n",
      "valid auc: 0.9317\n",
      "node dim: 10,\tnum_walks: 10,\twalk_length: 20,\tp: 0.25,\tq: 0.05\n"
     ]
    },
    {
     "name": "stderr",
     "output_type": "stream",
     "text": [
      "C:\\Users\\SANGIN_HA\\AppData\\Local\\Temp\\ipykernel_12096\\129575388.py:8: DeprecationWarning: `np.int` is a deprecated alias for the builtin `int`. To silence this warning, use `int` by itself. Doing this will not modify any behavior and is safe. When replacing `np.int`, you may wish to use e.g. `np.int64` or `np.int32` to specify the precision. If you wish to review your current use, check the release note link for additional information.\n",
      "Deprecated in NumPy 1.20; for more details and guidance: https://numpy.org/devdocs/release/1.20.0-notes.html#deprecations\n",
      "  J = np.zeros(K, dtype=np.int)\n"
     ]
    },
    {
     "name": "stdout",
     "output_type": "stream",
     "text": [
      "building a node2vec model...\n",
      "number of walks: 83340\taverage walk length: 19.9259\ttraining time: 47.1546\n",
      "valid auc: 0.9294\n",
      "node dim: 10,\tnum_walks: 10,\twalk_length: 20,\tp: 0.25,\tq: 0.15\n"
     ]
    },
    {
     "name": "stderr",
     "output_type": "stream",
     "text": [
      "C:\\Users\\SANGIN_HA\\AppData\\Local\\Temp\\ipykernel_12096\\129575388.py:8: DeprecationWarning: `np.int` is a deprecated alias for the builtin `int`. To silence this warning, use `int` by itself. Doing this will not modify any behavior and is safe. When replacing `np.int`, you may wish to use e.g. `np.int64` or `np.int32` to specify the precision. If you wish to review your current use, check the release note link for additional information.\n",
      "Deprecated in NumPy 1.20; for more details and guidance: https://numpy.org/devdocs/release/1.20.0-notes.html#deprecations\n",
      "  J = np.zeros(K, dtype=np.int)\n"
     ]
    },
    {
     "name": "stdout",
     "output_type": "stream",
     "text": [
      "building a node2vec model...\n",
      "number of walks: 83340\taverage walk length: 19.9534\ttraining time: 42.9572\n",
      "valid auc: 0.9301\n",
      "node dim: 10,\tnum_walks: 10,\twalk_length: 20,\tp: 0.25,\tq: 0.25\n"
     ]
    },
    {
     "name": "stderr",
     "output_type": "stream",
     "text": [
      "C:\\Users\\SANGIN_HA\\AppData\\Local\\Temp\\ipykernel_12096\\129575388.py:8: DeprecationWarning: `np.int` is a deprecated alias for the builtin `int`. To silence this warning, use `int` by itself. Doing this will not modify any behavior and is safe. When replacing `np.int`, you may wish to use e.g. `np.int64` or `np.int32` to specify the precision. If you wish to review your current use, check the release note link for additional information.\n",
      "Deprecated in NumPy 1.20; for more details and guidance: https://numpy.org/devdocs/release/1.20.0-notes.html#deprecations\n",
      "  J = np.zeros(K, dtype=np.int)\n"
     ]
    },
    {
     "name": "stdout",
     "output_type": "stream",
     "text": [
      "building a node2vec model...\n",
      "number of walks: 83340\taverage walk length: 19.9599\ttraining time: 47.6814\n",
      "valid auc: 0.9317\n",
      "node dim: 10,\tnum_walks: 10,\twalk_length: 20,\tp: 0.25,\tq: 0.35\n"
     ]
    },
    {
     "name": "stderr",
     "output_type": "stream",
     "text": [
      "C:\\Users\\SANGIN_HA\\AppData\\Local\\Temp\\ipykernel_12096\\129575388.py:8: DeprecationWarning: `np.int` is a deprecated alias for the builtin `int`. To silence this warning, use `int` by itself. Doing this will not modify any behavior and is safe. When replacing `np.int`, you may wish to use e.g. `np.int64` or `np.int32` to specify the precision. If you wish to review your current use, check the release note link for additional information.\n",
      "Deprecated in NumPy 1.20; for more details and guidance: https://numpy.org/devdocs/release/1.20.0-notes.html#deprecations\n",
      "  J = np.zeros(K, dtype=np.int)\n"
     ]
    },
    {
     "name": "stdout",
     "output_type": "stream",
     "text": [
      "building a node2vec model...\n",
      "number of walks: 83340\taverage walk length: 19.9687\ttraining time: 43.7845\n",
      "valid auc: 0.9317\n",
      "node dim: 10,\tnum_walks: 10,\twalk_length: 20,\tp: 0.25,\tq: 0.45\n"
     ]
    },
    {
     "name": "stderr",
     "output_type": "stream",
     "text": [
      "C:\\Users\\SANGIN_HA\\AppData\\Local\\Temp\\ipykernel_12096\\129575388.py:8: DeprecationWarning: `np.int` is a deprecated alias for the builtin `int`. To silence this warning, use `int` by itself. Doing this will not modify any behavior and is safe. When replacing `np.int`, you may wish to use e.g. `np.int64` or `np.int32` to specify the precision. If you wish to review your current use, check the release note link for additional information.\n",
      "Deprecated in NumPy 1.20; for more details and guidance: https://numpy.org/devdocs/release/1.20.0-notes.html#deprecations\n",
      "  J = np.zeros(K, dtype=np.int)\n"
     ]
    },
    {
     "name": "stdout",
     "output_type": "stream",
     "text": [
      "building a node2vec model...\n",
      "number of walks: 83340\taverage walk length: 19.9660\ttraining time: 43.0868\n",
      "valid auc: 0.9312\n",
      "node dim: 10,\tnum_walks: 10,\twalk_length: 20,\tp: 0.25,\tq: 0.55\n"
     ]
    },
    {
     "name": "stderr",
     "output_type": "stream",
     "text": [
      "C:\\Users\\SANGIN_HA\\AppData\\Local\\Temp\\ipykernel_12096\\129575388.py:8: DeprecationWarning: `np.int` is a deprecated alias for the builtin `int`. To silence this warning, use `int` by itself. Doing this will not modify any behavior and is safe. When replacing `np.int`, you may wish to use e.g. `np.int64` or `np.int32` to specify the precision. If you wish to review your current use, check the release note link for additional information.\n",
      "Deprecated in NumPy 1.20; for more details and guidance: https://numpy.org/devdocs/release/1.20.0-notes.html#deprecations\n",
      "  J = np.zeros(K, dtype=np.int)\n"
     ]
    },
    {
     "name": "stdout",
     "output_type": "stream",
     "text": [
      "building a node2vec model...\n",
      "number of walks: 83340\taverage walk length: 19.9694\ttraining time: 41.7497\n",
      "valid auc: 0.9309\n",
      "node dim: 10,\tnum_walks: 10,\twalk_length: 20,\tp: 0.25,\tq: 0.65\n"
     ]
    },
    {
     "name": "stderr",
     "output_type": "stream",
     "text": [
      "C:\\Users\\SANGIN_HA\\AppData\\Local\\Temp\\ipykernel_12096\\129575388.py:8: DeprecationWarning: `np.int` is a deprecated alias for the builtin `int`. To silence this warning, use `int` by itself. Doing this will not modify any behavior and is safe. When replacing `np.int`, you may wish to use e.g. `np.int64` or `np.int32` to specify the precision. If you wish to review your current use, check the release note link for additional information.\n",
      "Deprecated in NumPy 1.20; for more details and guidance: https://numpy.org/devdocs/release/1.20.0-notes.html#deprecations\n",
      "  J = np.zeros(K, dtype=np.int)\n"
     ]
    },
    {
     "name": "stdout",
     "output_type": "stream",
     "text": [
      "building a node2vec model...\n",
      "number of walks: 83340\taverage walk length: 19.9702\ttraining time: 48.9231\n",
      "valid auc: 0.9314\n",
      "node dim: 10,\tnum_walks: 10,\twalk_length: 20,\tp: 0.25,\tq: 0.75\n"
     ]
    },
    {
     "name": "stderr",
     "output_type": "stream",
     "text": [
      "C:\\Users\\SANGIN_HA\\AppData\\Local\\Temp\\ipykernel_12096\\129575388.py:8: DeprecationWarning: `np.int` is a deprecated alias for the builtin `int`. To silence this warning, use `int` by itself. Doing this will not modify any behavior and is safe. When replacing `np.int`, you may wish to use e.g. `np.int64` or `np.int32` to specify the precision. If you wish to review your current use, check the release note link for additional information.\n",
      "Deprecated in NumPy 1.20; for more details and guidance: https://numpy.org/devdocs/release/1.20.0-notes.html#deprecations\n",
      "  J = np.zeros(K, dtype=np.int)\n"
     ]
    },
    {
     "name": "stdout",
     "output_type": "stream",
     "text": [
      "building a node2vec model...\n",
      "number of walks: 83340\taverage walk length: 19.9685\ttraining time: 39.9052\n",
      "valid auc: 0.9309\n",
      "node dim: 10,\tnum_walks: 10,\twalk_length: 20,\tp: 0.25,\tq: 0.85\n"
     ]
    },
    {
     "name": "stderr",
     "output_type": "stream",
     "text": [
      "C:\\Users\\SANGIN_HA\\AppData\\Local\\Temp\\ipykernel_12096\\129575388.py:8: DeprecationWarning: `np.int` is a deprecated alias for the builtin `int`. To silence this warning, use `int` by itself. Doing this will not modify any behavior and is safe. When replacing `np.int`, you may wish to use e.g. `np.int64` or `np.int32` to specify the precision. If you wish to review your current use, check the release note link for additional information.\n",
      "Deprecated in NumPy 1.20; for more details and guidance: https://numpy.org/devdocs/release/1.20.0-notes.html#deprecations\n",
      "  J = np.zeros(K, dtype=np.int)\n"
     ]
    },
    {
     "name": "stdout",
     "output_type": "stream",
     "text": [
      "building a node2vec model...\n",
      "number of walks: 83340\taverage walk length: 19.9698\ttraining time: 37.6210\n",
      "valid auc: 0.9316\n",
      "node dim: 10,\tnum_walks: 10,\twalk_length: 20,\tp: 0.25,\tq: 0.95\n"
     ]
    },
    {
     "name": "stderr",
     "output_type": "stream",
     "text": [
      "C:\\Users\\SANGIN_HA\\AppData\\Local\\Temp\\ipykernel_12096\\129575388.py:8: DeprecationWarning: `np.int` is a deprecated alias for the builtin `int`. To silence this warning, use `int` by itself. Doing this will not modify any behavior and is safe. When replacing `np.int`, you may wish to use e.g. `np.int64` or `np.int32` to specify the precision. If you wish to review your current use, check the release note link for additional information.\n",
      "Deprecated in NumPy 1.20; for more details and guidance: https://numpy.org/devdocs/release/1.20.0-notes.html#deprecations\n",
      "  J = np.zeros(K, dtype=np.int)\n"
     ]
    },
    {
     "name": "stdout",
     "output_type": "stream",
     "text": [
      "building a node2vec model...\n",
      "number of walks: 83340\taverage walk length: 19.9678\ttraining time: 41.4525\n",
      "valid auc: 0.9310\n",
      "node dim: 10,\tnum_walks: 10,\twalk_length: 20,\tp: 0.35,\tq: 0.05\n"
     ]
    },
    {
     "name": "stderr",
     "output_type": "stream",
     "text": [
      "C:\\Users\\SANGIN_HA\\AppData\\Local\\Temp\\ipykernel_12096\\129575388.py:8: DeprecationWarning: `np.int` is a deprecated alias for the builtin `int`. To silence this warning, use `int` by itself. Doing this will not modify any behavior and is safe. When replacing `np.int`, you may wish to use e.g. `np.int64` or `np.int32` to specify the precision. If you wish to review your current use, check the release note link for additional information.\n",
      "Deprecated in NumPy 1.20; for more details and guidance: https://numpy.org/devdocs/release/1.20.0-notes.html#deprecations\n",
      "  J = np.zeros(K, dtype=np.int)\n"
     ]
    },
    {
     "name": "stdout",
     "output_type": "stream",
     "text": [
      "building a node2vec model...\n",
      "number of walks: 83340\taverage walk length: 19.9210\ttraining time: 47.5300\n",
      "valid auc: 0.9304\n",
      "node dim: 10,\tnum_walks: 10,\twalk_length: 20,\tp: 0.35,\tq: 0.15\n"
     ]
    },
    {
     "name": "stderr",
     "output_type": "stream",
     "text": [
      "C:\\Users\\SANGIN_HA\\AppData\\Local\\Temp\\ipykernel_12096\\129575388.py:8: DeprecationWarning: `np.int` is a deprecated alias for the builtin `int`. To silence this warning, use `int` by itself. Doing this will not modify any behavior and is safe. When replacing `np.int`, you may wish to use e.g. `np.int64` or `np.int32` to specify the precision. If you wish to review your current use, check the release note link for additional information.\n",
      "Deprecated in NumPy 1.20; for more details and guidance: https://numpy.org/devdocs/release/1.20.0-notes.html#deprecations\n",
      "  J = np.zeros(K, dtype=np.int)\n"
     ]
    },
    {
     "name": "stdout",
     "output_type": "stream",
     "text": [
      "building a node2vec model...\n",
      "number of walks: 83340\taverage walk length: 19.9482\ttraining time: 44.7814\n",
      "valid auc: 0.9297\n",
      "node dim: 10,\tnum_walks: 10,\twalk_length: 20,\tp: 0.35,\tq: 0.25\n"
     ]
    },
    {
     "name": "stderr",
     "output_type": "stream",
     "text": [
      "C:\\Users\\SANGIN_HA\\AppData\\Local\\Temp\\ipykernel_12096\\129575388.py:8: DeprecationWarning: `np.int` is a deprecated alias for the builtin `int`. To silence this warning, use `int` by itself. Doing this will not modify any behavior and is safe. When replacing `np.int`, you may wish to use e.g. `np.int64` or `np.int32` to specify the precision. If you wish to review your current use, check the release note link for additional information.\n",
      "Deprecated in NumPy 1.20; for more details and guidance: https://numpy.org/devdocs/release/1.20.0-notes.html#deprecations\n",
      "  J = np.zeros(K, dtype=np.int)\n"
     ]
    },
    {
     "name": "stdout",
     "output_type": "stream",
     "text": [
      "building a node2vec model...\n",
      "number of walks: 83340\taverage walk length: 19.9535\ttraining time: 44.6112\n",
      "valid auc: 0.9306\n",
      "node dim: 10,\tnum_walks: 10,\twalk_length: 20,\tp: 0.35,\tq: 0.35\n"
     ]
    },
    {
     "name": "stderr",
     "output_type": "stream",
     "text": [
      "C:\\Users\\SANGIN_HA\\AppData\\Local\\Temp\\ipykernel_12096\\129575388.py:8: DeprecationWarning: `np.int` is a deprecated alias for the builtin `int`. To silence this warning, use `int` by itself. Doing this will not modify any behavior and is safe. When replacing `np.int`, you may wish to use e.g. `np.int64` or `np.int32` to specify the precision. If you wish to review your current use, check the release note link for additional information.\n",
      "Deprecated in NumPy 1.20; for more details and guidance: https://numpy.org/devdocs/release/1.20.0-notes.html#deprecations\n",
      "  J = np.zeros(K, dtype=np.int)\n"
     ]
    },
    {
     "name": "stdout",
     "output_type": "stream",
     "text": [
      "building a node2vec model...\n",
      "number of walks: 83340\taverage walk length: 19.9618\ttraining time: 45.2943\n",
      "valid auc: 0.9299\n",
      "node dim: 10,\tnum_walks: 10,\twalk_length: 20,\tp: 0.35,\tq: 0.45\n"
     ]
    },
    {
     "name": "stderr",
     "output_type": "stream",
     "text": [
      "C:\\Users\\SANGIN_HA\\AppData\\Local\\Temp\\ipykernel_12096\\129575388.py:8: DeprecationWarning: `np.int` is a deprecated alias for the builtin `int`. To silence this warning, use `int` by itself. Doing this will not modify any behavior and is safe. When replacing `np.int`, you may wish to use e.g. `np.int64` or `np.int32` to specify the precision. If you wish to review your current use, check the release note link for additional information.\n",
      "Deprecated in NumPy 1.20; for more details and guidance: https://numpy.org/devdocs/release/1.20.0-notes.html#deprecations\n",
      "  J = np.zeros(K, dtype=np.int)\n"
     ]
    },
    {
     "name": "stdout",
     "output_type": "stream",
     "text": [
      "building a node2vec model...\n",
      "number of walks: 83340\taverage walk length: 19.9620\ttraining time: 43.0990\n",
      "valid auc: 0.9293\n",
      "node dim: 10,\tnum_walks: 10,\twalk_length: 20,\tp: 0.35,\tq: 0.55\n"
     ]
    },
    {
     "name": "stderr",
     "output_type": "stream",
     "text": [
      "C:\\Users\\SANGIN_HA\\AppData\\Local\\Temp\\ipykernel_12096\\129575388.py:8: DeprecationWarning: `np.int` is a deprecated alias for the builtin `int`. To silence this warning, use `int` by itself. Doing this will not modify any behavior and is safe. When replacing `np.int`, you may wish to use e.g. `np.int64` or `np.int32` to specify the precision. If you wish to review your current use, check the release note link for additional information.\n",
      "Deprecated in NumPy 1.20; for more details and guidance: https://numpy.org/devdocs/release/1.20.0-notes.html#deprecations\n",
      "  J = np.zeros(K, dtype=np.int)\n"
     ]
    },
    {
     "name": "stdout",
     "output_type": "stream",
     "text": [
      "building a node2vec model...\n",
      "number of walks: 83340\taverage walk length: 19.9656\ttraining time: 44.2069\n",
      "valid auc: 0.9310\n",
      "node dim: 10,\tnum_walks: 10,\twalk_length: 20,\tp: 0.35,\tq: 0.65\n"
     ]
    },
    {
     "name": "stderr",
     "output_type": "stream",
     "text": [
      "C:\\Users\\SANGIN_HA\\AppData\\Local\\Temp\\ipykernel_12096\\129575388.py:8: DeprecationWarning: `np.int` is a deprecated alias for the builtin `int`. To silence this warning, use `int` by itself. Doing this will not modify any behavior and is safe. When replacing `np.int`, you may wish to use e.g. `np.int64` or `np.int32` to specify the precision. If you wish to review your current use, check the release note link for additional information.\n",
      "Deprecated in NumPy 1.20; for more details and guidance: https://numpy.org/devdocs/release/1.20.0-notes.html#deprecations\n",
      "  J = np.zeros(K, dtype=np.int)\n"
     ]
    },
    {
     "name": "stdout",
     "output_type": "stream",
     "text": [
      "building a node2vec model...\n",
      "number of walks: 83340\taverage walk length: 19.9676\ttraining time: 66.9816\n",
      "valid auc: 0.9316\n",
      "node dim: 10,\tnum_walks: 10,\twalk_length: 20,\tp: 0.35,\tq: 0.75\n"
     ]
    },
    {
     "name": "stderr",
     "output_type": "stream",
     "text": [
      "C:\\Users\\SANGIN_HA\\AppData\\Local\\Temp\\ipykernel_12096\\129575388.py:8: DeprecationWarning: `np.int` is a deprecated alias for the builtin `int`. To silence this warning, use `int` by itself. Doing this will not modify any behavior and is safe. When replacing `np.int`, you may wish to use e.g. `np.int64` or `np.int32` to specify the precision. If you wish to review your current use, check the release note link for additional information.\n",
      "Deprecated in NumPy 1.20; for more details and guidance: https://numpy.org/devdocs/release/1.20.0-notes.html#deprecations\n",
      "  J = np.zeros(K, dtype=np.int)\n"
     ]
    },
    {
     "name": "stdout",
     "output_type": "stream",
     "text": [
      "building a node2vec model...\n",
      "number of walks: 83340\taverage walk length: 19.9680\ttraining time: 60.7681\n",
      "valid auc: 0.9304\n",
      "node dim: 10,\tnum_walks: 10,\twalk_length: 20,\tp: 0.35,\tq: 0.85\n"
     ]
    },
    {
     "name": "stderr",
     "output_type": "stream",
     "text": [
      "C:\\Users\\SANGIN_HA\\AppData\\Local\\Temp\\ipykernel_12096\\129575388.py:8: DeprecationWarning: `np.int` is a deprecated alias for the builtin `int`. To silence this warning, use `int` by itself. Doing this will not modify any behavior and is safe. When replacing `np.int`, you may wish to use e.g. `np.int64` or `np.int32` to specify the precision. If you wish to review your current use, check the release note link for additional information.\n",
      "Deprecated in NumPy 1.20; for more details and guidance: https://numpy.org/devdocs/release/1.20.0-notes.html#deprecations\n",
      "  J = np.zeros(K, dtype=np.int)\n"
     ]
    },
    {
     "name": "stdout",
     "output_type": "stream",
     "text": [
      "building a node2vec model...\n",
      "number of walks: 83340\taverage walk length: 19.9702\ttraining time: 67.2508\n",
      "valid auc: 0.9315\n",
      "node dim: 10,\tnum_walks: 10,\twalk_length: 20,\tp: 0.35,\tq: 0.95\n"
     ]
    },
    {
     "name": "stderr",
     "output_type": "stream",
     "text": [
      "C:\\Users\\SANGIN_HA\\AppData\\Local\\Temp\\ipykernel_12096\\129575388.py:8: DeprecationWarning: `np.int` is a deprecated alias for the builtin `int`. To silence this warning, use `int` by itself. Doing this will not modify any behavior and is safe. When replacing `np.int`, you may wish to use e.g. `np.int64` or `np.int32` to specify the precision. If you wish to review your current use, check the release note link for additional information.\n",
      "Deprecated in NumPy 1.20; for more details and guidance: https://numpy.org/devdocs/release/1.20.0-notes.html#deprecations\n",
      "  J = np.zeros(K, dtype=np.int)\n"
     ]
    },
    {
     "name": "stdout",
     "output_type": "stream",
     "text": [
      "building a node2vec model...\n",
      "number of walks: 83340\taverage walk length: 19.9715\ttraining time: 68.0372\n",
      "valid auc: 0.9305\n",
      "node dim: 10,\tnum_walks: 10,\twalk_length: 20,\tp: 0.45,\tq: 0.05\n"
     ]
    },
    {
     "name": "stderr",
     "output_type": "stream",
     "text": [
      "C:\\Users\\SANGIN_HA\\AppData\\Local\\Temp\\ipykernel_12096\\129575388.py:8: DeprecationWarning: `np.int` is a deprecated alias for the builtin `int`. To silence this warning, use `int` by itself. Doing this will not modify any behavior and is safe. When replacing `np.int`, you may wish to use e.g. `np.int64` or `np.int32` to specify the precision. If you wish to review your current use, check the release note link for additional information.\n",
      "Deprecated in NumPy 1.20; for more details and guidance: https://numpy.org/devdocs/release/1.20.0-notes.html#deprecations\n",
      "  J = np.zeros(K, dtype=np.int)\n"
     ]
    },
    {
     "name": "stdout",
     "output_type": "stream",
     "text": [
      "building a node2vec model...\n",
      "number of walks: 83340\taverage walk length: 19.9115\ttraining time: 63.6805\n",
      "valid auc: 0.9298\n",
      "node dim: 10,\tnum_walks: 10,\twalk_length: 20,\tp: 0.45,\tq: 0.15\n"
     ]
    },
    {
     "name": "stderr",
     "output_type": "stream",
     "text": [
      "C:\\Users\\SANGIN_HA\\AppData\\Local\\Temp\\ipykernel_12096\\129575388.py:8: DeprecationWarning: `np.int` is a deprecated alias for the builtin `int`. To silence this warning, use `int` by itself. Doing this will not modify any behavior and is safe. When replacing `np.int`, you may wish to use e.g. `np.int64` or `np.int32` to specify the precision. If you wish to review your current use, check the release note link for additional information.\n",
      "Deprecated in NumPy 1.20; for more details and guidance: https://numpy.org/devdocs/release/1.20.0-notes.html#deprecations\n",
      "  J = np.zeros(K, dtype=np.int)\n"
     ]
    },
    {
     "name": "stdout",
     "output_type": "stream",
     "text": [
      "building a node2vec model...\n",
      "number of walks: 83340\taverage walk length: 19.9415\ttraining time: 62.2917\n",
      "valid auc: 0.9299\n",
      "node dim: 10,\tnum_walks: 10,\twalk_length: 20,\tp: 0.45,\tq: 0.25\n"
     ]
    },
    {
     "name": "stderr",
     "output_type": "stream",
     "text": [
      "C:\\Users\\SANGIN_HA\\AppData\\Local\\Temp\\ipykernel_12096\\129575388.py:8: DeprecationWarning: `np.int` is a deprecated alias for the builtin `int`. To silence this warning, use `int` by itself. Doing this will not modify any behavior and is safe. When replacing `np.int`, you may wish to use e.g. `np.int64` or `np.int32` to specify the precision. If you wish to review your current use, check the release note link for additional information.\n",
      "Deprecated in NumPy 1.20; for more details and guidance: https://numpy.org/devdocs/release/1.20.0-notes.html#deprecations\n",
      "  J = np.zeros(K, dtype=np.int)\n"
     ]
    },
    {
     "name": "stdout",
     "output_type": "stream",
     "text": [
      "building a node2vec model...\n",
      "number of walks: 83340\taverage walk length: 19.9496\ttraining time: 48.0361\n",
      "valid auc: 0.9303\n",
      "node dim: 10,\tnum_walks: 10,\twalk_length: 20,\tp: 0.45,\tq: 0.35\n"
     ]
    },
    {
     "name": "stderr",
     "output_type": "stream",
     "text": [
      "C:\\Users\\SANGIN_HA\\AppData\\Local\\Temp\\ipykernel_12096\\129575388.py:8: DeprecationWarning: `np.int` is a deprecated alias for the builtin `int`. To silence this warning, use `int` by itself. Doing this will not modify any behavior and is safe. When replacing `np.int`, you may wish to use e.g. `np.int64` or `np.int32` to specify the precision. If you wish to review your current use, check the release note link for additional information.\n",
      "Deprecated in NumPy 1.20; for more details and guidance: https://numpy.org/devdocs/release/1.20.0-notes.html#deprecations\n",
      "  J = np.zeros(K, dtype=np.int)\n"
     ]
    },
    {
     "name": "stdout",
     "output_type": "stream",
     "text": [
      "building a node2vec model...\n",
      "number of walks: 83340\taverage walk length: 19.9594\ttraining time: 49.9695\n",
      "valid auc: 0.9300\n",
      "node dim: 10,\tnum_walks: 10,\twalk_length: 20,\tp: 0.45,\tq: 0.45\n"
     ]
    },
    {
     "name": "stderr",
     "output_type": "stream",
     "text": [
      "C:\\Users\\SANGIN_HA\\AppData\\Local\\Temp\\ipykernel_12096\\129575388.py:8: DeprecationWarning: `np.int` is a deprecated alias for the builtin `int`. To silence this warning, use `int` by itself. Doing this will not modify any behavior and is safe. When replacing `np.int`, you may wish to use e.g. `np.int64` or `np.int32` to specify the precision. If you wish to review your current use, check the release note link for additional information.\n",
      "Deprecated in NumPy 1.20; for more details and guidance: https://numpy.org/devdocs/release/1.20.0-notes.html#deprecations\n",
      "  J = np.zeros(K, dtype=np.int)\n"
     ]
    },
    {
     "name": "stdout",
     "output_type": "stream",
     "text": [
      "building a node2vec model...\n",
      "number of walks: 83340\taverage walk length: 19.9610\ttraining time: 65.0607\n",
      "valid auc: 0.9308\n",
      "node dim: 10,\tnum_walks: 10,\twalk_length: 20,\tp: 0.45,\tq: 0.55\n"
     ]
    },
    {
     "name": "stderr",
     "output_type": "stream",
     "text": [
      "C:\\Users\\SANGIN_HA\\AppData\\Local\\Temp\\ipykernel_12096\\129575388.py:8: DeprecationWarning: `np.int` is a deprecated alias for the builtin `int`. To silence this warning, use `int` by itself. Doing this will not modify any behavior and is safe. When replacing `np.int`, you may wish to use e.g. `np.int64` or `np.int32` to specify the precision. If you wish to review your current use, check the release note link for additional information.\n",
      "Deprecated in NumPy 1.20; for more details and guidance: https://numpy.org/devdocs/release/1.20.0-notes.html#deprecations\n",
      "  J = np.zeros(K, dtype=np.int)\n"
     ]
    },
    {
     "name": "stdout",
     "output_type": "stream",
     "text": [
      "building a node2vec model...\n",
      "number of walks: 83340\taverage walk length: 19.9606\ttraining time: 62.5442\n",
      "valid auc: 0.9306\n",
      "node dim: 10,\tnum_walks: 10,\twalk_length: 20,\tp: 0.45,\tq: 0.65\n"
     ]
    },
    {
     "name": "stderr",
     "output_type": "stream",
     "text": [
      "C:\\Users\\SANGIN_HA\\AppData\\Local\\Temp\\ipykernel_12096\\129575388.py:8: DeprecationWarning: `np.int` is a deprecated alias for the builtin `int`. To silence this warning, use `int` by itself. Doing this will not modify any behavior and is safe. When replacing `np.int`, you may wish to use e.g. `np.int64` or `np.int32` to specify the precision. If you wish to review your current use, check the release note link for additional information.\n",
      "Deprecated in NumPy 1.20; for more details and guidance: https://numpy.org/devdocs/release/1.20.0-notes.html#deprecations\n",
      "  J = np.zeros(K, dtype=np.int)\n"
     ]
    },
    {
     "name": "stdout",
     "output_type": "stream",
     "text": [
      "building a node2vec model...\n",
      "number of walks: 83340\taverage walk length: 19.9663\ttraining time: 60.3106\n",
      "valid auc: 0.9309\n",
      "node dim: 10,\tnum_walks: 10,\twalk_length: 20,\tp: 0.45,\tq: 0.75\n"
     ]
    },
    {
     "name": "stderr",
     "output_type": "stream",
     "text": [
      "C:\\Users\\SANGIN_HA\\AppData\\Local\\Temp\\ipykernel_12096\\129575388.py:8: DeprecationWarning: `np.int` is a deprecated alias for the builtin `int`. To silence this warning, use `int` by itself. Doing this will not modify any behavior and is safe. When replacing `np.int`, you may wish to use e.g. `np.int64` or `np.int32` to specify the precision. If you wish to review your current use, check the release note link for additional information.\n",
      "Deprecated in NumPy 1.20; for more details and guidance: https://numpy.org/devdocs/release/1.20.0-notes.html#deprecations\n",
      "  J = np.zeros(K, dtype=np.int)\n"
     ]
    },
    {
     "name": "stdout",
     "output_type": "stream",
     "text": [
      "building a node2vec model...\n",
      "number of walks: 83340\taverage walk length: 19.9651\ttraining time: 68.1214\n",
      "valid auc: 0.9309\n",
      "node dim: 10,\tnum_walks: 10,\twalk_length: 20,\tp: 0.45,\tq: 0.85\n"
     ]
    },
    {
     "name": "stderr",
     "output_type": "stream",
     "text": [
      "C:\\Users\\SANGIN_HA\\AppData\\Local\\Temp\\ipykernel_12096\\129575388.py:8: DeprecationWarning: `np.int` is a deprecated alias for the builtin `int`. To silence this warning, use `int` by itself. Doing this will not modify any behavior and is safe. When replacing `np.int`, you may wish to use e.g. `np.int64` or `np.int32` to specify the precision. If you wish to review your current use, check the release note link for additional information.\n",
      "Deprecated in NumPy 1.20; for more details and guidance: https://numpy.org/devdocs/release/1.20.0-notes.html#deprecations\n",
      "  J = np.zeros(K, dtype=np.int)\n"
     ]
    },
    {
     "name": "stdout",
     "output_type": "stream",
     "text": [
      "building a node2vec model...\n",
      "number of walks: 83340\taverage walk length: 19.9671\ttraining time: 67.4951\n",
      "valid auc: 0.9315\n",
      "node dim: 10,\tnum_walks: 10,\twalk_length: 20,\tp: 0.45,\tq: 0.95\n"
     ]
    },
    {
     "name": "stderr",
     "output_type": "stream",
     "text": [
      "C:\\Users\\SANGIN_HA\\AppData\\Local\\Temp\\ipykernel_12096\\129575388.py:8: DeprecationWarning: `np.int` is a deprecated alias for the builtin `int`. To silence this warning, use `int` by itself. Doing this will not modify any behavior and is safe. When replacing `np.int`, you may wish to use e.g. `np.int64` or `np.int32` to specify the precision. If you wish to review your current use, check the release note link for additional information.\n",
      "Deprecated in NumPy 1.20; for more details and guidance: https://numpy.org/devdocs/release/1.20.0-notes.html#deprecations\n",
      "  J = np.zeros(K, dtype=np.int)\n"
     ]
    },
    {
     "name": "stdout",
     "output_type": "stream",
     "text": [
      "building a node2vec model...\n",
      "number of walks: 83340\taverage walk length: 19.9663\ttraining time: 58.9486\n",
      "valid auc: 0.9316\n",
      "node dim: 10,\tnum_walks: 10,\twalk_length: 20,\tp: 0.55,\tq: 0.05\n"
     ]
    },
    {
     "name": "stderr",
     "output_type": "stream",
     "text": [
      "C:\\Users\\SANGIN_HA\\AppData\\Local\\Temp\\ipykernel_12096\\129575388.py:8: DeprecationWarning: `np.int` is a deprecated alias for the builtin `int`. To silence this warning, use `int` by itself. Doing this will not modify any behavior and is safe. When replacing `np.int`, you may wish to use e.g. `np.int64` or `np.int32` to specify the precision. If you wish to review your current use, check the release note link for additional information.\n",
      "Deprecated in NumPy 1.20; for more details and guidance: https://numpy.org/devdocs/release/1.20.0-notes.html#deprecations\n",
      "  J = np.zeros(K, dtype=np.int)\n"
     ]
    },
    {
     "name": "stdout",
     "output_type": "stream",
     "text": [
      "building a node2vec model...\n",
      "number of walks: 83340\taverage walk length: 19.9050\ttraining time: 61.8733\n",
      "valid auc: 0.9294\n",
      "node dim: 10,\tnum_walks: 10,\twalk_length: 20,\tp: 0.55,\tq: 0.15\n"
     ]
    },
    {
     "name": "stderr",
     "output_type": "stream",
     "text": [
      "C:\\Users\\SANGIN_HA\\AppData\\Local\\Temp\\ipykernel_12096\\129575388.py:8: DeprecationWarning: `np.int` is a deprecated alias for the builtin `int`. To silence this warning, use `int` by itself. Doing this will not modify any behavior and is safe. When replacing `np.int`, you may wish to use e.g. `np.int64` or `np.int32` to specify the precision. If you wish to review your current use, check the release note link for additional information.\n",
      "Deprecated in NumPy 1.20; for more details and guidance: https://numpy.org/devdocs/release/1.20.0-notes.html#deprecations\n",
      "  J = np.zeros(K, dtype=np.int)\n"
     ]
    },
    {
     "name": "stdout",
     "output_type": "stream",
     "text": [
      "building a node2vec model...\n",
      "number of walks: 83340\taverage walk length: 19.9332\ttraining time: 57.7795\n",
      "valid auc: 0.9309\n",
      "node dim: 10,\tnum_walks: 10,\twalk_length: 20,\tp: 0.55,\tq: 0.25\n"
     ]
    },
    {
     "name": "stderr",
     "output_type": "stream",
     "text": [
      "C:\\Users\\SANGIN_HA\\AppData\\Local\\Temp\\ipykernel_12096\\129575388.py:8: DeprecationWarning: `np.int` is a deprecated alias for the builtin `int`. To silence this warning, use `int` by itself. Doing this will not modify any behavior and is safe. When replacing `np.int`, you may wish to use e.g. `np.int64` or `np.int32` to specify the precision. If you wish to review your current use, check the release note link for additional information.\n",
      "Deprecated in NumPy 1.20; for more details and guidance: https://numpy.org/devdocs/release/1.20.0-notes.html#deprecations\n",
      "  J = np.zeros(K, dtype=np.int)\n"
     ]
    },
    {
     "name": "stdout",
     "output_type": "stream",
     "text": [
      "building a node2vec model...\n",
      "number of walks: 83340\taverage walk length: 19.9426\ttraining time: 58.0066\n",
      "valid auc: 0.9301\n",
      "node dim: 10,\tnum_walks: 10,\twalk_length: 20,\tp: 0.55,\tq: 0.35\n"
     ]
    },
    {
     "name": "stderr",
     "output_type": "stream",
     "text": [
      "C:\\Users\\SANGIN_HA\\AppData\\Local\\Temp\\ipykernel_12096\\129575388.py:8: DeprecationWarning: `np.int` is a deprecated alias for the builtin `int`. To silence this warning, use `int` by itself. Doing this will not modify any behavior and is safe. When replacing `np.int`, you may wish to use e.g. `np.int64` or `np.int32` to specify the precision. If you wish to review your current use, check the release note link for additional information.\n",
      "Deprecated in NumPy 1.20; for more details and guidance: https://numpy.org/devdocs/release/1.20.0-notes.html#deprecations\n",
      "  J = np.zeros(K, dtype=np.int)\n"
     ]
    },
    {
     "name": "stdout",
     "output_type": "stream",
     "text": [
      "building a node2vec model...\n",
      "number of walks: 83340\taverage walk length: 19.9522\ttraining time: 47.4187\n",
      "valid auc: 0.9298\n",
      "node dim: 10,\tnum_walks: 10,\twalk_length: 20,\tp: 0.55,\tq: 0.45\n"
     ]
    },
    {
     "name": "stderr",
     "output_type": "stream",
     "text": [
      "C:\\Users\\SANGIN_HA\\AppData\\Local\\Temp\\ipykernel_12096\\129575388.py:8: DeprecationWarning: `np.int` is a deprecated alias for the builtin `int`. To silence this warning, use `int` by itself. Doing this will not modify any behavior and is safe. When replacing `np.int`, you may wish to use e.g. `np.int64` or `np.int32` to specify the precision. If you wish to review your current use, check the release note link for additional information.\n",
      "Deprecated in NumPy 1.20; for more details and guidance: https://numpy.org/devdocs/release/1.20.0-notes.html#deprecations\n",
      "  J = np.zeros(K, dtype=np.int)\n"
     ]
    },
    {
     "name": "stdout",
     "output_type": "stream",
     "text": [
      "building a node2vec model...\n",
      "number of walks: 83340\taverage walk length: 19.9604\ttraining time: 42.4332\n",
      "valid auc: 0.9315\n",
      "node dim: 10,\tnum_walks: 10,\twalk_length: 20,\tp: 0.55,\tq: 0.55\n"
     ]
    },
    {
     "name": "stderr",
     "output_type": "stream",
     "text": [
      "C:\\Users\\SANGIN_HA\\AppData\\Local\\Temp\\ipykernel_12096\\129575388.py:8: DeprecationWarning: `np.int` is a deprecated alias for the builtin `int`. To silence this warning, use `int` by itself. Doing this will not modify any behavior and is safe. When replacing `np.int`, you may wish to use e.g. `np.int64` or `np.int32` to specify the precision. If you wish to review your current use, check the release note link for additional information.\n",
      "Deprecated in NumPy 1.20; for more details and guidance: https://numpy.org/devdocs/release/1.20.0-notes.html#deprecations\n",
      "  J = np.zeros(K, dtype=np.int)\n"
     ]
    },
    {
     "name": "stdout",
     "output_type": "stream",
     "text": [
      "building a node2vec model...\n",
      "number of walks: 83340\taverage walk length: 19.9634\ttraining time: 45.4754\n",
      "valid auc: 0.9318\n",
      "node dim: 10,\tnum_walks: 10,\twalk_length: 20,\tp: 0.55,\tq: 0.65\n"
     ]
    },
    {
     "name": "stderr",
     "output_type": "stream",
     "text": [
      "C:\\Users\\SANGIN_HA\\AppData\\Local\\Temp\\ipykernel_12096\\129575388.py:8: DeprecationWarning: `np.int` is a deprecated alias for the builtin `int`. To silence this warning, use `int` by itself. Doing this will not modify any behavior and is safe. When replacing `np.int`, you may wish to use e.g. `np.int64` or `np.int32` to specify the precision. If you wish to review your current use, check the release note link for additional information.\n",
      "Deprecated in NumPy 1.20; for more details and guidance: https://numpy.org/devdocs/release/1.20.0-notes.html#deprecations\n",
      "  J = np.zeros(K, dtype=np.int)\n"
     ]
    },
    {
     "name": "stdout",
     "output_type": "stream",
     "text": [
      "building a node2vec model...\n",
      "number of walks: 83340\taverage walk length: 19.9652\ttraining time: 53.1086\n",
      "valid auc: 0.9303\n",
      "node dim: 10,\tnum_walks: 10,\twalk_length: 20,\tp: 0.55,\tq: 0.75\n"
     ]
    },
    {
     "name": "stderr",
     "output_type": "stream",
     "text": [
      "C:\\Users\\SANGIN_HA\\AppData\\Local\\Temp\\ipykernel_12096\\129575388.py:8: DeprecationWarning: `np.int` is a deprecated alias for the builtin `int`. To silence this warning, use `int` by itself. Doing this will not modify any behavior and is safe. When replacing `np.int`, you may wish to use e.g. `np.int64` or `np.int32` to specify the precision. If you wish to review your current use, check the release note link for additional information.\n",
      "Deprecated in NumPy 1.20; for more details and guidance: https://numpy.org/devdocs/release/1.20.0-notes.html#deprecations\n",
      "  J = np.zeros(K, dtype=np.int)\n"
     ]
    },
    {
     "name": "stdout",
     "output_type": "stream",
     "text": [
      "building a node2vec model...\n",
      "number of walks: 83340\taverage walk length: 19.9602\ttraining time: 61.2323\n",
      "valid auc: 0.9316\n",
      "node dim: 10,\tnum_walks: 10,\twalk_length: 20,\tp: 0.55,\tq: 0.85\n"
     ]
    },
    {
     "name": "stderr",
     "output_type": "stream",
     "text": [
      "C:\\Users\\SANGIN_HA\\AppData\\Local\\Temp\\ipykernel_12096\\129575388.py:8: DeprecationWarning: `np.int` is a deprecated alias for the builtin `int`. To silence this warning, use `int` by itself. Doing this will not modify any behavior and is safe. When replacing `np.int`, you may wish to use e.g. `np.int64` or `np.int32` to specify the precision. If you wish to review your current use, check the release note link for additional information.\n",
      "Deprecated in NumPy 1.20; for more details and guidance: https://numpy.org/devdocs/release/1.20.0-notes.html#deprecations\n",
      "  J = np.zeros(K, dtype=np.int)\n"
     ]
    },
    {
     "name": "stdout",
     "output_type": "stream",
     "text": [
      "building a node2vec model...\n",
      "number of walks: 83340\taverage walk length: 19.9639\ttraining time: 58.1989\n",
      "valid auc: 0.9309\n",
      "node dim: 10,\tnum_walks: 10,\twalk_length: 20,\tp: 0.55,\tq: 0.95\n"
     ]
    },
    {
     "name": "stderr",
     "output_type": "stream",
     "text": [
      "C:\\Users\\SANGIN_HA\\AppData\\Local\\Temp\\ipykernel_12096\\129575388.py:8: DeprecationWarning: `np.int` is a deprecated alias for the builtin `int`. To silence this warning, use `int` by itself. Doing this will not modify any behavior and is safe. When replacing `np.int`, you may wish to use e.g. `np.int64` or `np.int32` to specify the precision. If you wish to review your current use, check the release note link for additional information.\n",
      "Deprecated in NumPy 1.20; for more details and guidance: https://numpy.org/devdocs/release/1.20.0-notes.html#deprecations\n",
      "  J = np.zeros(K, dtype=np.int)\n"
     ]
    },
    {
     "name": "stdout",
     "output_type": "stream",
     "text": [
      "building a node2vec model...\n",
      "number of walks: 83340\taverage walk length: 19.9660\ttraining time: 59.6866\n",
      "valid auc: 0.9317\n",
      "node dim: 10,\tnum_walks: 10,\twalk_length: 20,\tp: 0.65,\tq: 0.05\n"
     ]
    },
    {
     "name": "stderr",
     "output_type": "stream",
     "text": [
      "C:\\Users\\SANGIN_HA\\AppData\\Local\\Temp\\ipykernel_12096\\129575388.py:8: DeprecationWarning: `np.int` is a deprecated alias for the builtin `int`. To silence this warning, use `int` by itself. Doing this will not modify any behavior and is safe. When replacing `np.int`, you may wish to use e.g. `np.int64` or `np.int32` to specify the precision. If you wish to review your current use, check the release note link for additional information.\n",
      "Deprecated in NumPy 1.20; for more details and guidance: https://numpy.org/devdocs/release/1.20.0-notes.html#deprecations\n",
      "  J = np.zeros(K, dtype=np.int)\n"
     ]
    },
    {
     "name": "stdout",
     "output_type": "stream",
     "text": [
      "building a node2vec model...\n",
      "number of walks: 83340\taverage walk length: 19.9036\ttraining time: 58.2067\n",
      "valid auc: 0.9297\n",
      "node dim: 10,\tnum_walks: 10,\twalk_length: 20,\tp: 0.65,\tq: 0.15\n"
     ]
    },
    {
     "name": "stderr",
     "output_type": "stream",
     "text": [
      "C:\\Users\\SANGIN_HA\\AppData\\Local\\Temp\\ipykernel_12096\\129575388.py:8: DeprecationWarning: `np.int` is a deprecated alias for the builtin `int`. To silence this warning, use `int` by itself. Doing this will not modify any behavior and is safe. When replacing `np.int`, you may wish to use e.g. `np.int64` or `np.int32` to specify the precision. If you wish to review your current use, check the release note link for additional information.\n",
      "Deprecated in NumPy 1.20; for more details and guidance: https://numpy.org/devdocs/release/1.20.0-notes.html#deprecations\n",
      "  J = np.zeros(K, dtype=np.int)\n"
     ]
    },
    {
     "name": "stdout",
     "output_type": "stream",
     "text": [
      "building a node2vec model...\n",
      "number of walks: 83340\taverage walk length: 19.9330\ttraining time: 58.8368\n",
      "valid auc: 0.9297\n",
      "node dim: 10,\tnum_walks: 10,\twalk_length: 20,\tp: 0.65,\tq: 0.25\n"
     ]
    },
    {
     "name": "stderr",
     "output_type": "stream",
     "text": [
      "C:\\Users\\SANGIN_HA\\AppData\\Local\\Temp\\ipykernel_12096\\129575388.py:8: DeprecationWarning: `np.int` is a deprecated alias for the builtin `int`. To silence this warning, use `int` by itself. Doing this will not modify any behavior and is safe. When replacing `np.int`, you may wish to use e.g. `np.int64` or `np.int32` to specify the precision. If you wish to review your current use, check the release note link for additional information.\n",
      "Deprecated in NumPy 1.20; for more details and guidance: https://numpy.org/devdocs/release/1.20.0-notes.html#deprecations\n",
      "  J = np.zeros(K, dtype=np.int)\n"
     ]
    },
    {
     "name": "stdout",
     "output_type": "stream",
     "text": [
      "building a node2vec model...\n",
      "number of walks: 83340\taverage walk length: 19.9441\ttraining time: 60.0194\n",
      "valid auc: 0.9303\n",
      "node dim: 10,\tnum_walks: 10,\twalk_length: 20,\tp: 0.65,\tq: 0.35\n"
     ]
    },
    {
     "name": "stderr",
     "output_type": "stream",
     "text": [
      "C:\\Users\\SANGIN_HA\\AppData\\Local\\Temp\\ipykernel_12096\\129575388.py:8: DeprecationWarning: `np.int` is a deprecated alias for the builtin `int`. To silence this warning, use `int` by itself. Doing this will not modify any behavior and is safe. When replacing `np.int`, you may wish to use e.g. `np.int64` or `np.int32` to specify the precision. If you wish to review your current use, check the release note link for additional information.\n",
      "Deprecated in NumPy 1.20; for more details and guidance: https://numpy.org/devdocs/release/1.20.0-notes.html#deprecations\n",
      "  J = np.zeros(K, dtype=np.int)\n"
     ]
    },
    {
     "name": "stdout",
     "output_type": "stream",
     "text": [
      "building a node2vec model...\n",
      "number of walks: 83340\taverage walk length: 19.9536\ttraining time: 57.2386\n",
      "valid auc: 0.9299\n",
      "node dim: 10,\tnum_walks: 10,\twalk_length: 20,\tp: 0.65,\tq: 0.45\n"
     ]
    },
    {
     "name": "stderr",
     "output_type": "stream",
     "text": [
      "C:\\Users\\SANGIN_HA\\AppData\\Local\\Temp\\ipykernel_12096\\129575388.py:8: DeprecationWarning: `np.int` is a deprecated alias for the builtin `int`. To silence this warning, use `int` by itself. Doing this will not modify any behavior and is safe. When replacing `np.int`, you may wish to use e.g. `np.int64` or `np.int32` to specify the precision. If you wish to review your current use, check the release note link for additional information.\n",
      "Deprecated in NumPy 1.20; for more details and guidance: https://numpy.org/devdocs/release/1.20.0-notes.html#deprecations\n",
      "  J = np.zeros(K, dtype=np.int)\n"
     ]
    },
    {
     "name": "stdout",
     "output_type": "stream",
     "text": [
      "building a node2vec model...\n",
      "number of walks: 83340\taverage walk length: 19.9595\ttraining time: 58.3404\n",
      "valid auc: 0.9304\n",
      "node dim: 10,\tnum_walks: 10,\twalk_length: 20,\tp: 0.65,\tq: 0.55\n"
     ]
    },
    {
     "name": "stderr",
     "output_type": "stream",
     "text": [
      "C:\\Users\\SANGIN_HA\\AppData\\Local\\Temp\\ipykernel_12096\\129575388.py:8: DeprecationWarning: `np.int` is a deprecated alias for the builtin `int`. To silence this warning, use `int` by itself. Doing this will not modify any behavior and is safe. When replacing `np.int`, you may wish to use e.g. `np.int64` or `np.int32` to specify the precision. If you wish to review your current use, check the release note link for additional information.\n",
      "Deprecated in NumPy 1.20; for more details and guidance: https://numpy.org/devdocs/release/1.20.0-notes.html#deprecations\n",
      "  J = np.zeros(K, dtype=np.int)\n"
     ]
    },
    {
     "name": "stdout",
     "output_type": "stream",
     "text": [
      "building a node2vec model...\n",
      "number of walks: 83340\taverage walk length: 19.9608\ttraining time: 58.9356\n",
      "valid auc: 0.9307\n",
      "node dim: 10,\tnum_walks: 10,\twalk_length: 20,\tp: 0.65,\tq: 0.65\n"
     ]
    },
    {
     "name": "stderr",
     "output_type": "stream",
     "text": [
      "C:\\Users\\SANGIN_HA\\AppData\\Local\\Temp\\ipykernel_12096\\129575388.py:8: DeprecationWarning: `np.int` is a deprecated alias for the builtin `int`. To silence this warning, use `int` by itself. Doing this will not modify any behavior and is safe. When replacing `np.int`, you may wish to use e.g. `np.int64` or `np.int32` to specify the precision. If you wish to review your current use, check the release note link for additional information.\n",
      "Deprecated in NumPy 1.20; for more details and guidance: https://numpy.org/devdocs/release/1.20.0-notes.html#deprecations\n",
      "  J = np.zeros(K, dtype=np.int)\n"
     ]
    },
    {
     "name": "stdout",
     "output_type": "stream",
     "text": [
      "building a node2vec model...\n",
      "number of walks: 83340\taverage walk length: 19.9632\ttraining time: 58.3931\n",
      "valid auc: 0.9304\n",
      "node dim: 10,\tnum_walks: 10,\twalk_length: 20,\tp: 0.65,\tq: 0.75\n"
     ]
    },
    {
     "name": "stderr",
     "output_type": "stream",
     "text": [
      "C:\\Users\\SANGIN_HA\\AppData\\Local\\Temp\\ipykernel_12096\\129575388.py:8: DeprecationWarning: `np.int` is a deprecated alias for the builtin `int`. To silence this warning, use `int` by itself. Doing this will not modify any behavior and is safe. When replacing `np.int`, you may wish to use e.g. `np.int64` or `np.int32` to specify the precision. If you wish to review your current use, check the release note link for additional information.\n",
      "Deprecated in NumPy 1.20; for more details and guidance: https://numpy.org/devdocs/release/1.20.0-notes.html#deprecations\n",
      "  J = np.zeros(K, dtype=np.int)\n"
     ]
    },
    {
     "name": "stdout",
     "output_type": "stream",
     "text": [
      "building a node2vec model...\n",
      "number of walks: 83340\taverage walk length: 19.9650\ttraining time: 56.3007\n",
      "valid auc: 0.9309\n",
      "node dim: 10,\tnum_walks: 10,\twalk_length: 20,\tp: 0.65,\tq: 0.85\n"
     ]
    },
    {
     "name": "stderr",
     "output_type": "stream",
     "text": [
      "C:\\Users\\SANGIN_HA\\AppData\\Local\\Temp\\ipykernel_12096\\129575388.py:8: DeprecationWarning: `np.int` is a deprecated alias for the builtin `int`. To silence this warning, use `int` by itself. Doing this will not modify any behavior and is safe. When replacing `np.int`, you may wish to use e.g. `np.int64` or `np.int32` to specify the precision. If you wish to review your current use, check the release note link for additional information.\n",
      "Deprecated in NumPy 1.20; for more details and guidance: https://numpy.org/devdocs/release/1.20.0-notes.html#deprecations\n",
      "  J = np.zeros(K, dtype=np.int)\n"
     ]
    },
    {
     "name": "stdout",
     "output_type": "stream",
     "text": [
      "building a node2vec model...\n",
      "number of walks: 83340\taverage walk length: 19.9665\ttraining time: 53.4685\n",
      "valid auc: 0.9302\n",
      "node dim: 10,\tnum_walks: 10,\twalk_length: 20,\tp: 0.65,\tq: 0.95\n"
     ]
    },
    {
     "name": "stderr",
     "output_type": "stream",
     "text": [
      "C:\\Users\\SANGIN_HA\\AppData\\Local\\Temp\\ipykernel_12096\\129575388.py:8: DeprecationWarning: `np.int` is a deprecated alias for the builtin `int`. To silence this warning, use `int` by itself. Doing this will not modify any behavior and is safe. When replacing `np.int`, you may wish to use e.g. `np.int64` or `np.int32` to specify the precision. If you wish to review your current use, check the release note link for additional information.\n",
      "Deprecated in NumPy 1.20; for more details and guidance: https://numpy.org/devdocs/release/1.20.0-notes.html#deprecations\n",
      "  J = np.zeros(K, dtype=np.int)\n"
     ]
    },
    {
     "name": "stdout",
     "output_type": "stream",
     "text": [
      "building a node2vec model...\n",
      "number of walks: 83340\taverage walk length: 19.9662\ttraining time: 45.1335\n",
      "valid auc: 0.9305\n",
      "node dim: 10,\tnum_walks: 10,\twalk_length: 20,\tp: 0.75,\tq: 0.05\n"
     ]
    },
    {
     "name": "stderr",
     "output_type": "stream",
     "text": [
      "C:\\Users\\SANGIN_HA\\AppData\\Local\\Temp\\ipykernel_12096\\129575388.py:8: DeprecationWarning: `np.int` is a deprecated alias for the builtin `int`. To silence this warning, use `int` by itself. Doing this will not modify any behavior and is safe. When replacing `np.int`, you may wish to use e.g. `np.int64` or `np.int32` to specify the precision. If you wish to review your current use, check the release note link for additional information.\n",
      "Deprecated in NumPy 1.20; for more details and guidance: https://numpy.org/devdocs/release/1.20.0-notes.html#deprecations\n",
      "  J = np.zeros(K, dtype=np.int)\n"
     ]
    },
    {
     "name": "stdout",
     "output_type": "stream",
     "text": [
      "building a node2vec model...\n",
      "number of walks: 83340\taverage walk length: 19.8973\ttraining time: 54.3009\n",
      "valid auc: 0.9306\n",
      "node dim: 10,\tnum_walks: 10,\twalk_length: 20,\tp: 0.75,\tq: 0.15\n"
     ]
    },
    {
     "name": "stderr",
     "output_type": "stream",
     "text": [
      "C:\\Users\\SANGIN_HA\\AppData\\Local\\Temp\\ipykernel_12096\\129575388.py:8: DeprecationWarning: `np.int` is a deprecated alias for the builtin `int`. To silence this warning, use `int` by itself. Doing this will not modify any behavior and is safe. When replacing `np.int`, you may wish to use e.g. `np.int64` or `np.int32` to specify the precision. If you wish to review your current use, check the release note link for additional information.\n",
      "Deprecated in NumPy 1.20; for more details and guidance: https://numpy.org/devdocs/release/1.20.0-notes.html#deprecations\n",
      "  J = np.zeros(K, dtype=np.int)\n"
     ]
    },
    {
     "name": "stdout",
     "output_type": "stream",
     "text": [
      "building a node2vec model...\n",
      "number of walks: 83340\taverage walk length: 19.9288\ttraining time: 62.0974\n",
      "valid auc: 0.9312\n",
      "node dim: 10,\tnum_walks: 10,\twalk_length: 20,\tp: 0.75,\tq: 0.25\n"
     ]
    },
    {
     "name": "stderr",
     "output_type": "stream",
     "text": [
      "C:\\Users\\SANGIN_HA\\AppData\\Local\\Temp\\ipykernel_12096\\129575388.py:8: DeprecationWarning: `np.int` is a deprecated alias for the builtin `int`. To silence this warning, use `int` by itself. Doing this will not modify any behavior and is safe. When replacing `np.int`, you may wish to use e.g. `np.int64` or `np.int32` to specify the precision. If you wish to review your current use, check the release note link for additional information.\n",
      "Deprecated in NumPy 1.20; for more details and guidance: https://numpy.org/devdocs/release/1.20.0-notes.html#deprecations\n",
      "  J = np.zeros(K, dtype=np.int)\n"
     ]
    },
    {
     "name": "stdout",
     "output_type": "stream",
     "text": [
      "building a node2vec model...\n",
      "number of walks: 83340\taverage walk length: 19.9431\ttraining time: 68.4471\n",
      "valid auc: 0.9299\n",
      "node dim: 10,\tnum_walks: 10,\twalk_length: 20,\tp: 0.75,\tq: 0.35\n"
     ]
    },
    {
     "name": "stderr",
     "output_type": "stream",
     "text": [
      "C:\\Users\\SANGIN_HA\\AppData\\Local\\Temp\\ipykernel_12096\\129575388.py:8: DeprecationWarning: `np.int` is a deprecated alias for the builtin `int`. To silence this warning, use `int` by itself. Doing this will not modify any behavior and is safe. When replacing `np.int`, you may wish to use e.g. `np.int64` or `np.int32` to specify the precision. If you wish to review your current use, check the release note link for additional information.\n",
      "Deprecated in NumPy 1.20; for more details and guidance: https://numpy.org/devdocs/release/1.20.0-notes.html#deprecations\n",
      "  J = np.zeros(K, dtype=np.int)\n"
     ]
    },
    {
     "name": "stdout",
     "output_type": "stream",
     "text": [
      "building a node2vec model...\n",
      "number of walks: 83340\taverage walk length: 19.9440\ttraining time: 66.5737\n",
      "valid auc: 0.9301\n",
      "node dim: 10,\tnum_walks: 10,\twalk_length: 20,\tp: 0.75,\tq: 0.45\n"
     ]
    },
    {
     "name": "stderr",
     "output_type": "stream",
     "text": [
      "C:\\Users\\SANGIN_HA\\AppData\\Local\\Temp\\ipykernel_12096\\129575388.py:8: DeprecationWarning: `np.int` is a deprecated alias for the builtin `int`. To silence this warning, use `int` by itself. Doing this will not modify any behavior and is safe. When replacing `np.int`, you may wish to use e.g. `np.int64` or `np.int32` to specify the precision. If you wish to review your current use, check the release note link for additional information.\n",
      "Deprecated in NumPy 1.20; for more details and guidance: https://numpy.org/devdocs/release/1.20.0-notes.html#deprecations\n",
      "  J = np.zeros(K, dtype=np.int)\n"
     ]
    },
    {
     "name": "stdout",
     "output_type": "stream",
     "text": [
      "building a node2vec model...\n",
      "number of walks: 83340\taverage walk length: 19.9531\ttraining time: 59.0750\n",
      "valid auc: 0.9307\n",
      "node dim: 10,\tnum_walks: 10,\twalk_length: 20,\tp: 0.75,\tq: 0.55\n"
     ]
    },
    {
     "name": "stderr",
     "output_type": "stream",
     "text": [
      "C:\\Users\\SANGIN_HA\\AppData\\Local\\Temp\\ipykernel_12096\\129575388.py:8: DeprecationWarning: `np.int` is a deprecated alias for the builtin `int`. To silence this warning, use `int` by itself. Doing this will not modify any behavior and is safe. When replacing `np.int`, you may wish to use e.g. `np.int64` or `np.int32` to specify the precision. If you wish to review your current use, check the release note link for additional information.\n",
      "Deprecated in NumPy 1.20; for more details and guidance: https://numpy.org/devdocs/release/1.20.0-notes.html#deprecations\n",
      "  J = np.zeros(K, dtype=np.int)\n"
     ]
    },
    {
     "name": "stdout",
     "output_type": "stream",
     "text": [
      "building a node2vec model...\n",
      "number of walks: 83340\taverage walk length: 19.9589\ttraining time: 64.8363\n",
      "valid auc: 0.9305\n",
      "node dim: 10,\tnum_walks: 10,\twalk_length: 20,\tp: 0.75,\tq: 0.65\n"
     ]
    },
    {
     "name": "stderr",
     "output_type": "stream",
     "text": [
      "C:\\Users\\SANGIN_HA\\AppData\\Local\\Temp\\ipykernel_12096\\129575388.py:8: DeprecationWarning: `np.int` is a deprecated alias for the builtin `int`. To silence this warning, use `int` by itself. Doing this will not modify any behavior and is safe. When replacing `np.int`, you may wish to use e.g. `np.int64` or `np.int32` to specify the precision. If you wish to review your current use, check the release note link for additional information.\n",
      "Deprecated in NumPy 1.20; for more details and guidance: https://numpy.org/devdocs/release/1.20.0-notes.html#deprecations\n",
      "  J = np.zeros(K, dtype=np.int)\n"
     ]
    },
    {
     "name": "stdout",
     "output_type": "stream",
     "text": [
      "building a node2vec model...\n",
      "number of walks: 83340\taverage walk length: 19.9605\ttraining time: 69.6617\n",
      "valid auc: 0.9305\n",
      "node dim: 10,\tnum_walks: 10,\twalk_length: 20,\tp: 0.75,\tq: 0.75\n"
     ]
    },
    {
     "name": "stderr",
     "output_type": "stream",
     "text": [
      "C:\\Users\\SANGIN_HA\\AppData\\Local\\Temp\\ipykernel_12096\\129575388.py:8: DeprecationWarning: `np.int` is a deprecated alias for the builtin `int`. To silence this warning, use `int` by itself. Doing this will not modify any behavior and is safe. When replacing `np.int`, you may wish to use e.g. `np.int64` or `np.int32` to specify the precision. If you wish to review your current use, check the release note link for additional information.\n",
      "Deprecated in NumPy 1.20; for more details and guidance: https://numpy.org/devdocs/release/1.20.0-notes.html#deprecations\n",
      "  J = np.zeros(K, dtype=np.int)\n"
     ]
    },
    {
     "name": "stdout",
     "output_type": "stream",
     "text": [
      "building a node2vec model...\n",
      "number of walks: 83340\taverage walk length: 19.9634\ttraining time: 57.8018\n",
      "valid auc: 0.9317\n",
      "node dim: 10,\tnum_walks: 10,\twalk_length: 20,\tp: 0.75,\tq: 0.85\n"
     ]
    },
    {
     "name": "stderr",
     "output_type": "stream",
     "text": [
      "C:\\Users\\SANGIN_HA\\AppData\\Local\\Temp\\ipykernel_12096\\129575388.py:8: DeprecationWarning: `np.int` is a deprecated alias for the builtin `int`. To silence this warning, use `int` by itself. Doing this will not modify any behavior and is safe. When replacing `np.int`, you may wish to use e.g. `np.int64` or `np.int32` to specify the precision. If you wish to review your current use, check the release note link for additional information.\n",
      "Deprecated in NumPy 1.20; for more details and guidance: https://numpy.org/devdocs/release/1.20.0-notes.html#deprecations\n",
      "  J = np.zeros(K, dtype=np.int)\n"
     ]
    },
    {
     "name": "stdout",
     "output_type": "stream",
     "text": [
      "building a node2vec model...\n",
      "number of walks: 83340\taverage walk length: 19.9628\ttraining time: 57.5367\n",
      "valid auc: 0.9305\n",
      "node dim: 10,\tnum_walks: 10,\twalk_length: 20,\tp: 0.75,\tq: 0.95\n"
     ]
    },
    {
     "name": "stderr",
     "output_type": "stream",
     "text": [
      "C:\\Users\\SANGIN_HA\\AppData\\Local\\Temp\\ipykernel_12096\\129575388.py:8: DeprecationWarning: `np.int` is a deprecated alias for the builtin `int`. To silence this warning, use `int` by itself. Doing this will not modify any behavior and is safe. When replacing `np.int`, you may wish to use e.g. `np.int64` or `np.int32` to specify the precision. If you wish to review your current use, check the release note link for additional information.\n",
      "Deprecated in NumPy 1.20; for more details and guidance: https://numpy.org/devdocs/release/1.20.0-notes.html#deprecations\n",
      "  J = np.zeros(K, dtype=np.int)\n"
     ]
    },
    {
     "name": "stdout",
     "output_type": "stream",
     "text": [
      "building a node2vec model...\n",
      "number of walks: 83340\taverage walk length: 19.9679\ttraining time: 46.3953\n",
      "valid auc: 0.9316\n",
      "node dim: 10,\tnum_walks: 10,\twalk_length: 20,\tp: 0.85,\tq: 0.05\n"
     ]
    },
    {
     "name": "stderr",
     "output_type": "stream",
     "text": [
      "C:\\Users\\SANGIN_HA\\AppData\\Local\\Temp\\ipykernel_12096\\129575388.py:8: DeprecationWarning: `np.int` is a deprecated alias for the builtin `int`. To silence this warning, use `int` by itself. Doing this will not modify any behavior and is safe. When replacing `np.int`, you may wish to use e.g. `np.int64` or `np.int32` to specify the precision. If you wish to review your current use, check the release note link for additional information.\n",
      "Deprecated in NumPy 1.20; for more details and guidance: https://numpy.org/devdocs/release/1.20.0-notes.html#deprecations\n",
      "  J = np.zeros(K, dtype=np.int)\n"
     ]
    },
    {
     "name": "stdout",
     "output_type": "stream",
     "text": [
      "building a node2vec model...\n",
      "number of walks: 83340\taverage walk length: 19.8989\ttraining time: 46.3298\n",
      "valid auc: 0.9298\n",
      "node dim: 10,\tnum_walks: 10,\twalk_length: 20,\tp: 0.85,\tq: 0.15\n"
     ]
    },
    {
     "name": "stderr",
     "output_type": "stream",
     "text": [
      "C:\\Users\\SANGIN_HA\\AppData\\Local\\Temp\\ipykernel_12096\\129575388.py:8: DeprecationWarning: `np.int` is a deprecated alias for the builtin `int`. To silence this warning, use `int` by itself. Doing this will not modify any behavior and is safe. When replacing `np.int`, you may wish to use e.g. `np.int64` or `np.int32` to specify the precision. If you wish to review your current use, check the release note link for additional information.\n",
      "Deprecated in NumPy 1.20; for more details and guidance: https://numpy.org/devdocs/release/1.20.0-notes.html#deprecations\n",
      "  J = np.zeros(K, dtype=np.int)\n"
     ]
    },
    {
     "name": "stdout",
     "output_type": "stream",
     "text": [
      "building a node2vec model...\n",
      "number of walks: 83340\taverage walk length: 19.9236\ttraining time: 45.4776\n",
      "valid auc: 0.9310\n",
      "node dim: 10,\tnum_walks: 10,\twalk_length: 20,\tp: 0.85,\tq: 0.25\n"
     ]
    },
    {
     "name": "stderr",
     "output_type": "stream",
     "text": [
      "C:\\Users\\SANGIN_HA\\AppData\\Local\\Temp\\ipykernel_12096\\129575388.py:8: DeprecationWarning: `np.int` is a deprecated alias for the builtin `int`. To silence this warning, use `int` by itself. Doing this will not modify any behavior and is safe. When replacing `np.int`, you may wish to use e.g. `np.int64` or `np.int32` to specify the precision. If you wish to review your current use, check the release note link for additional information.\n",
      "Deprecated in NumPy 1.20; for more details and guidance: https://numpy.org/devdocs/release/1.20.0-notes.html#deprecations\n",
      "  J = np.zeros(K, dtype=np.int)\n"
     ]
    },
    {
     "name": "stdout",
     "output_type": "stream",
     "text": [
      "building a node2vec model...\n",
      "number of walks: 83340\taverage walk length: 19.9392\ttraining time: 49.2406\n",
      "valid auc: 0.9299\n",
      "node dim: 10,\tnum_walks: 10,\twalk_length: 20,\tp: 0.85,\tq: 0.35\n"
     ]
    },
    {
     "name": "stderr",
     "output_type": "stream",
     "text": [
      "C:\\Users\\SANGIN_HA\\AppData\\Local\\Temp\\ipykernel_12096\\129575388.py:8: DeprecationWarning: `np.int` is a deprecated alias for the builtin `int`. To silence this warning, use `int` by itself. Doing this will not modify any behavior and is safe. When replacing `np.int`, you may wish to use e.g. `np.int64` or `np.int32` to specify the precision. If you wish to review your current use, check the release note link for additional information.\n",
      "Deprecated in NumPy 1.20; for more details and guidance: https://numpy.org/devdocs/release/1.20.0-notes.html#deprecations\n",
      "  J = np.zeros(K, dtype=np.int)\n"
     ]
    },
    {
     "name": "stdout",
     "output_type": "stream",
     "text": [
      "building a node2vec model...\n",
      "number of walks: 83340\taverage walk length: 19.9438\ttraining time: 53.3558\n",
      "valid auc: 0.9298\n",
      "node dim: 10,\tnum_walks: 10,\twalk_length: 20,\tp: 0.85,\tq: 0.45\n"
     ]
    },
    {
     "name": "stderr",
     "output_type": "stream",
     "text": [
      "C:\\Users\\SANGIN_HA\\AppData\\Local\\Temp\\ipykernel_12096\\129575388.py:8: DeprecationWarning: `np.int` is a deprecated alias for the builtin `int`. To silence this warning, use `int` by itself. Doing this will not modify any behavior and is safe. When replacing `np.int`, you may wish to use e.g. `np.int64` or `np.int32` to specify the precision. If you wish to review your current use, check the release note link for additional information.\n",
      "Deprecated in NumPy 1.20; for more details and guidance: https://numpy.org/devdocs/release/1.20.0-notes.html#deprecations\n",
      "  J = np.zeros(K, dtype=np.int)\n"
     ]
    },
    {
     "name": "stdout",
     "output_type": "stream",
     "text": [
      "building a node2vec model...\n",
      "number of walks: 83340\taverage walk length: 19.9553\ttraining time: 57.3181\n",
      "valid auc: 0.9304\n",
      "node dim: 10,\tnum_walks: 10,\twalk_length: 20,\tp: 0.85,\tq: 0.55\n"
     ]
    },
    {
     "name": "stderr",
     "output_type": "stream",
     "text": [
      "C:\\Users\\SANGIN_HA\\AppData\\Local\\Temp\\ipykernel_12096\\129575388.py:8: DeprecationWarning: `np.int` is a deprecated alias for the builtin `int`. To silence this warning, use `int` by itself. Doing this will not modify any behavior and is safe. When replacing `np.int`, you may wish to use e.g. `np.int64` or `np.int32` to specify the precision. If you wish to review your current use, check the release note link for additional information.\n",
      "Deprecated in NumPy 1.20; for more details and guidance: https://numpy.org/devdocs/release/1.20.0-notes.html#deprecations\n",
      "  J = np.zeros(K, dtype=np.int)\n"
     ]
    },
    {
     "name": "stdout",
     "output_type": "stream",
     "text": [
      "building a node2vec model...\n",
      "number of walks: 83340\taverage walk length: 19.9557\ttraining time: 59.3612\n",
      "valid auc: 0.9317\n",
      "node dim: 10,\tnum_walks: 10,\twalk_length: 20,\tp: 0.85,\tq: 0.65\n"
     ]
    },
    {
     "name": "stderr",
     "output_type": "stream",
     "text": [
      "C:\\Users\\SANGIN_HA\\AppData\\Local\\Temp\\ipykernel_12096\\129575388.py:8: DeprecationWarning: `np.int` is a deprecated alias for the builtin `int`. To silence this warning, use `int` by itself. Doing this will not modify any behavior and is safe. When replacing `np.int`, you may wish to use e.g. `np.int64` or `np.int32` to specify the precision. If you wish to review your current use, check the release note link for additional information.\n",
      "Deprecated in NumPy 1.20; for more details and guidance: https://numpy.org/devdocs/release/1.20.0-notes.html#deprecations\n",
      "  J = np.zeros(K, dtype=np.int)\n"
     ]
    },
    {
     "name": "stdout",
     "output_type": "stream",
     "text": [
      "building a node2vec model...\n",
      "number of walks: 83340\taverage walk length: 19.9588\ttraining time: 49.9173\n",
      "valid auc: 0.9306\n",
      "node dim: 10,\tnum_walks: 10,\twalk_length: 20,\tp: 0.85,\tq: 0.75\n"
     ]
    },
    {
     "name": "stderr",
     "output_type": "stream",
     "text": [
      "C:\\Users\\SANGIN_HA\\AppData\\Local\\Temp\\ipykernel_12096\\129575388.py:8: DeprecationWarning: `np.int` is a deprecated alias for the builtin `int`. To silence this warning, use `int` by itself. Doing this will not modify any behavior and is safe. When replacing `np.int`, you may wish to use e.g. `np.int64` or `np.int32` to specify the precision. If you wish to review your current use, check the release note link for additional information.\n",
      "Deprecated in NumPy 1.20; for more details and guidance: https://numpy.org/devdocs/release/1.20.0-notes.html#deprecations\n",
      "  J = np.zeros(K, dtype=np.int)\n"
     ]
    },
    {
     "name": "stdout",
     "output_type": "stream",
     "text": [
      "building a node2vec model...\n",
      "number of walks: 83340\taverage walk length: 19.9645\ttraining time: 57.7634\n",
      "valid auc: 0.9317\n",
      "node dim: 10,\tnum_walks: 10,\twalk_length: 20,\tp: 0.85,\tq: 0.85\n"
     ]
    },
    {
     "name": "stderr",
     "output_type": "stream",
     "text": [
      "C:\\Users\\SANGIN_HA\\AppData\\Local\\Temp\\ipykernel_12096\\129575388.py:8: DeprecationWarning: `np.int` is a deprecated alias for the builtin `int`. To silence this warning, use `int` by itself. Doing this will not modify any behavior and is safe. When replacing `np.int`, you may wish to use e.g. `np.int64` or `np.int32` to specify the precision. If you wish to review your current use, check the release note link for additional information.\n",
      "Deprecated in NumPy 1.20; for more details and guidance: https://numpy.org/devdocs/release/1.20.0-notes.html#deprecations\n",
      "  J = np.zeros(K, dtype=np.int)\n"
     ]
    },
    {
     "name": "stdout",
     "output_type": "stream",
     "text": [
      "building a node2vec model...\n",
      "number of walks: 83340\taverage walk length: 19.9601\ttraining time: 54.6960\n",
      "valid auc: 0.9304\n",
      "node dim: 10,\tnum_walks: 10,\twalk_length: 20,\tp: 0.85,\tq: 0.95\n"
     ]
    },
    {
     "name": "stderr",
     "output_type": "stream",
     "text": [
      "C:\\Users\\SANGIN_HA\\AppData\\Local\\Temp\\ipykernel_12096\\129575388.py:8: DeprecationWarning: `np.int` is a deprecated alias for the builtin `int`. To silence this warning, use `int` by itself. Doing this will not modify any behavior and is safe. When replacing `np.int`, you may wish to use e.g. `np.int64` or `np.int32` to specify the precision. If you wish to review your current use, check the release note link for additional information.\n",
      "Deprecated in NumPy 1.20; for more details and guidance: https://numpy.org/devdocs/release/1.20.0-notes.html#deprecations\n",
      "  J = np.zeros(K, dtype=np.int)\n"
     ]
    },
    {
     "name": "stdout",
     "output_type": "stream",
     "text": [
      "building a node2vec model...\n",
      "number of walks: 83340\taverage walk length: 19.9643\ttraining time: 46.6292\n",
      "valid auc: 0.9307\n",
      "node dim: 10,\tnum_walks: 10,\twalk_length: 20,\tp: 0.95,\tq: 0.05\n"
     ]
    },
    {
     "name": "stderr",
     "output_type": "stream",
     "text": [
      "C:\\Users\\SANGIN_HA\\AppData\\Local\\Temp\\ipykernel_12096\\129575388.py:8: DeprecationWarning: `np.int` is a deprecated alias for the builtin `int`. To silence this warning, use `int` by itself. Doing this will not modify any behavior and is safe. When replacing `np.int`, you may wish to use e.g. `np.int64` or `np.int32` to specify the precision. If you wish to review your current use, check the release note link for additional information.\n",
      "Deprecated in NumPy 1.20; for more details and guidance: https://numpy.org/devdocs/release/1.20.0-notes.html#deprecations\n",
      "  J = np.zeros(K, dtype=np.int)\n"
     ]
    },
    {
     "name": "stdout",
     "output_type": "stream",
     "text": [
      "building a node2vec model...\n",
      "number of walks: 83340\taverage walk length: 19.8996\ttraining time: 50.5745\n",
      "valid auc: 0.9292\n",
      "node dim: 10,\tnum_walks: 10,\twalk_length: 20,\tp: 0.95,\tq: 0.15\n"
     ]
    },
    {
     "name": "stderr",
     "output_type": "stream",
     "text": [
      "C:\\Users\\SANGIN_HA\\AppData\\Local\\Temp\\ipykernel_12096\\129575388.py:8: DeprecationWarning: `np.int` is a deprecated alias for the builtin `int`. To silence this warning, use `int` by itself. Doing this will not modify any behavior and is safe. When replacing `np.int`, you may wish to use e.g. `np.int64` or `np.int32` to specify the precision. If you wish to review your current use, check the release note link for additional information.\n",
      "Deprecated in NumPy 1.20; for more details and guidance: https://numpy.org/devdocs/release/1.20.0-notes.html#deprecations\n",
      "  J = np.zeros(K, dtype=np.int)\n"
     ]
    },
    {
     "name": "stdout",
     "output_type": "stream",
     "text": [
      "building a node2vec model...\n",
      "number of walks: 83340\taverage walk length: 19.9182\ttraining time: 71.7120\n",
      "valid auc: 0.9300\n",
      "node dim: 10,\tnum_walks: 10,\twalk_length: 20,\tp: 0.95,\tq: 0.25\n"
     ]
    },
    {
     "name": "stderr",
     "output_type": "stream",
     "text": [
      "C:\\Users\\SANGIN_HA\\AppData\\Local\\Temp\\ipykernel_12096\\129575388.py:8: DeprecationWarning: `np.int` is a deprecated alias for the builtin `int`. To silence this warning, use `int` by itself. Doing this will not modify any behavior and is safe. When replacing `np.int`, you may wish to use e.g. `np.int64` or `np.int32` to specify the precision. If you wish to review your current use, check the release note link for additional information.\n",
      "Deprecated in NumPy 1.20; for more details and guidance: https://numpy.org/devdocs/release/1.20.0-notes.html#deprecations\n",
      "  J = np.zeros(K, dtype=np.int)\n"
     ]
    },
    {
     "name": "stdout",
     "output_type": "stream",
     "text": [
      "building a node2vec model...\n",
      "number of walks: 83340\taverage walk length: 19.9350\ttraining time: 72.2884\n",
      "valid auc: 0.9305\n",
      "node dim: 10,\tnum_walks: 10,\twalk_length: 20,\tp: 0.95,\tq: 0.35\n"
     ]
    },
    {
     "name": "stderr",
     "output_type": "stream",
     "text": [
      "C:\\Users\\SANGIN_HA\\AppData\\Local\\Temp\\ipykernel_12096\\129575388.py:8: DeprecationWarning: `np.int` is a deprecated alias for the builtin `int`. To silence this warning, use `int` by itself. Doing this will not modify any behavior and is safe. When replacing `np.int`, you may wish to use e.g. `np.int64` or `np.int32` to specify the precision. If you wish to review your current use, check the release note link for additional information.\n",
      "Deprecated in NumPy 1.20; for more details and guidance: https://numpy.org/devdocs/release/1.20.0-notes.html#deprecations\n",
      "  J = np.zeros(K, dtype=np.int)\n"
     ]
    },
    {
     "name": "stdout",
     "output_type": "stream",
     "text": [
      "building a node2vec model...\n",
      "number of walks: 83340\taverage walk length: 19.9429\ttraining time: 67.1691\n",
      "valid auc: 0.9303\n",
      "node dim: 10,\tnum_walks: 10,\twalk_length: 20,\tp: 0.95,\tq: 0.45\n"
     ]
    },
    {
     "name": "stderr",
     "output_type": "stream",
     "text": [
      "C:\\Users\\SANGIN_HA\\AppData\\Local\\Temp\\ipykernel_12096\\129575388.py:8: DeprecationWarning: `np.int` is a deprecated alias for the builtin `int`. To silence this warning, use `int` by itself. Doing this will not modify any behavior and is safe. When replacing `np.int`, you may wish to use e.g. `np.int64` or `np.int32` to specify the precision. If you wish to review your current use, check the release note link for additional information.\n",
      "Deprecated in NumPy 1.20; for more details and guidance: https://numpy.org/devdocs/release/1.20.0-notes.html#deprecations\n",
      "  J = np.zeros(K, dtype=np.int)\n"
     ]
    },
    {
     "name": "stdout",
     "output_type": "stream",
     "text": [
      "building a node2vec model...\n",
      "number of walks: 83340\taverage walk length: 19.9496\ttraining time: 66.0640\n",
      "valid auc: 0.9312\n",
      "node dim: 10,\tnum_walks: 10,\twalk_length: 20,\tp: 0.95,\tq: 0.55\n"
     ]
    },
    {
     "name": "stderr",
     "output_type": "stream",
     "text": [
      "C:\\Users\\SANGIN_HA\\AppData\\Local\\Temp\\ipykernel_12096\\129575388.py:8: DeprecationWarning: `np.int` is a deprecated alias for the builtin `int`. To silence this warning, use `int` by itself. Doing this will not modify any behavior and is safe. When replacing `np.int`, you may wish to use e.g. `np.int64` or `np.int32` to specify the precision. If you wish to review your current use, check the release note link for additional information.\n",
      "Deprecated in NumPy 1.20; for more details and guidance: https://numpy.org/devdocs/release/1.20.0-notes.html#deprecations\n",
      "  J = np.zeros(K, dtype=np.int)\n"
     ]
    },
    {
     "name": "stdout",
     "output_type": "stream",
     "text": [
      "building a node2vec model...\n",
      "number of walks: 83340\taverage walk length: 19.9529\ttraining time: 73.6059\n",
      "valid auc: 0.9310\n",
      "node dim: 10,\tnum_walks: 10,\twalk_length: 20,\tp: 0.95,\tq: 0.65\n"
     ]
    },
    {
     "name": "stderr",
     "output_type": "stream",
     "text": [
      "C:\\Users\\SANGIN_HA\\AppData\\Local\\Temp\\ipykernel_12096\\129575388.py:8: DeprecationWarning: `np.int` is a deprecated alias for the builtin `int`. To silence this warning, use `int` by itself. Doing this will not modify any behavior and is safe. When replacing `np.int`, you may wish to use e.g. `np.int64` or `np.int32` to specify the precision. If you wish to review your current use, check the release note link for additional information.\n",
      "Deprecated in NumPy 1.20; for more details and guidance: https://numpy.org/devdocs/release/1.20.0-notes.html#deprecations\n",
      "  J = np.zeros(K, dtype=np.int)\n"
     ]
    },
    {
     "name": "stdout",
     "output_type": "stream",
     "text": [
      "building a node2vec model...\n",
      "number of walks: 83340\taverage walk length: 19.9564\ttraining time: 66.2624\n",
      "valid auc: 0.9310\n",
      "node dim: 10,\tnum_walks: 10,\twalk_length: 20,\tp: 0.95,\tq: 0.75\n"
     ]
    },
    {
     "name": "stderr",
     "output_type": "stream",
     "text": [
      "C:\\Users\\SANGIN_HA\\AppData\\Local\\Temp\\ipykernel_12096\\129575388.py:8: DeprecationWarning: `np.int` is a deprecated alias for the builtin `int`. To silence this warning, use `int` by itself. Doing this will not modify any behavior and is safe. When replacing `np.int`, you may wish to use e.g. `np.int64` or `np.int32` to specify the precision. If you wish to review your current use, check the release note link for additional information.\n",
      "Deprecated in NumPy 1.20; for more details and guidance: https://numpy.org/devdocs/release/1.20.0-notes.html#deprecations\n",
      "  J = np.zeros(K, dtype=np.int)\n"
     ]
    },
    {
     "name": "stdout",
     "output_type": "stream",
     "text": [
      "building a node2vec model...\n",
      "number of walks: 83340\taverage walk length: 19.9601\ttraining time: 61.9368\n",
      "valid auc: 0.9310\n",
      "node dim: 10,\tnum_walks: 10,\twalk_length: 20,\tp: 0.95,\tq: 0.85\n"
     ]
    },
    {
     "name": "stderr",
     "output_type": "stream",
     "text": [
      "C:\\Users\\SANGIN_HA\\AppData\\Local\\Temp\\ipykernel_12096\\129575388.py:8: DeprecationWarning: `np.int` is a deprecated alias for the builtin `int`. To silence this warning, use `int` by itself. Doing this will not modify any behavior and is safe. When replacing `np.int`, you may wish to use e.g. `np.int64` or `np.int32` to specify the precision. If you wish to review your current use, check the release note link for additional information.\n",
      "Deprecated in NumPy 1.20; for more details and guidance: https://numpy.org/devdocs/release/1.20.0-notes.html#deprecations\n",
      "  J = np.zeros(K, dtype=np.int)\n"
     ]
    },
    {
     "name": "stdout",
     "output_type": "stream",
     "text": [
      "building a node2vec model...\n",
      "number of walks: 83340\taverage walk length: 19.9609\ttraining time: 44.9421\n",
      "valid auc: 0.9312\n",
      "node dim: 10,\tnum_walks: 10,\twalk_length: 20,\tp: 0.95,\tq: 0.95\n"
     ]
    },
    {
     "name": "stderr",
     "output_type": "stream",
     "text": [
      "C:\\Users\\SANGIN_HA\\AppData\\Local\\Temp\\ipykernel_12096\\129575388.py:8: DeprecationWarning: `np.int` is a deprecated alias for the builtin `int`. To silence this warning, use `int` by itself. Doing this will not modify any behavior and is safe. When replacing `np.int`, you may wish to use e.g. `np.int64` or `np.int32` to specify the precision. If you wish to review your current use, check the release note link for additional information.\n",
      "Deprecated in NumPy 1.20; for more details and guidance: https://numpy.org/devdocs/release/1.20.0-notes.html#deprecations\n",
      "  J = np.zeros(K, dtype=np.int)\n"
     ]
    },
    {
     "name": "stdout",
     "output_type": "stream",
     "text": [
      "building a node2vec model...\n",
      "number of walks: 83340\taverage walk length: 19.9662\ttraining time: 42.7524\n",
      "valid auc: 0.9312\n"
     ]
    }
   ],
   "source": [
    "np.random.seed(0)\n",
    "\n",
    "node_dim = 10 # TODO\n",
    "num_walks = 10 # TODO\n",
    "walk_length = 20 # TODO\n",
    "p_list = [0.05, 0.15, 0.25, 0.35, 0.45, 0.55, 0.65, 0.75, 0.85, 0.95] # TODO\n",
    "q_list = [0.05, 0.15, 0.25, 0.35, 0.45, 0.55, 0.65, 0.75, 0.85, 0.95] # TODO\n",
    "\n",
    "node2vec_auc_scores = dict()\n",
    "for p in p_list:\n",
    "    for q in q_list:\n",
    "        print(\"node dim: %d,\\tnum_walks: %d,\\twalk_length: %d,\\tp: %.2f,\\tq: %.2f\" % (\n",
    "                    node_dim, num_walks, walk_length, p, q), end=\"\\n\")\n",
    "        alias_nodes, alias_edges = preprocess_transition_probs(graph, p=p, q=q)\n",
    "        model = build_node2vec(graph, alias_nodes, alias_edges, \n",
    "                        node_dim=node_dim, num_walks=num_walks, walk_length=walk_length)\n",
    "        node2vec_auc_scores[(node_dim, num_walks, walk_length, p, q,'valid')] = get_auc_score(model, valid_edges, false_edges)\n",
    "        print(\"valid auc: %.4f\" % (node2vec_auc_scores[(node_dim, num_walks, walk_length, p, q,'valid')]))"
   ]
  },
  {
   "cell_type": "code",
   "execution_count": 82,
   "metadata": {},
   "outputs": [],
   "source": [
    "num_walks = 10\n",
    "walk_length =20\n",
    "p_list = [0.05, 0.15, 0.25, 0.35, 0.45, 0.55, 0.65, 0.75, 0.85, 0.95] # TODO\n",
    "q_list = [0.05, 0.15, 0.25, 0.35, 0.45, 0.55, 0.65, 0.75, 0.85, 0.95] # TODO\n",
    "def corr_heatmap2():\n",
    "    # Create figure and axes objects\n",
    "    fig, ax1 = plt.subplots(1, 1, figsize=(20, 10))\n",
    "    # Create heatmap 1\n",
    "    a1 = np.array([node2vec_auc_scores[(node_dim, num_walks, walk_length, p, q, 'valid')] for p in p_list for q in q_list])\n",
    "    a1 = a1.reshape(10, 10)\n",
    "    im1 = ax1.imshow(a1, cmap=\"coolwarm\", interpolation=\"nearest\")\n",
    "\n",
    "    # Add colorbars\n",
    "    cbar1 = ax1.figure.colorbar(im1, ax=ax1)\n",
    "    cbar1.ax.set_ylabel(\"AUC score\", rotation=-90, va=\"bottom\")\n",
    "\n",
    "    # Add annotations to heatmap 1\n",
    "    for i in range(len(q_list)):\n",
    "        for j in range(len(p_list)):\n",
    "            text = ax1.text(j, i, \"{:.4f}\".format(a1[i, j]), ha=\"center\", va=\"center\", color=\"black\")\n",
    "\n",
    "    # Set axis labels and tick marks for heatmap 1\n",
    "    ax1.set_yticks(np.arange(len(p_list)))\n",
    "    ax1.set_xticks(np.arange(len(q_list)))\n",
    "    ax1.set_yticklabels(p_list)\n",
    "    ax1.set_xticklabels(q_list)\n",
    "    ax1.set_xlabel(\"q value\")\n",
    "    ax1.set_ylabel(\"p value\")\n",
    "\n",
    "    # Rotate tick labels on y-axis\n",
    "    plt.setp(ax1.get_yticklabels(), rotation=0, ha=\"right\", rotation_mode=\"anchor\")\n",
    "\n",
    "    # Show plot\n",
    "    plt.show()"
   ]
  },
  {
   "cell_type": "code",
   "execution_count": 83,
   "metadata": {},
   "outputs": [
    {
     "data": {
      "image/png": "[encoded data removed]",
      "text/plain": [
       "<Figure size 2000x1000 with 2 Axes>"
      ]
     },
     "metadata": {},
     "output_type": "display_data"
    }
   ],
   "source": [
    "corr_heatmap2()"
   ]
  },
  {
   "cell_type": "markdown",
   "metadata": {},
   "source": [
    "You can build model with the best parameters you find and save the prediction here."
   ]
  },
  {
   "cell_type": "code",
   "execution_count": 84,
   "metadata": {},
   "outputs": [
    {
     "name": "stdout",
     "output_type": "stream",
     "text": [
      "building a DeepWalk model...\n",
      "number of walks: 208350\taverage walk length: 14.8359\ttraining time: 65.3953\n"
     ]
    }
   ],
   "source": [
    "model = build_deepwalk(graph, alias_nodes, node_dim=10, num_walks=25, walk_length=15)\n",
    "scores = [get_cosine_sim(model, src, dst) for src, dst in test_edges]\n",
    "write_pred(\"data/pred.csv\", test_edges, scores)"
   ]
  },
  {
   "cell_type": "markdown",
   "metadata": {},
   "source": [
    "With the help of p and q, the node2vec model can fit training data better. And you can have a try if you set p=q=1, the two models will return the same results."
   ]
  }
 ],
 "metadata": {
  "kernelspec": {
   "display_name": "Python 3",
   "language": "python",
   "name": "python3"
  },
  "language_info": {
   "codemirror_mode": {
    "name": "ipython",
    "version": 3
   },
   "file_extension": ".py",
   "mimetype": "text/x-python",
   "name": "python",
   "nbconvert_exporter": "python",
   "pygments_lexer": "ipython3",
   "version": "3.9.13"
  }
 },
 "nbformat": 4,
 "nbformat_minor": 4
}
